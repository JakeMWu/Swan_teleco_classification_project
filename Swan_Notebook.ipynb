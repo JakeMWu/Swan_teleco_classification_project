{
  "cells": [
    {
      "cell_type": "markdown",
      "source": [
        "<p style=\"text-align:center;\">\n",
        "<img src=\"https://i.ibb.co/2M6ZcJg/swanbanner.png\"\n",
        "     alt=\"DigitalFuturesLogo\"\n",
        "     style=\"float: center; margin-right: 10px;\" />\n",
        "</p>\n"
      ],
      "metadata": {
        "id": "UvRjqD5zZPO7"
      },
      "id": "UvRjqD5zZPO7"
    },
    {
      "cell_type": "markdown",
      "id": "cdb90672-21df-439a-a6cb-a250061379fb",
      "metadata": {
        "id": "cdb90672-21df-439a-a6cb-a250061379fb"
      },
      "source": [
        "# Swan Teleco Project\n",
        "----\n",
        "## Team: Swan Hot Encoding\n",
        "----\n",
        "### Project Overview\n",
        "The aim of this project is to build predictive a predictive model in order to predict churn risk from customer data. We will explore the model options available to use and evaluate which is most appropriate based on the data provided to us by Swan Teleco.\n",
        "\n",
        "### Deliverables\n",
        "* Information Deck\n",
        "* List of 500 customers most likely to churn\n",
        "* Churn probability for the remaining customers\n",
        "\n",
        "### Team Members\n",
        "* George Brignell-Cash\n",
        "* Conor Mckenna-Cuthbert\n",
        "* Jake Haycocks"
      ]
    },
    {
      "cell_type": "markdown",
      "id": "7c3241d0-fe3f-4091-9a9f-cbb2735f6ba7",
      "metadata": {
        "id": "7c3241d0-fe3f-4091-9a9f-cbb2735f6ba7"
      },
      "source": [
        "----\n",
        "# Table of Contents\n",
        "----\n",
        "1. DATA CLEANING\n",
        "  - 1.1 Importing Packages, Data and Functions\n",
        "  - 1.2 Cleaning\n",
        "2. EDA\n",
        "  - 2.1 Service and subscriptions\n",
        "  - 2.2 Churner feedback\n",
        "  - 2.3 General Analysis\n",
        "3. Test/Train Split\n",
        "4. Feature Engineering\n",
        "5. Our Models\n",
        "  - 5.1 Initial Feature Analysis and Selection\n",
        "  - 5.2 Decision Tree\n",
        "    - 5.2.1 Model Training\n",
        "    - 5.2.2 Model Evaluation\n",
        "  - 5.3 Random Forest\n",
        "    - 5.3.1 Model Training\n",
        "    - 5.3.2 Model Evaluation\n",
        "  - 5.4 Random Forest with SMOTE Oversampling\n",
        "    - 5.4.1 Model Training and Oversampling\n",
        "    - 5.4.2 Model Evaluation\n",
        "  - 5.5 Logistic Regression\n",
        "    - 5.5.1 Model Training SKLearn\n",
        "    - 5.5.2 Model Evaluation SKLearn\n",
        "    - 5.5.3 Model Training Statsmodels\n",
        "    - 5.5.4 Model Evaluation Statsmodels\n",
        "  - 5.6 Model Selection\n",
        "6. List Creation\n",
        "  - 6.1 Formatting\n",
        "  - 6.2 Exporting\n",
        "5. Exploring Incentives\n",
        "  - 7.1 Top 500 at-risk Customers\n",
        "  - 7.2 Discounts to Monthly Rate\n",
        "  - 7.3 Internet Service Offers\n",
        "  - 7.4 Changes in Contract\n",
        "  - 7.5 Misc."
      ]
    },
    {
      "cell_type": "markdown",
      "id": "ccac4b97-77bc-40d1-afd7-8e0bb01f482b",
      "metadata": {
        "id": "ccac4b97-77bc-40d1-afd7-8e0bb01f482b"
      },
      "source": [
        "----\n",
        "# 1.0 Data Cleaning\n",
        "----"
      ]
    },
    {
      "cell_type": "markdown",
      "source": [
        "## 1.1 Importing Packages, Data and Functions"
      ],
      "metadata": {
        "id": "DHLmwDL5E1Zi"
      },
      "id": "DHLmwDL5E1Zi"
    },
    {
      "cell_type": "code",
      "source": [
        "pip install squarify"
      ],
      "metadata": {
        "colab": {
          "base_uri": "https://localhost:8080/"
        },
        "id": "82Hd28h_HoH8",
        "outputId": "7940a965-d3aa-4f88-f1e2-190894c8beb0"
      },
      "id": "82Hd28h_HoH8",
      "execution_count": null,
      "outputs": [
        {
          "output_type": "stream",
          "name": "stdout",
          "text": [
            "Collecting squarify\n",
            "  Downloading squarify-0.4.3-py3-none-any.whl (4.3 kB)\n",
            "Installing collected packages: squarify\n",
            "Successfully installed squarify-0.4.3\n"
          ]
        }
      ]
    },
    {
      "cell_type": "code",
      "execution_count": null,
      "id": "29cfadef-4046-45a3-a9c4-5d1d0639f1c2",
      "metadata": {
        "id": "29cfadef-4046-45a3-a9c4-5d1d0639f1c2"
      },
      "outputs": [],
      "source": [
        "# The usual suspects\n",
        "import pandas as pd\n",
        "import matplotlib.pyplot as plt\n",
        "import seaborn as sns\n",
        "import numpy as np\n",
        "\n",
        "# Other visualization\n",
        "import squarify\n",
        "\n",
        "# train/test split, scaling metrics from sklearn\n",
        "from sklearn.model_selection import train_test_split\n",
        "from sklearn import metrics\n",
        "from sklearn.preprocessing import StandardScaler\n",
        "\n",
        "# logistic regression\n",
        "from sklearn.linear_model import LogisticRegression\n",
        "import statsmodels.api as sm\n",
        "\n",
        "# decision tree\n",
        "from sklearn.tree import DecisionTreeClassifier\n",
        "from sklearn import tree\n",
        "from sklearn.model_selection import GridSearchCV\n",
        "from sklearn.ensemble import RandomForestClassifier"
      ]
    },
    {
      "cell_type": "code",
      "source": [
        "# seaborn style settings\n",
        "sns.set(style=\"darkgrid\")\n",
        "sns.set_context(\"notebook\")\n",
        "sns.set_palette(\"Spectral_r\")"
      ],
      "metadata": {
        "id": "JW9eNA00MoX2"
      },
      "id": "JW9eNA00MoX2",
      "execution_count": null,
      "outputs": []
    },
    {
      "cell_type": "code",
      "source": [
        "def get_vc_columns(df, x):\n",
        "    \"\"\"\n",
        "    Takes a pandas dataframe and returns a list of columns which have x different values in that column\n",
        "    \"\"\"\n",
        "    columns = df.columns\n",
        "    num_columns = []\n",
        "    for column in columns:\n",
        "        if df[column].value_counts().shape[0] == x:\n",
        "            num_columns.append(column)\n",
        "    return num_columns"
      ],
      "metadata": {
        "id": "CzHtMsDrRJWK"
      },
      "id": "CzHtMsDrRJWK",
      "execution_count": null,
      "outputs": []
    },
    {
      "cell_type": "markdown",
      "source": [
        "## 1.2 Cleaning"
      ],
      "metadata": {
        "id": "pfvVXepbgBf-"
      },
      "id": "pfvVXepbgBf-"
    },
    {
      "cell_type": "code",
      "execution_count": null,
      "id": "db9a1274-4e08-442a-b611-419a4395a769",
      "metadata": {
        "colab": {
          "base_uri": "https://localhost:8080/",
          "height": 382
        },
        "id": "db9a1274-4e08-442a-b611-419a4395a769",
        "outputId": "bf7b861b-fdbd-44ac-c3c6-a825859f6047"
      },
      "outputs": [
        {
          "output_type": "stream",
          "name": "stdout",
          "text": [
            "(7043, 31)\n"
          ]
        },
        {
          "output_type": "execute_result",
          "data": {
            "text/plain": [
              "   CustomerID  Count        Country       State         City  Zip Code  \\\n",
              "0  3668-QPYBK      1  United States  California  Los Angeles     90003   \n",
              "1  9237-HQITU      1  United States  California  Los Angeles     90005   \n",
              "2  9305-CDSKC      1  United States  California  Los Angeles     90006   \n",
              "3  7892-POOKP      1  United States  California  Los Angeles     90010   \n",
              "4  0280-XJGEX      1  United States  California  Los Angeles     90015   \n",
              "\n",
              "                 Lat Long   Latitude   Longitude  Gender Senior Citizen  \\\n",
              "0  33.964131, -118.272783  33.964131 -118.272783    Male             No   \n",
              "1   34.059281, -118.30742  34.059281 -118.307420  Female             No   \n",
              "2  34.048013, -118.293953  34.048013 -118.293953  Female             No   \n",
              "3  34.062125, -118.315709  34.062125 -118.315709  Female             No   \n",
              "4  34.039224, -118.266293  34.039224 -118.266293    Male             No   \n",
              "\n",
              "  Partner Dependents  Tenure Months Phone Service Multiple Lines  \\\n",
              "0      No         No              2           Yes             No   \n",
              "1      No        Yes              2           Yes             No   \n",
              "2      No        Yes              8           Yes            Yes   \n",
              "3     Yes        Yes             28           Yes            Yes   \n",
              "4      No        Yes             49           Yes            Yes   \n",
              "\n",
              "  Internet Service Online Security Online Backup Device Protection  \\\n",
              "0              DSL             Yes           Yes                No   \n",
              "1      Fiber optic              No            No                No   \n",
              "2      Fiber optic              No            No               Yes   \n",
              "3      Fiber optic              No            No               Yes   \n",
              "4      Fiber optic              No           Yes               Yes   \n",
              "\n",
              "  Tech Support Streaming TV Streaming Movies        Contract  \\\n",
              "0           No           No               No  Month-to-month   \n",
              "1           No           No               No  Month-to-month   \n",
              "2           No          Yes              Yes  Month-to-month   \n",
              "3          Yes          Yes              Yes  Month-to-month   \n",
              "4           No          Yes              Yes  Month-to-month   \n",
              "\n",
              "  Paperless Billing             Payment Method  Monthly Charges Total Charges  \\\n",
              "0               Yes               Mailed check            53.85        108.15   \n",
              "1               Yes           Electronic check            70.70        151.65   \n",
              "2               Yes           Electronic check            99.65         820.5   \n",
              "3               Yes           Electronic check           104.80       3046.05   \n",
              "4               Yes  Bank transfer (automatic)           103.70        5036.3   \n",
              "\n",
              "  Churn Label  Churn Value                   Churn Reason  \n",
              "0         Yes            1   Competitor made better offer  \n",
              "1         Yes            1                          Moved  \n",
              "2         Yes            1                          Moved  \n",
              "3         Yes            1                          Moved  \n",
              "4         Yes            1  Competitor had better devices  "
            ],
            "text/html": [
              "\n",
              "  <div id=\"df-32f70272-2221-4be2-aefc-0395d7d6660e\" class=\"colab-df-container\">\n",
              "    <div>\n",
              "<style scoped>\n",
              "    .dataframe tbody tr th:only-of-type {\n",
              "        vertical-align: middle;\n",
              "    }\n",
              "\n",
              "    .dataframe tbody tr th {\n",
              "        vertical-align: top;\n",
              "    }\n",
              "\n",
              "    .dataframe thead th {\n",
              "        text-align: right;\n",
              "    }\n",
              "</style>\n",
              "<table border=\"1\" class=\"dataframe\">\n",
              "  <thead>\n",
              "    <tr style=\"text-align: right;\">\n",
              "      <th></th>\n",
              "      <th>CustomerID</th>\n",
              "      <th>Count</th>\n",
              "      <th>Country</th>\n",
              "      <th>State</th>\n",
              "      <th>City</th>\n",
              "      <th>Zip Code</th>\n",
              "      <th>Lat Long</th>\n",
              "      <th>Latitude</th>\n",
              "      <th>Longitude</th>\n",
              "      <th>Gender</th>\n",
              "      <th>Senior Citizen</th>\n",
              "      <th>Partner</th>\n",
              "      <th>Dependents</th>\n",
              "      <th>Tenure Months</th>\n",
              "      <th>Phone Service</th>\n",
              "      <th>Multiple Lines</th>\n",
              "      <th>Internet Service</th>\n",
              "      <th>Online Security</th>\n",
              "      <th>Online Backup</th>\n",
              "      <th>Device Protection</th>\n",
              "      <th>Tech Support</th>\n",
              "      <th>Streaming TV</th>\n",
              "      <th>Streaming Movies</th>\n",
              "      <th>Contract</th>\n",
              "      <th>Paperless Billing</th>\n",
              "      <th>Payment Method</th>\n",
              "      <th>Monthly Charges</th>\n",
              "      <th>Total Charges</th>\n",
              "      <th>Churn Label</th>\n",
              "      <th>Churn Value</th>\n",
              "      <th>Churn Reason</th>\n",
              "    </tr>\n",
              "  </thead>\n",
              "  <tbody>\n",
              "    <tr>\n",
              "      <th>0</th>\n",
              "      <td>3668-QPYBK</td>\n",
              "      <td>1</td>\n",
              "      <td>United States</td>\n",
              "      <td>California</td>\n",
              "      <td>Los Angeles</td>\n",
              "      <td>90003</td>\n",
              "      <td>33.964131, -118.272783</td>\n",
              "      <td>33.964131</td>\n",
              "      <td>-118.272783</td>\n",
              "      <td>Male</td>\n",
              "      <td>No</td>\n",
              "      <td>No</td>\n",
              "      <td>No</td>\n",
              "      <td>2</td>\n",
              "      <td>Yes</td>\n",
              "      <td>No</td>\n",
              "      <td>DSL</td>\n",
              "      <td>Yes</td>\n",
              "      <td>Yes</td>\n",
              "      <td>No</td>\n",
              "      <td>No</td>\n",
              "      <td>No</td>\n",
              "      <td>No</td>\n",
              "      <td>Month-to-month</td>\n",
              "      <td>Yes</td>\n",
              "      <td>Mailed check</td>\n",
              "      <td>53.85</td>\n",
              "      <td>108.15</td>\n",
              "      <td>Yes</td>\n",
              "      <td>1</td>\n",
              "      <td>Competitor made better offer</td>\n",
              "    </tr>\n",
              "    <tr>\n",
              "      <th>1</th>\n",
              "      <td>9237-HQITU</td>\n",
              "      <td>1</td>\n",
              "      <td>United States</td>\n",
              "      <td>California</td>\n",
              "      <td>Los Angeles</td>\n",
              "      <td>90005</td>\n",
              "      <td>34.059281, -118.30742</td>\n",
              "      <td>34.059281</td>\n",
              "      <td>-118.307420</td>\n",
              "      <td>Female</td>\n",
              "      <td>No</td>\n",
              "      <td>No</td>\n",
              "      <td>Yes</td>\n",
              "      <td>2</td>\n",
              "      <td>Yes</td>\n",
              "      <td>No</td>\n",
              "      <td>Fiber optic</td>\n",
              "      <td>No</td>\n",
              "      <td>No</td>\n",
              "      <td>No</td>\n",
              "      <td>No</td>\n",
              "      <td>No</td>\n",
              "      <td>No</td>\n",
              "      <td>Month-to-month</td>\n",
              "      <td>Yes</td>\n",
              "      <td>Electronic check</td>\n",
              "      <td>70.70</td>\n",
              "      <td>151.65</td>\n",
              "      <td>Yes</td>\n",
              "      <td>1</td>\n",
              "      <td>Moved</td>\n",
              "    </tr>\n",
              "    <tr>\n",
              "      <th>2</th>\n",
              "      <td>9305-CDSKC</td>\n",
              "      <td>1</td>\n",
              "      <td>United States</td>\n",
              "      <td>California</td>\n",
              "      <td>Los Angeles</td>\n",
              "      <td>90006</td>\n",
              "      <td>34.048013, -118.293953</td>\n",
              "      <td>34.048013</td>\n",
              "      <td>-118.293953</td>\n",
              "      <td>Female</td>\n",
              "      <td>No</td>\n",
              "      <td>No</td>\n",
              "      <td>Yes</td>\n",
              "      <td>8</td>\n",
              "      <td>Yes</td>\n",
              "      <td>Yes</td>\n",
              "      <td>Fiber optic</td>\n",
              "      <td>No</td>\n",
              "      <td>No</td>\n",
              "      <td>Yes</td>\n",
              "      <td>No</td>\n",
              "      <td>Yes</td>\n",
              "      <td>Yes</td>\n",
              "      <td>Month-to-month</td>\n",
              "      <td>Yes</td>\n",
              "      <td>Electronic check</td>\n",
              "      <td>99.65</td>\n",
              "      <td>820.5</td>\n",
              "      <td>Yes</td>\n",
              "      <td>1</td>\n",
              "      <td>Moved</td>\n",
              "    </tr>\n",
              "    <tr>\n",
              "      <th>3</th>\n",
              "      <td>7892-POOKP</td>\n",
              "      <td>1</td>\n",
              "      <td>United States</td>\n",
              "      <td>California</td>\n",
              "      <td>Los Angeles</td>\n",
              "      <td>90010</td>\n",
              "      <td>34.062125, -118.315709</td>\n",
              "      <td>34.062125</td>\n",
              "      <td>-118.315709</td>\n",
              "      <td>Female</td>\n",
              "      <td>No</td>\n",
              "      <td>Yes</td>\n",
              "      <td>Yes</td>\n",
              "      <td>28</td>\n",
              "      <td>Yes</td>\n",
              "      <td>Yes</td>\n",
              "      <td>Fiber optic</td>\n",
              "      <td>No</td>\n",
              "      <td>No</td>\n",
              "      <td>Yes</td>\n",
              "      <td>Yes</td>\n",
              "      <td>Yes</td>\n",
              "      <td>Yes</td>\n",
              "      <td>Month-to-month</td>\n",
              "      <td>Yes</td>\n",
              "      <td>Electronic check</td>\n",
              "      <td>104.80</td>\n",
              "      <td>3046.05</td>\n",
              "      <td>Yes</td>\n",
              "      <td>1</td>\n",
              "      <td>Moved</td>\n",
              "    </tr>\n",
              "    <tr>\n",
              "      <th>4</th>\n",
              "      <td>0280-XJGEX</td>\n",
              "      <td>1</td>\n",
              "      <td>United States</td>\n",
              "      <td>California</td>\n",
              "      <td>Los Angeles</td>\n",
              "      <td>90015</td>\n",
              "      <td>34.039224, -118.266293</td>\n",
              "      <td>34.039224</td>\n",
              "      <td>-118.266293</td>\n",
              "      <td>Male</td>\n",
              "      <td>No</td>\n",
              "      <td>No</td>\n",
              "      <td>Yes</td>\n",
              "      <td>49</td>\n",
              "      <td>Yes</td>\n",
              "      <td>Yes</td>\n",
              "      <td>Fiber optic</td>\n",
              "      <td>No</td>\n",
              "      <td>Yes</td>\n",
              "      <td>Yes</td>\n",
              "      <td>No</td>\n",
              "      <td>Yes</td>\n",
              "      <td>Yes</td>\n",
              "      <td>Month-to-month</td>\n",
              "      <td>Yes</td>\n",
              "      <td>Bank transfer (automatic)</td>\n",
              "      <td>103.70</td>\n",
              "      <td>5036.3</td>\n",
              "      <td>Yes</td>\n",
              "      <td>1</td>\n",
              "      <td>Competitor had better devices</td>\n",
              "    </tr>\n",
              "  </tbody>\n",
              "</table>\n",
              "</div>\n",
              "    <div class=\"colab-df-buttons\">\n",
              "\n",
              "  <div class=\"colab-df-container\">\n",
              "    <button class=\"colab-df-convert\" onclick=\"convertToInteractive('df-32f70272-2221-4be2-aefc-0395d7d6660e')\"\n",
              "            title=\"Convert this dataframe to an interactive table.\"\n",
              "            style=\"display:none;\">\n",
              "\n",
              "  <svg xmlns=\"http://www.w3.org/2000/svg\" height=\"24px\" viewBox=\"0 -960 960 960\">\n",
              "    <path d=\"M120-120v-720h720v720H120Zm60-500h600v-160H180v160Zm220 220h160v-160H400v160Zm0 220h160v-160H400v160ZM180-400h160v-160H180v160Zm440 0h160v-160H620v160ZM180-180h160v-160H180v160Zm440 0h160v-160H620v160Z\"/>\n",
              "  </svg>\n",
              "    </button>\n",
              "\n",
              "  <style>\n",
              "    .colab-df-container {\n",
              "      display:flex;\n",
              "      gap: 12px;\n",
              "    }\n",
              "\n",
              "    .colab-df-convert {\n",
              "      background-color: #E8F0FE;\n",
              "      border: none;\n",
              "      border-radius: 50%;\n",
              "      cursor: pointer;\n",
              "      display: none;\n",
              "      fill: #1967D2;\n",
              "      height: 32px;\n",
              "      padding: 0 0 0 0;\n",
              "      width: 32px;\n",
              "    }\n",
              "\n",
              "    .colab-df-convert:hover {\n",
              "      background-color: #E2EBFA;\n",
              "      box-shadow: 0px 1px 2px rgba(60, 64, 67, 0.3), 0px 1px 3px 1px rgba(60, 64, 67, 0.15);\n",
              "      fill: #174EA6;\n",
              "    }\n",
              "\n",
              "    .colab-df-buttons div {\n",
              "      margin-bottom: 4px;\n",
              "    }\n",
              "\n",
              "    [theme=dark] .colab-df-convert {\n",
              "      background-color: #3B4455;\n",
              "      fill: #D2E3FC;\n",
              "    }\n",
              "\n",
              "    [theme=dark] .colab-df-convert:hover {\n",
              "      background-color: #434B5C;\n",
              "      box-shadow: 0px 1px 3px 1px rgba(0, 0, 0, 0.15);\n",
              "      filter: drop-shadow(0px 1px 2px rgba(0, 0, 0, 0.3));\n",
              "      fill: #FFFFFF;\n",
              "    }\n",
              "  </style>\n",
              "\n",
              "    <script>\n",
              "      const buttonEl =\n",
              "        document.querySelector('#df-32f70272-2221-4be2-aefc-0395d7d6660e button.colab-df-convert');\n",
              "      buttonEl.style.display =\n",
              "        google.colab.kernel.accessAllowed ? 'block' : 'none';\n",
              "\n",
              "      async function convertToInteractive(key) {\n",
              "        const element = document.querySelector('#df-32f70272-2221-4be2-aefc-0395d7d6660e');\n",
              "        const dataTable =\n",
              "          await google.colab.kernel.invokeFunction('convertToInteractive',\n",
              "                                                    [key], {});\n",
              "        if (!dataTable) return;\n",
              "\n",
              "        const docLinkHtml = 'Like what you see? Visit the ' +\n",
              "          '<a target=\"_blank\" href=https://colab.research.google.com/notebooks/data_table.ipynb>data table notebook</a>'\n",
              "          + ' to learn more about interactive tables.';\n",
              "        element.innerHTML = '';\n",
              "        dataTable['output_type'] = 'display_data';\n",
              "        await google.colab.output.renderOutput(dataTable, element);\n",
              "        const docLink = document.createElement('div');\n",
              "        docLink.innerHTML = docLinkHtml;\n",
              "        element.appendChild(docLink);\n",
              "      }\n",
              "    </script>\n",
              "  </div>\n",
              "\n",
              "\n",
              "<div id=\"df-9439c737-03ff-434b-a001-cee8641c79fc\">\n",
              "  <button class=\"colab-df-quickchart\" onclick=\"quickchart('df-9439c737-03ff-434b-a001-cee8641c79fc')\"\n",
              "            title=\"Suggest charts\"\n",
              "            style=\"display:none;\">\n",
              "\n",
              "<svg xmlns=\"http://www.w3.org/2000/svg\" height=\"24px\"viewBox=\"0 0 24 24\"\n",
              "     width=\"24px\">\n",
              "    <g>\n",
              "        <path d=\"M19 3H5c-1.1 0-2 .9-2 2v14c0 1.1.9 2 2 2h14c1.1 0 2-.9 2-2V5c0-1.1-.9-2-2-2zM9 17H7v-7h2v7zm4 0h-2V7h2v10zm4 0h-2v-4h2v4z\"/>\n",
              "    </g>\n",
              "</svg>\n",
              "  </button>\n",
              "\n",
              "<style>\n",
              "  .colab-df-quickchart {\n",
              "      --bg-color: #E8F0FE;\n",
              "      --fill-color: #1967D2;\n",
              "      --hover-bg-color: #E2EBFA;\n",
              "      --hover-fill-color: #174EA6;\n",
              "      --disabled-fill-color: #AAA;\n",
              "      --disabled-bg-color: #DDD;\n",
              "  }\n",
              "\n",
              "  [theme=dark] .colab-df-quickchart {\n",
              "      --bg-color: #3B4455;\n",
              "      --fill-color: #D2E3FC;\n",
              "      --hover-bg-color: #434B5C;\n",
              "      --hover-fill-color: #FFFFFF;\n",
              "      --disabled-bg-color: #3B4455;\n",
              "      --disabled-fill-color: #666;\n",
              "  }\n",
              "\n",
              "  .colab-df-quickchart {\n",
              "    background-color: var(--bg-color);\n",
              "    border: none;\n",
              "    border-radius: 50%;\n",
              "    cursor: pointer;\n",
              "    display: none;\n",
              "    fill: var(--fill-color);\n",
              "    height: 32px;\n",
              "    padding: 0;\n",
              "    width: 32px;\n",
              "  }\n",
              "\n",
              "  .colab-df-quickchart:hover {\n",
              "    background-color: var(--hover-bg-color);\n",
              "    box-shadow: 0 1px 2px rgba(60, 64, 67, 0.3), 0 1px 3px 1px rgba(60, 64, 67, 0.15);\n",
              "    fill: var(--button-hover-fill-color);\n",
              "  }\n",
              "\n",
              "  .colab-df-quickchart-complete:disabled,\n",
              "  .colab-df-quickchart-complete:disabled:hover {\n",
              "    background-color: var(--disabled-bg-color);\n",
              "    fill: var(--disabled-fill-color);\n",
              "    box-shadow: none;\n",
              "  }\n",
              "\n",
              "  .colab-df-spinner {\n",
              "    border: 2px solid var(--fill-color);\n",
              "    border-color: transparent;\n",
              "    border-bottom-color: var(--fill-color);\n",
              "    animation:\n",
              "      spin 1s steps(1) infinite;\n",
              "  }\n",
              "\n",
              "  @keyframes spin {\n",
              "    0% {\n",
              "      border-color: transparent;\n",
              "      border-bottom-color: var(--fill-color);\n",
              "      border-left-color: var(--fill-color);\n",
              "    }\n",
              "    20% {\n",
              "      border-color: transparent;\n",
              "      border-left-color: var(--fill-color);\n",
              "      border-top-color: var(--fill-color);\n",
              "    }\n",
              "    30% {\n",
              "      border-color: transparent;\n",
              "      border-left-color: var(--fill-color);\n",
              "      border-top-color: var(--fill-color);\n",
              "      border-right-color: var(--fill-color);\n",
              "    }\n",
              "    40% {\n",
              "      border-color: transparent;\n",
              "      border-right-color: var(--fill-color);\n",
              "      border-top-color: var(--fill-color);\n",
              "    }\n",
              "    60% {\n",
              "      border-color: transparent;\n",
              "      border-right-color: var(--fill-color);\n",
              "    }\n",
              "    80% {\n",
              "      border-color: transparent;\n",
              "      border-right-color: var(--fill-color);\n",
              "      border-bottom-color: var(--fill-color);\n",
              "    }\n",
              "    90% {\n",
              "      border-color: transparent;\n",
              "      border-bottom-color: var(--fill-color);\n",
              "    }\n",
              "  }\n",
              "</style>\n",
              "\n",
              "  <script>\n",
              "    async function quickchart(key) {\n",
              "      const quickchartButtonEl =\n",
              "        document.querySelector('#' + key + ' button');\n",
              "      quickchartButtonEl.disabled = true;  // To prevent multiple clicks.\n",
              "      quickchartButtonEl.classList.add('colab-df-spinner');\n",
              "      try {\n",
              "        const charts = await google.colab.kernel.invokeFunction(\n",
              "            'suggestCharts', [key], {});\n",
              "      } catch (error) {\n",
              "        console.error('Error during call to suggestCharts:', error);\n",
              "      }\n",
              "      quickchartButtonEl.classList.remove('colab-df-spinner');\n",
              "      quickchartButtonEl.classList.add('colab-df-quickchart-complete');\n",
              "    }\n",
              "    (() => {\n",
              "      let quickchartButtonEl =\n",
              "        document.querySelector('#df-9439c737-03ff-434b-a001-cee8641c79fc button');\n",
              "      quickchartButtonEl.style.display =\n",
              "        google.colab.kernel.accessAllowed ? 'block' : 'none';\n",
              "    })();\n",
              "  </script>\n",
              "</div>\n",
              "    </div>\n",
              "  </div>\n"
            ],
            "application/vnd.google.colaboratory.intrinsic+json": {
              "type": "dataframe",
              "variable_name": "df"
            }
          },
          "metadata": {},
          "execution_count": 7
        }
      ],
      "source": [
        "pd.set_option('display.max_columns', None)\n",
        "\n",
        "#df = pd.read_csv('Telco_Churn.csv')\n",
        "df = pd.read_excel('1_-_Project_Data.xlsx')# Take a look at the df\n",
        "print(df.shape)\n",
        "df.head()"
      ]
    },
    {
      "cell_type": "code",
      "execution_count": null,
      "id": "9ba3d799-c4b2-4644-bcc7-eb39f5832e29",
      "metadata": {
        "id": "9ba3d799-c4b2-4644-bcc7-eb39f5832e29",
        "outputId": "3435e9e8-7597-45a9-d975-9a325d0e62af",
        "colab": {
          "base_uri": "https://localhost:8080/"
        }
      },
      "outputs": [
        {
          "output_type": "execute_result",
          "data": {
            "text/plain": [
              "CustomerID              0\n",
              "Count                   0\n",
              "Country                 0\n",
              "State                   0\n",
              "City                    0\n",
              "Zip Code                0\n",
              "Lat Long                0\n",
              "Latitude                0\n",
              "Longitude               0\n",
              "Gender                  0\n",
              "Senior Citizen          0\n",
              "Partner                 0\n",
              "Dependents              0\n",
              "Tenure Months           0\n",
              "Phone Service           0\n",
              "Multiple Lines          0\n",
              "Internet Service        0\n",
              "Online Security         0\n",
              "Online Backup           0\n",
              "Device Protection       0\n",
              "Tech Support            0\n",
              "Streaming TV            0\n",
              "Streaming Movies        0\n",
              "Contract                0\n",
              "Paperless Billing       0\n",
              "Payment Method          0\n",
              "Monthly Charges         0\n",
              "Total Charges           0\n",
              "Churn Label             0\n",
              "Churn Value             0\n",
              "Churn Reason         5174\n",
              "dtype: int64"
            ]
          },
          "metadata": {},
          "execution_count": 6
        }
      ],
      "source": [
        "df.isna().sum()"
      ]
    },
    {
      "cell_type": "code",
      "execution_count": null,
      "id": "f2bdf22f-270c-43ab-8417-742c6d545b2a",
      "metadata": {
        "id": "f2bdf22f-270c-43ab-8417-742c6d545b2a",
        "outputId": "99fef505-6ba1-4f89-b7bb-be5c3966a5bb",
        "colab": {
          "base_uri": "https://localhost:8080/",
          "height": 300
        }
      },
      "outputs": [
        {
          "output_type": "execute_result",
          "data": {
            "text/plain": [
              "        Count      Zip Code     Latitude    Longitude  Tenure Months  \\\n",
              "count  7043.0   7043.000000  7043.000000  7043.000000    7043.000000   \n",
              "mean      1.0  93521.964646    36.282441  -119.798880      32.371149   \n",
              "std       0.0   1865.794555     2.455723     2.157889      24.559481   \n",
              "min       1.0  90001.000000    32.555828  -124.301372       0.000000   \n",
              "25%       1.0  92102.000000    34.030915  -121.815412       9.000000   \n",
              "50%       1.0  93552.000000    36.391777  -119.730885      29.000000   \n",
              "75%       1.0  95351.000000    38.224869  -118.043237      55.000000   \n",
              "max       1.0  96161.000000    41.962127  -114.192901      72.000000   \n",
              "\n",
              "       Monthly Charges  Churn Value  \n",
              "count      7043.000000  7043.000000  \n",
              "mean         64.761692     0.265370  \n",
              "std          30.090047     0.441561  \n",
              "min          18.250000     0.000000  \n",
              "25%          35.500000     0.000000  \n",
              "50%          70.350000     0.000000  \n",
              "75%          89.850000     1.000000  \n",
              "max         118.750000     1.000000  "
            ],
            "text/html": [
              "\n",
              "  <div id=\"df-b2257ec9-f5a6-43f1-a972-a781addc9198\" class=\"colab-df-container\">\n",
              "    <div>\n",
              "<style scoped>\n",
              "    .dataframe tbody tr th:only-of-type {\n",
              "        vertical-align: middle;\n",
              "    }\n",
              "\n",
              "    .dataframe tbody tr th {\n",
              "        vertical-align: top;\n",
              "    }\n",
              "\n",
              "    .dataframe thead th {\n",
              "        text-align: right;\n",
              "    }\n",
              "</style>\n",
              "<table border=\"1\" class=\"dataframe\">\n",
              "  <thead>\n",
              "    <tr style=\"text-align: right;\">\n",
              "      <th></th>\n",
              "      <th>Count</th>\n",
              "      <th>Zip Code</th>\n",
              "      <th>Latitude</th>\n",
              "      <th>Longitude</th>\n",
              "      <th>Tenure Months</th>\n",
              "      <th>Monthly Charges</th>\n",
              "      <th>Churn Value</th>\n",
              "    </tr>\n",
              "  </thead>\n",
              "  <tbody>\n",
              "    <tr>\n",
              "      <th>count</th>\n",
              "      <td>7043.0</td>\n",
              "      <td>7043.000000</td>\n",
              "      <td>7043.000000</td>\n",
              "      <td>7043.000000</td>\n",
              "      <td>7043.000000</td>\n",
              "      <td>7043.000000</td>\n",
              "      <td>7043.000000</td>\n",
              "    </tr>\n",
              "    <tr>\n",
              "      <th>mean</th>\n",
              "      <td>1.0</td>\n",
              "      <td>93521.964646</td>\n",
              "      <td>36.282441</td>\n",
              "      <td>-119.798880</td>\n",
              "      <td>32.371149</td>\n",
              "      <td>64.761692</td>\n",
              "      <td>0.265370</td>\n",
              "    </tr>\n",
              "    <tr>\n",
              "      <th>std</th>\n",
              "      <td>0.0</td>\n",
              "      <td>1865.794555</td>\n",
              "      <td>2.455723</td>\n",
              "      <td>2.157889</td>\n",
              "      <td>24.559481</td>\n",
              "      <td>30.090047</td>\n",
              "      <td>0.441561</td>\n",
              "    </tr>\n",
              "    <tr>\n",
              "      <th>min</th>\n",
              "      <td>1.0</td>\n",
              "      <td>90001.000000</td>\n",
              "      <td>32.555828</td>\n",
              "      <td>-124.301372</td>\n",
              "      <td>0.000000</td>\n",
              "      <td>18.250000</td>\n",
              "      <td>0.000000</td>\n",
              "    </tr>\n",
              "    <tr>\n",
              "      <th>25%</th>\n",
              "      <td>1.0</td>\n",
              "      <td>92102.000000</td>\n",
              "      <td>34.030915</td>\n",
              "      <td>-121.815412</td>\n",
              "      <td>9.000000</td>\n",
              "      <td>35.500000</td>\n",
              "      <td>0.000000</td>\n",
              "    </tr>\n",
              "    <tr>\n",
              "      <th>50%</th>\n",
              "      <td>1.0</td>\n",
              "      <td>93552.000000</td>\n",
              "      <td>36.391777</td>\n",
              "      <td>-119.730885</td>\n",
              "      <td>29.000000</td>\n",
              "      <td>70.350000</td>\n",
              "      <td>0.000000</td>\n",
              "    </tr>\n",
              "    <tr>\n",
              "      <th>75%</th>\n",
              "      <td>1.0</td>\n",
              "      <td>95351.000000</td>\n",
              "      <td>38.224869</td>\n",
              "      <td>-118.043237</td>\n",
              "      <td>55.000000</td>\n",
              "      <td>89.850000</td>\n",
              "      <td>1.000000</td>\n",
              "    </tr>\n",
              "    <tr>\n",
              "      <th>max</th>\n",
              "      <td>1.0</td>\n",
              "      <td>96161.000000</td>\n",
              "      <td>41.962127</td>\n",
              "      <td>-114.192901</td>\n",
              "      <td>72.000000</td>\n",
              "      <td>118.750000</td>\n",
              "      <td>1.000000</td>\n",
              "    </tr>\n",
              "  </tbody>\n",
              "</table>\n",
              "</div>\n",
              "    <div class=\"colab-df-buttons\">\n",
              "\n",
              "  <div class=\"colab-df-container\">\n",
              "    <button class=\"colab-df-convert\" onclick=\"convertToInteractive('df-b2257ec9-f5a6-43f1-a972-a781addc9198')\"\n",
              "            title=\"Convert this dataframe to an interactive table.\"\n",
              "            style=\"display:none;\">\n",
              "\n",
              "  <svg xmlns=\"http://www.w3.org/2000/svg\" height=\"24px\" viewBox=\"0 -960 960 960\">\n",
              "    <path d=\"M120-120v-720h720v720H120Zm60-500h600v-160H180v160Zm220 220h160v-160H400v160Zm0 220h160v-160H400v160ZM180-400h160v-160H180v160Zm440 0h160v-160H620v160ZM180-180h160v-160H180v160Zm440 0h160v-160H620v160Z\"/>\n",
              "  </svg>\n",
              "    </button>\n",
              "\n",
              "  <style>\n",
              "    .colab-df-container {\n",
              "      display:flex;\n",
              "      gap: 12px;\n",
              "    }\n",
              "\n",
              "    .colab-df-convert {\n",
              "      background-color: #E8F0FE;\n",
              "      border: none;\n",
              "      border-radius: 50%;\n",
              "      cursor: pointer;\n",
              "      display: none;\n",
              "      fill: #1967D2;\n",
              "      height: 32px;\n",
              "      padding: 0 0 0 0;\n",
              "      width: 32px;\n",
              "    }\n",
              "\n",
              "    .colab-df-convert:hover {\n",
              "      background-color: #E2EBFA;\n",
              "      box-shadow: 0px 1px 2px rgba(60, 64, 67, 0.3), 0px 1px 3px 1px rgba(60, 64, 67, 0.15);\n",
              "      fill: #174EA6;\n",
              "    }\n",
              "\n",
              "    .colab-df-buttons div {\n",
              "      margin-bottom: 4px;\n",
              "    }\n",
              "\n",
              "    [theme=dark] .colab-df-convert {\n",
              "      background-color: #3B4455;\n",
              "      fill: #D2E3FC;\n",
              "    }\n",
              "\n",
              "    [theme=dark] .colab-df-convert:hover {\n",
              "      background-color: #434B5C;\n",
              "      box-shadow: 0px 1px 3px 1px rgba(0, 0, 0, 0.15);\n",
              "      filter: drop-shadow(0px 1px 2px rgba(0, 0, 0, 0.3));\n",
              "      fill: #FFFFFF;\n",
              "    }\n",
              "  </style>\n",
              "\n",
              "    <script>\n",
              "      const buttonEl =\n",
              "        document.querySelector('#df-b2257ec9-f5a6-43f1-a972-a781addc9198 button.colab-df-convert');\n",
              "      buttonEl.style.display =\n",
              "        google.colab.kernel.accessAllowed ? 'block' : 'none';\n",
              "\n",
              "      async function convertToInteractive(key) {\n",
              "        const element = document.querySelector('#df-b2257ec9-f5a6-43f1-a972-a781addc9198');\n",
              "        const dataTable =\n",
              "          await google.colab.kernel.invokeFunction('convertToInteractive',\n",
              "                                                    [key], {});\n",
              "        if (!dataTable) return;\n",
              "\n",
              "        const docLinkHtml = 'Like what you see? Visit the ' +\n",
              "          '<a target=\"_blank\" href=https://colab.research.google.com/notebooks/data_table.ipynb>data table notebook</a>'\n",
              "          + ' to learn more about interactive tables.';\n",
              "        element.innerHTML = '';\n",
              "        dataTable['output_type'] = 'display_data';\n",
              "        await google.colab.output.renderOutput(dataTable, element);\n",
              "        const docLink = document.createElement('div');\n",
              "        docLink.innerHTML = docLinkHtml;\n",
              "        element.appendChild(docLink);\n",
              "      }\n",
              "    </script>\n",
              "  </div>\n",
              "\n",
              "\n",
              "<div id=\"df-f8178b98-6b43-4d87-a76e-782da5e853ee\">\n",
              "  <button class=\"colab-df-quickchart\" onclick=\"quickchart('df-f8178b98-6b43-4d87-a76e-782da5e853ee')\"\n",
              "            title=\"Suggest charts\"\n",
              "            style=\"display:none;\">\n",
              "\n",
              "<svg xmlns=\"http://www.w3.org/2000/svg\" height=\"24px\"viewBox=\"0 0 24 24\"\n",
              "     width=\"24px\">\n",
              "    <g>\n",
              "        <path d=\"M19 3H5c-1.1 0-2 .9-2 2v14c0 1.1.9 2 2 2h14c1.1 0 2-.9 2-2V5c0-1.1-.9-2-2-2zM9 17H7v-7h2v7zm4 0h-2V7h2v10zm4 0h-2v-4h2v4z\"/>\n",
              "    </g>\n",
              "</svg>\n",
              "  </button>\n",
              "\n",
              "<style>\n",
              "  .colab-df-quickchart {\n",
              "      --bg-color: #E8F0FE;\n",
              "      --fill-color: #1967D2;\n",
              "      --hover-bg-color: #E2EBFA;\n",
              "      --hover-fill-color: #174EA6;\n",
              "      --disabled-fill-color: #AAA;\n",
              "      --disabled-bg-color: #DDD;\n",
              "  }\n",
              "\n",
              "  [theme=dark] .colab-df-quickchart {\n",
              "      --bg-color: #3B4455;\n",
              "      --fill-color: #D2E3FC;\n",
              "      --hover-bg-color: #434B5C;\n",
              "      --hover-fill-color: #FFFFFF;\n",
              "      --disabled-bg-color: #3B4455;\n",
              "      --disabled-fill-color: #666;\n",
              "  }\n",
              "\n",
              "  .colab-df-quickchart {\n",
              "    background-color: var(--bg-color);\n",
              "    border: none;\n",
              "    border-radius: 50%;\n",
              "    cursor: pointer;\n",
              "    display: none;\n",
              "    fill: var(--fill-color);\n",
              "    height: 32px;\n",
              "    padding: 0;\n",
              "    width: 32px;\n",
              "  }\n",
              "\n",
              "  .colab-df-quickchart:hover {\n",
              "    background-color: var(--hover-bg-color);\n",
              "    box-shadow: 0 1px 2px rgba(60, 64, 67, 0.3), 0 1px 3px 1px rgba(60, 64, 67, 0.15);\n",
              "    fill: var(--button-hover-fill-color);\n",
              "  }\n",
              "\n",
              "  .colab-df-quickchart-complete:disabled,\n",
              "  .colab-df-quickchart-complete:disabled:hover {\n",
              "    background-color: var(--disabled-bg-color);\n",
              "    fill: var(--disabled-fill-color);\n",
              "    box-shadow: none;\n",
              "  }\n",
              "\n",
              "  .colab-df-spinner {\n",
              "    border: 2px solid var(--fill-color);\n",
              "    border-color: transparent;\n",
              "    border-bottom-color: var(--fill-color);\n",
              "    animation:\n",
              "      spin 1s steps(1) infinite;\n",
              "  }\n",
              "\n",
              "  @keyframes spin {\n",
              "    0% {\n",
              "      border-color: transparent;\n",
              "      border-bottom-color: var(--fill-color);\n",
              "      border-left-color: var(--fill-color);\n",
              "    }\n",
              "    20% {\n",
              "      border-color: transparent;\n",
              "      border-left-color: var(--fill-color);\n",
              "      border-top-color: var(--fill-color);\n",
              "    }\n",
              "    30% {\n",
              "      border-color: transparent;\n",
              "      border-left-color: var(--fill-color);\n",
              "      border-top-color: var(--fill-color);\n",
              "      border-right-color: var(--fill-color);\n",
              "    }\n",
              "    40% {\n",
              "      border-color: transparent;\n",
              "      border-right-color: var(--fill-color);\n",
              "      border-top-color: var(--fill-color);\n",
              "    }\n",
              "    60% {\n",
              "      border-color: transparent;\n",
              "      border-right-color: var(--fill-color);\n",
              "    }\n",
              "    80% {\n",
              "      border-color: transparent;\n",
              "      border-right-color: var(--fill-color);\n",
              "      border-bottom-color: var(--fill-color);\n",
              "    }\n",
              "    90% {\n",
              "      border-color: transparent;\n",
              "      border-bottom-color: var(--fill-color);\n",
              "    }\n",
              "  }\n",
              "</style>\n",
              "\n",
              "  <script>\n",
              "    async function quickchart(key) {\n",
              "      const quickchartButtonEl =\n",
              "        document.querySelector('#' + key + ' button');\n",
              "      quickchartButtonEl.disabled = true;  // To prevent multiple clicks.\n",
              "      quickchartButtonEl.classList.add('colab-df-spinner');\n",
              "      try {\n",
              "        const charts = await google.colab.kernel.invokeFunction(\n",
              "            'suggestCharts', [key], {});\n",
              "      } catch (error) {\n",
              "        console.error('Error during call to suggestCharts:', error);\n",
              "      }\n",
              "      quickchartButtonEl.classList.remove('colab-df-spinner');\n",
              "      quickchartButtonEl.classList.add('colab-df-quickchart-complete');\n",
              "    }\n",
              "    (() => {\n",
              "      let quickchartButtonEl =\n",
              "        document.querySelector('#df-f8178b98-6b43-4d87-a76e-782da5e853ee button');\n",
              "      quickchartButtonEl.style.display =\n",
              "        google.colab.kernel.accessAllowed ? 'block' : 'none';\n",
              "    })();\n",
              "  </script>\n",
              "</div>\n",
              "    </div>\n",
              "  </div>\n"
            ],
            "application/vnd.google.colaboratory.intrinsic+json": {
              "type": "dataframe",
              "summary": "{\n  \"name\": \"df\",\n  \"rows\": 8,\n  \"fields\": [\n    {\n      \"column\": \"Count\",\n      \"properties\": {\n        \"dtype\": \"number\",\n        \"std\": 2489.7735087754468,\n        \"min\": 0.0,\n        \"max\": 7043.0,\n        \"num_unique_values\": 3,\n        \"samples\": [\n          7043.0,\n          1.0,\n          0.0\n        ],\n        \"semantic_type\": \"\",\n        \"description\": \"\"\n      }\n    },\n    {\n      \"column\": \"Zip Code\",\n      \"properties\": {\n        \"dtype\": \"number\",\n        \"std\": 41262.103383912574,\n        \"min\": 1865.794555396593,\n        \"max\": 96161.0,\n        \"num_unique_values\": 8,\n        \"samples\": [\n          93521.96464574755,\n          93552.0,\n          7043.0\n        ],\n        \"semantic_type\": \"\",\n        \"description\": \"\"\n      }\n    },\n    {\n      \"column\": \"Latitude\",\n      \"properties\": {\n        \"dtype\": \"number\",\n        \"std\": 2478.8990231401913,\n        \"min\": 2.4557225895721184,\n        \"max\": 7043.0,\n        \"num_unique_values\": 8,\n        \"samples\": [\n          36.28244138108761,\n          36.391777,\n          7043.0\n        ],\n        \"semantic_type\": \"\",\n        \"description\": \"\"\n      }\n    },\n    {\n      \"column\": \"Longitude\",\n      \"properties\": {\n        \"dtype\": \"number\",\n        \"std\": 2526.5872953691696,\n        \"min\": -124.301372,\n        \"max\": 7043.0,\n        \"num_unique_values\": 8,\n        \"samples\": [\n          -119.79888008121539,\n          -119.730885,\n          7043.0\n        ],\n        \"semantic_type\": \"\",\n        \"description\": \"\"\n      }\n    },\n    {\n      \"column\": \"Tenure Months\",\n      \"properties\": {\n        \"dtype\": \"number\",\n        \"std\": 2478.9752758409018,\n        \"min\": 0.0,\n        \"max\": 7043.0,\n        \"num_unique_values\": 8,\n        \"samples\": [\n          32.37114865824223,\n          29.0,\n          7043.0\n        ],\n        \"semantic_type\": \"\",\n        \"description\": \"\"\n      }\n    },\n    {\n      \"column\": \"Monthly Charges\",\n      \"properties\": {\n        \"dtype\": \"number\",\n        \"std\": 2468.7047672837775,\n        \"min\": 18.25,\n        \"max\": 7043.0,\n        \"num_unique_values\": 8,\n        \"samples\": [\n          64.76169246059918,\n          70.35,\n          7043.0\n        ],\n        \"semantic_type\": \"\",\n        \"description\": \"\"\n      }\n    },\n    {\n      \"column\": \"Churn Value\",\n      \"properties\": {\n        \"dtype\": \"number\",\n        \"std\": 2489.939844235915,\n        \"min\": 0.0,\n        \"max\": 7043.0,\n        \"num_unique_values\": 5,\n        \"samples\": [\n          0.2653698707936959,\n          1.0,\n          0.441561305121947\n        ],\n        \"semantic_type\": \"\",\n        \"description\": \"\"\n      }\n    }\n  ]\n}"
            }
          },
          "metadata": {},
          "execution_count": 7
        }
      ],
      "source": [
        "df.describe()"
      ]
    },
    {
      "cell_type": "code",
      "execution_count": null,
      "id": "b6422827-6486-43aa-a826-d986cb86c238",
      "metadata": {
        "id": "b6422827-6486-43aa-a826-d986cb86c238",
        "outputId": "5ad17fb3-f404-401f-97ef-73a5a7e547b2",
        "colab": {
          "base_uri": "https://localhost:8080/"
        }
      },
      "outputs": [
        {
          "output_type": "execute_result",
          "data": {
            "text/plain": [
              "CustomerID            object\n",
              "Count                  int64\n",
              "Country               object\n",
              "State                 object\n",
              "City                  object\n",
              "Zip Code               int64\n",
              "Lat Long              object\n",
              "Latitude             float64\n",
              "Longitude            float64\n",
              "Gender                object\n",
              "Senior Citizen        object\n",
              "Partner               object\n",
              "Dependents            object\n",
              "Tenure Months          int64\n",
              "Phone Service         object\n",
              "Multiple Lines        object\n",
              "Internet Service      object\n",
              "Online Security       object\n",
              "Online Backup         object\n",
              "Device Protection     object\n",
              "Tech Support          object\n",
              "Streaming TV          object\n",
              "Streaming Movies      object\n",
              "Contract              object\n",
              "Paperless Billing     object\n",
              "Payment Method        object\n",
              "Monthly Charges      float64\n",
              "Total Charges         object\n",
              "Churn Label           object\n",
              "Churn Value            int64\n",
              "Churn Reason          object\n",
              "dtype: object"
            ]
          },
          "metadata": {},
          "execution_count": 8
        }
      ],
      "source": [
        "df.dtypes"
      ]
    },
    {
      "cell_type": "code",
      "source": [
        "df['Total Charges'] = df['Total Charges'].astype('string')\n",
        "# Changing Total Charge datatypes and accounting for 0s in the form of '' or ' '\n",
        "df['Total Charges'] = df['Total Charges'].apply(lambda x: x if x.strip() != '' else '0')\n",
        "df['Total Charges'] = df['Total Charges'].astype(float)"
      ],
      "metadata": {
        "id": "yyJ4E1HCofL1"
      },
      "id": "yyJ4E1HCofL1",
      "execution_count": null,
      "outputs": []
    },
    {
      "cell_type": "code",
      "execution_count": null,
      "id": "89fdc58c-1c9e-4179-916b-823a6af14427",
      "metadata": {
        "id": "89fdc58c-1c9e-4179-916b-823a6af14427",
        "outputId": "927b5258-c2b0-4980-d76a-fc35b472abe2",
        "colab": {
          "base_uri": "https://localhost:8080/"
        }
      },
      "outputs": [
        {
          "output_type": "execute_result",
          "data": {
            "text/plain": [
              "0    5174\n",
              "1    1869\n",
              "Name: Churn Value, dtype: int64"
            ]
          },
          "metadata": {},
          "execution_count": 10
        }
      ],
      "source": [
        "df['Churn Value'].value_counts()"
      ]
    },
    {
      "cell_type": "markdown",
      "id": "2d2f9250-3ff1-4370-8b2b-0585c99c385b",
      "metadata": {
        "id": "2d2f9250-3ff1-4370-8b2b-0585c99c385b"
      },
      "source": [
        "Two things to note here.\n",
        "- Firstly, we **don't have class balance** which could be an issue to address for modelling.\n",
        "- Secondly, we have 5174 customers who did not churn which should explain our 5174 missing churn reasons."
      ]
    },
    {
      "cell_type": "code",
      "execution_count": null,
      "id": "7692a2d6-2e82-4d67-9fd9-c9873fe0741c",
      "metadata": {
        "id": "7692a2d6-2e82-4d67-9fd9-c9873fe0741c",
        "outputId": "2959b094-f1f4-4247-dd02-a60b4510e0e1",
        "colab": {
          "base_uri": "https://localhost:8080/"
        }
      },
      "outputs": [
        {
          "output_type": "execute_result",
          "data": {
            "text/plain": [
              "5174"
            ]
          },
          "metadata": {},
          "execution_count": 11
        }
      ],
      "source": [
        "# Double checking all our customers who didn't churn are missing reasons\n",
        "df.loc[df['Churn Value'] == 0]['Churn Reason'].isna().sum()"
      ]
    },
    {
      "cell_type": "markdown",
      "id": "a975bb5e-9ebe-4e17-9542-2fe2e188bec8",
      "metadata": {
        "id": "a975bb5e-9ebe-4e17-9542-2fe2e188bec8"
      },
      "source": [
        "All of our missing churn values are from customer who have not churned.\n",
        "\n",
        "Some of the given columns will not be useful for our analysis because they don't have more than one value and some just act as IDs."
      ]
    },
    {
      "cell_type": "code",
      "execution_count": null,
      "id": "b1f22125-fbf6-4cf4-9567-bc7894190a03",
      "metadata": {
        "colab": {
          "base_uri": "https://localhost:8080/"
        },
        "id": "b1f22125-fbf6-4cf4-9567-bc7894190a03",
        "outputId": "6bde6c79-9bc1-4671-8fd9-a04273662a8e"
      },
      "outputs": [
        {
          "output_type": "stream",
          "name": "stdout",
          "text": [
            "['Count', 'Country', 'State']\n"
          ]
        }
      ],
      "source": [
        "# find all single value columns\n",
        "single_value_columns = get_vc_columns(df, 1)\n",
        "print(single_value_columns)"
      ]
    },
    {
      "cell_type": "markdown",
      "id": "e8f978d7-96b9-49d2-87a3-9f44c22abb7e",
      "metadata": {
        "id": "e8f978d7-96b9-49d2-87a3-9f44c22abb7e"
      },
      "source": [
        "We can see that Count, Country and State all only have 1 value. All our customers are in California in the US."
      ]
    },
    {
      "cell_type": "code",
      "execution_count": null,
      "id": "bd1ea37c-a325-4ad4-bc8d-796a5f655294",
      "metadata": {
        "id": "bd1ea37c-a325-4ad4-bc8d-796a5f655294",
        "outputId": "d1e8fd92-0f8d-498c-8308-db36fd6a5c56",
        "colab": {
          "base_uri": "https://localhost:8080/",
          "height": 202
        }
      },
      "outputs": [
        {
          "output_type": "execute_result",
          "data": {
            "text/plain": [
              "          City  Zip Code                Lat Long   Latitude   Longitude  \\\n",
              "0  Los Angeles     90003  33.964131, -118.272783  33.964131 -118.272783   \n",
              "1  Los Angeles     90005   34.059281, -118.30742  34.059281 -118.307420   \n",
              "\n",
              "   Gender Senior Citizen Partner Dependents  Tenure Months Phone Service  \\\n",
              "0    Male             No      No         No              2           Yes   \n",
              "1  Female             No      No        Yes              2           Yes   \n",
              "\n",
              "  Multiple Lines Internet Service Online Security Online Backup  \\\n",
              "0             No              DSL             Yes           Yes   \n",
              "1             No      Fiber optic              No            No   \n",
              "\n",
              "  Device Protection Tech Support Streaming TV Streaming Movies  \\\n",
              "0                No           No           No               No   \n",
              "1                No           No           No               No   \n",
              "\n",
              "         Contract Paperless Billing    Payment Method  Monthly Charges  \\\n",
              "0  Month-to-month               Yes      Mailed check            53.85   \n",
              "1  Month-to-month               Yes  Electronic check            70.70   \n",
              "\n",
              "   Total Charges Churn Label  Churn Value                  Churn Reason  \n",
              "0         108.15         Yes            1  Competitor made better offer  \n",
              "1         151.65         Yes            1                         Moved  "
            ],
            "text/html": [
              "\n",
              "  <div id=\"df-e20464c5-606b-441e-a78d-bf9db55c8b9d\" class=\"colab-df-container\">\n",
              "    <div>\n",
              "<style scoped>\n",
              "    .dataframe tbody tr th:only-of-type {\n",
              "        vertical-align: middle;\n",
              "    }\n",
              "\n",
              "    .dataframe tbody tr th {\n",
              "        vertical-align: top;\n",
              "    }\n",
              "\n",
              "    .dataframe thead th {\n",
              "        text-align: right;\n",
              "    }\n",
              "</style>\n",
              "<table border=\"1\" class=\"dataframe\">\n",
              "  <thead>\n",
              "    <tr style=\"text-align: right;\">\n",
              "      <th></th>\n",
              "      <th>City</th>\n",
              "      <th>Zip Code</th>\n",
              "      <th>Lat Long</th>\n",
              "      <th>Latitude</th>\n",
              "      <th>Longitude</th>\n",
              "      <th>Gender</th>\n",
              "      <th>Senior Citizen</th>\n",
              "      <th>Partner</th>\n",
              "      <th>Dependents</th>\n",
              "      <th>Tenure Months</th>\n",
              "      <th>Phone Service</th>\n",
              "      <th>Multiple Lines</th>\n",
              "      <th>Internet Service</th>\n",
              "      <th>Online Security</th>\n",
              "      <th>Online Backup</th>\n",
              "      <th>Device Protection</th>\n",
              "      <th>Tech Support</th>\n",
              "      <th>Streaming TV</th>\n",
              "      <th>Streaming Movies</th>\n",
              "      <th>Contract</th>\n",
              "      <th>Paperless Billing</th>\n",
              "      <th>Payment Method</th>\n",
              "      <th>Monthly Charges</th>\n",
              "      <th>Total Charges</th>\n",
              "      <th>Churn Label</th>\n",
              "      <th>Churn Value</th>\n",
              "      <th>Churn Reason</th>\n",
              "    </tr>\n",
              "  </thead>\n",
              "  <tbody>\n",
              "    <tr>\n",
              "      <th>0</th>\n",
              "      <td>Los Angeles</td>\n",
              "      <td>90003</td>\n",
              "      <td>33.964131, -118.272783</td>\n",
              "      <td>33.964131</td>\n",
              "      <td>-118.272783</td>\n",
              "      <td>Male</td>\n",
              "      <td>No</td>\n",
              "      <td>No</td>\n",
              "      <td>No</td>\n",
              "      <td>2</td>\n",
              "      <td>Yes</td>\n",
              "      <td>No</td>\n",
              "      <td>DSL</td>\n",
              "      <td>Yes</td>\n",
              "      <td>Yes</td>\n",
              "      <td>No</td>\n",
              "      <td>No</td>\n",
              "      <td>No</td>\n",
              "      <td>No</td>\n",
              "      <td>Month-to-month</td>\n",
              "      <td>Yes</td>\n",
              "      <td>Mailed check</td>\n",
              "      <td>53.85</td>\n",
              "      <td>108.15</td>\n",
              "      <td>Yes</td>\n",
              "      <td>1</td>\n",
              "      <td>Competitor made better offer</td>\n",
              "    </tr>\n",
              "    <tr>\n",
              "      <th>1</th>\n",
              "      <td>Los Angeles</td>\n",
              "      <td>90005</td>\n",
              "      <td>34.059281, -118.30742</td>\n",
              "      <td>34.059281</td>\n",
              "      <td>-118.307420</td>\n",
              "      <td>Female</td>\n",
              "      <td>No</td>\n",
              "      <td>No</td>\n",
              "      <td>Yes</td>\n",
              "      <td>2</td>\n",
              "      <td>Yes</td>\n",
              "      <td>No</td>\n",
              "      <td>Fiber optic</td>\n",
              "      <td>No</td>\n",
              "      <td>No</td>\n",
              "      <td>No</td>\n",
              "      <td>No</td>\n",
              "      <td>No</td>\n",
              "      <td>No</td>\n",
              "      <td>Month-to-month</td>\n",
              "      <td>Yes</td>\n",
              "      <td>Electronic check</td>\n",
              "      <td>70.70</td>\n",
              "      <td>151.65</td>\n",
              "      <td>Yes</td>\n",
              "      <td>1</td>\n",
              "      <td>Moved</td>\n",
              "    </tr>\n",
              "  </tbody>\n",
              "</table>\n",
              "</div>\n",
              "    <div class=\"colab-df-buttons\">\n",
              "\n",
              "  <div class=\"colab-df-container\">\n",
              "    <button class=\"colab-df-convert\" onclick=\"convertToInteractive('df-e20464c5-606b-441e-a78d-bf9db55c8b9d')\"\n",
              "            title=\"Convert this dataframe to an interactive table.\"\n",
              "            style=\"display:none;\">\n",
              "\n",
              "  <svg xmlns=\"http://www.w3.org/2000/svg\" height=\"24px\" viewBox=\"0 -960 960 960\">\n",
              "    <path d=\"M120-120v-720h720v720H120Zm60-500h600v-160H180v160Zm220 220h160v-160H400v160Zm0 220h160v-160H400v160ZM180-400h160v-160H180v160Zm440 0h160v-160H620v160ZM180-180h160v-160H180v160Zm440 0h160v-160H620v160Z\"/>\n",
              "  </svg>\n",
              "    </button>\n",
              "\n",
              "  <style>\n",
              "    .colab-df-container {\n",
              "      display:flex;\n",
              "      gap: 12px;\n",
              "    }\n",
              "\n",
              "    .colab-df-convert {\n",
              "      background-color: #E8F0FE;\n",
              "      border: none;\n",
              "      border-radius: 50%;\n",
              "      cursor: pointer;\n",
              "      display: none;\n",
              "      fill: #1967D2;\n",
              "      height: 32px;\n",
              "      padding: 0 0 0 0;\n",
              "      width: 32px;\n",
              "    }\n",
              "\n",
              "    .colab-df-convert:hover {\n",
              "      background-color: #E2EBFA;\n",
              "      box-shadow: 0px 1px 2px rgba(60, 64, 67, 0.3), 0px 1px 3px 1px rgba(60, 64, 67, 0.15);\n",
              "      fill: #174EA6;\n",
              "    }\n",
              "\n",
              "    .colab-df-buttons div {\n",
              "      margin-bottom: 4px;\n",
              "    }\n",
              "\n",
              "    [theme=dark] .colab-df-convert {\n",
              "      background-color: #3B4455;\n",
              "      fill: #D2E3FC;\n",
              "    }\n",
              "\n",
              "    [theme=dark] .colab-df-convert:hover {\n",
              "      background-color: #434B5C;\n",
              "      box-shadow: 0px 1px 3px 1px rgba(0, 0, 0, 0.15);\n",
              "      filter: drop-shadow(0px 1px 2px rgba(0, 0, 0, 0.3));\n",
              "      fill: #FFFFFF;\n",
              "    }\n",
              "  </style>\n",
              "\n",
              "    <script>\n",
              "      const buttonEl =\n",
              "        document.querySelector('#df-e20464c5-606b-441e-a78d-bf9db55c8b9d button.colab-df-convert');\n",
              "      buttonEl.style.display =\n",
              "        google.colab.kernel.accessAllowed ? 'block' : 'none';\n",
              "\n",
              "      async function convertToInteractive(key) {\n",
              "        const element = document.querySelector('#df-e20464c5-606b-441e-a78d-bf9db55c8b9d');\n",
              "        const dataTable =\n",
              "          await google.colab.kernel.invokeFunction('convertToInteractive',\n",
              "                                                    [key], {});\n",
              "        if (!dataTable) return;\n",
              "\n",
              "        const docLinkHtml = 'Like what you see? Visit the ' +\n",
              "          '<a target=\"_blank\" href=https://colab.research.google.com/notebooks/data_table.ipynb>data table notebook</a>'\n",
              "          + ' to learn more about interactive tables.';\n",
              "        element.innerHTML = '';\n",
              "        dataTable['output_type'] = 'display_data';\n",
              "        await google.colab.output.renderOutput(dataTable, element);\n",
              "        const docLink = document.createElement('div');\n",
              "        docLink.innerHTML = docLinkHtml;\n",
              "        element.appendChild(docLink);\n",
              "      }\n",
              "    </script>\n",
              "  </div>\n",
              "\n",
              "\n",
              "<div id=\"df-31d60b1f-3eeb-42b3-9f03-6edd1e9981e4\">\n",
              "  <button class=\"colab-df-quickchart\" onclick=\"quickchart('df-31d60b1f-3eeb-42b3-9f03-6edd1e9981e4')\"\n",
              "            title=\"Suggest charts\"\n",
              "            style=\"display:none;\">\n",
              "\n",
              "<svg xmlns=\"http://www.w3.org/2000/svg\" height=\"24px\"viewBox=\"0 0 24 24\"\n",
              "     width=\"24px\">\n",
              "    <g>\n",
              "        <path d=\"M19 3H5c-1.1 0-2 .9-2 2v14c0 1.1.9 2 2 2h14c1.1 0 2-.9 2-2V5c0-1.1-.9-2-2-2zM9 17H7v-7h2v7zm4 0h-2V7h2v10zm4 0h-2v-4h2v4z\"/>\n",
              "    </g>\n",
              "</svg>\n",
              "  </button>\n",
              "\n",
              "<style>\n",
              "  .colab-df-quickchart {\n",
              "      --bg-color: #E8F0FE;\n",
              "      --fill-color: #1967D2;\n",
              "      --hover-bg-color: #E2EBFA;\n",
              "      --hover-fill-color: #174EA6;\n",
              "      --disabled-fill-color: #AAA;\n",
              "      --disabled-bg-color: #DDD;\n",
              "  }\n",
              "\n",
              "  [theme=dark] .colab-df-quickchart {\n",
              "      --bg-color: #3B4455;\n",
              "      --fill-color: #D2E3FC;\n",
              "      --hover-bg-color: #434B5C;\n",
              "      --hover-fill-color: #FFFFFF;\n",
              "      --disabled-bg-color: #3B4455;\n",
              "      --disabled-fill-color: #666;\n",
              "  }\n",
              "\n",
              "  .colab-df-quickchart {\n",
              "    background-color: var(--bg-color);\n",
              "    border: none;\n",
              "    border-radius: 50%;\n",
              "    cursor: pointer;\n",
              "    display: none;\n",
              "    fill: var(--fill-color);\n",
              "    height: 32px;\n",
              "    padding: 0;\n",
              "    width: 32px;\n",
              "  }\n",
              "\n",
              "  .colab-df-quickchart:hover {\n",
              "    background-color: var(--hover-bg-color);\n",
              "    box-shadow: 0 1px 2px rgba(60, 64, 67, 0.3), 0 1px 3px 1px rgba(60, 64, 67, 0.15);\n",
              "    fill: var(--button-hover-fill-color);\n",
              "  }\n",
              "\n",
              "  .colab-df-quickchart-complete:disabled,\n",
              "  .colab-df-quickchart-complete:disabled:hover {\n",
              "    background-color: var(--disabled-bg-color);\n",
              "    fill: var(--disabled-fill-color);\n",
              "    box-shadow: none;\n",
              "  }\n",
              "\n",
              "  .colab-df-spinner {\n",
              "    border: 2px solid var(--fill-color);\n",
              "    border-color: transparent;\n",
              "    border-bottom-color: var(--fill-color);\n",
              "    animation:\n",
              "      spin 1s steps(1) infinite;\n",
              "  }\n",
              "\n",
              "  @keyframes spin {\n",
              "    0% {\n",
              "      border-color: transparent;\n",
              "      border-bottom-color: var(--fill-color);\n",
              "      border-left-color: var(--fill-color);\n",
              "    }\n",
              "    20% {\n",
              "      border-color: transparent;\n",
              "      border-left-color: var(--fill-color);\n",
              "      border-top-color: var(--fill-color);\n",
              "    }\n",
              "    30% {\n",
              "      border-color: transparent;\n",
              "      border-left-color: var(--fill-color);\n",
              "      border-top-color: var(--fill-color);\n",
              "      border-right-color: var(--fill-color);\n",
              "    }\n",
              "    40% {\n",
              "      border-color: transparent;\n",
              "      border-right-color: var(--fill-color);\n",
              "      border-top-color: var(--fill-color);\n",
              "    }\n",
              "    60% {\n",
              "      border-color: transparent;\n",
              "      border-right-color: var(--fill-color);\n",
              "    }\n",
              "    80% {\n",
              "      border-color: transparent;\n",
              "      border-right-color: var(--fill-color);\n",
              "      border-bottom-color: var(--fill-color);\n",
              "    }\n",
              "    90% {\n",
              "      border-color: transparent;\n",
              "      border-bottom-color: var(--fill-color);\n",
              "    }\n",
              "  }\n",
              "</style>\n",
              "\n",
              "  <script>\n",
              "    async function quickchart(key) {\n",
              "      const quickchartButtonEl =\n",
              "        document.querySelector('#' + key + ' button');\n",
              "      quickchartButtonEl.disabled = true;  // To prevent multiple clicks.\n",
              "      quickchartButtonEl.classList.add('colab-df-spinner');\n",
              "      try {\n",
              "        const charts = await google.colab.kernel.invokeFunction(\n",
              "            'suggestCharts', [key], {});\n",
              "      } catch (error) {\n",
              "        console.error('Error during call to suggestCharts:', error);\n",
              "      }\n",
              "      quickchartButtonEl.classList.remove('colab-df-spinner');\n",
              "      quickchartButtonEl.classList.add('colab-df-quickchart-complete');\n",
              "    }\n",
              "    (() => {\n",
              "      let quickchartButtonEl =\n",
              "        document.querySelector('#df-31d60b1f-3eeb-42b3-9f03-6edd1e9981e4 button');\n",
              "      quickchartButtonEl.style.display =\n",
              "        google.colab.kernel.accessAllowed ? 'block' : 'none';\n",
              "    })();\n",
              "  </script>\n",
              "</div>\n",
              "    </div>\n",
              "  </div>\n"
            ],
            "application/vnd.google.colaboratory.intrinsic+json": {
              "type": "dataframe",
              "variable_name": "df"
            }
          },
          "metadata": {},
          "execution_count": 13
        }
      ],
      "source": [
        "single_value_columns.append('CustomerID')\n",
        "df.drop(columns = single_value_columns, axis=1, inplace=True)\n",
        "df.head(2)"
      ]
    },
    {
      "cell_type": "markdown",
      "id": "301b58d8-81b8-4dda-b7a6-308e5e3577bf",
      "metadata": {
        "id": "301b58d8-81b8-4dda-b7a6-308e5e3577bf"
      },
      "source": [
        "----\n",
        "# 2.0 EDA\n",
        "----\n",
        "There are a few questions we want to address at the EDA stage:\n",
        "* What are the **demographics** of churners?\n",
        "* Which **services** are they signed up to?\n",
        "* What were the primary **reasons** for churning?\n",
        "\n",
        "So what are our key demographics through which to analyze this question?\n",
        "Gender, Senior Citizen, Partner, Dependents, city/zipcode?\n",
        "\n",
        "Though it is best practice to Test/Train split before EDA to prevent data leakage, as we have a very small data set we decided to perform EDA before the split."
      ]
    },
    {
      "cell_type": "markdown",
      "source": [
        "## 2.1 Services and subscriptions\n",
        "\n",
        "Grouped customers by the different services they have. These are internet service, phone service and whether they have any subscriptions.\n",
        "\n",
        "\n"
      ],
      "metadata": {
        "id": "lELjogNJfuIh"
      },
      "id": "lELjogNJfuIh"
    },
    {
      "cell_type": "code",
      "source": [
        "df[['Internet Service']].isin(['DSL','Fiber optic'])\n",
        "subscriptions = df.iloc[:,13:19]\n",
        "#subscriptions.drop(columns = ['Multiple Lines'],inplace = True)\n",
        "np_subs = np.array(subscriptions.isin(['Yes','DSL','Fiber optic']))\n",
        "df['Subscription Count'] = np_subs.sum(axis = 1)"
      ],
      "metadata": {
        "id": "S6ckElWk7zGs"
      },
      "id": "S6ckElWk7zGs",
      "execution_count": null,
      "outputs": []
    },
    {
      "cell_type": "code",
      "source": [
        "df['Subscription Count'] = np_subs.sum(axis = 1)\n",
        "df['Subscriptions bool'] = df['Subscription Count'].apply(lambda x: True if x else False)\n",
        "df['Internet bool'] = df['Internet Service'].apply(lambda x: True if x != 'No' else False)\n",
        "churn_by_service = df.groupby(['Phone Service', 'Internet bool', 'Subscriptions bool'])[['Churn Value']].agg(['mean','count']).reset_index()\n",
        "churn_by_service"
      ],
      "metadata": {
        "id": "SuPTP3ZGejo9",
        "colab": {
          "base_uri": "https://localhost:8080/",
          "height": 238
        },
        "outputId": "1c58303f-848c-45e6-d64a-b7745de3b0b4"
      },
      "id": "SuPTP3ZGejo9",
      "execution_count": null,
      "outputs": [
        {
          "output_type": "execute_result",
          "data": {
            "text/plain": [
              "  Phone Service Internet bool Subscriptions bool Churn Value      \n",
              "                                                        mean count\n",
              "0            No          True              False    0.437500    80\n",
              "1            No          True               True    0.224252   602\n",
              "2           Yes         False              False    0.074050  1526\n",
              "3           Yes          True              False    0.533442   613\n",
              "4           Yes          True               True    0.298200  4222"
            ],
            "text/html": [
              "\n",
              "  <div id=\"df-8f55d654-845e-4aff-991b-29577d0e7de1\" class=\"colab-df-container\">\n",
              "    <div>\n",
              "<style scoped>\n",
              "    .dataframe tbody tr th:only-of-type {\n",
              "        vertical-align: middle;\n",
              "    }\n",
              "\n",
              "    .dataframe tbody tr th {\n",
              "        vertical-align: top;\n",
              "    }\n",
              "\n",
              "    .dataframe thead tr th {\n",
              "        text-align: left;\n",
              "    }\n",
              "</style>\n",
              "<table border=\"1\" class=\"dataframe\">\n",
              "  <thead>\n",
              "    <tr>\n",
              "      <th></th>\n",
              "      <th>Phone Service</th>\n",
              "      <th>Internet bool</th>\n",
              "      <th>Subscriptions bool</th>\n",
              "      <th colspan=\"2\" halign=\"left\">Churn Value</th>\n",
              "    </tr>\n",
              "    <tr>\n",
              "      <th></th>\n",
              "      <th></th>\n",
              "      <th></th>\n",
              "      <th></th>\n",
              "      <th>mean</th>\n",
              "      <th>count</th>\n",
              "    </tr>\n",
              "  </thead>\n",
              "  <tbody>\n",
              "    <tr>\n",
              "      <th>0</th>\n",
              "      <td>No</td>\n",
              "      <td>True</td>\n",
              "      <td>False</td>\n",
              "      <td>0.437500</td>\n",
              "      <td>80</td>\n",
              "    </tr>\n",
              "    <tr>\n",
              "      <th>1</th>\n",
              "      <td>No</td>\n",
              "      <td>True</td>\n",
              "      <td>True</td>\n",
              "      <td>0.224252</td>\n",
              "      <td>602</td>\n",
              "    </tr>\n",
              "    <tr>\n",
              "      <th>2</th>\n",
              "      <td>Yes</td>\n",
              "      <td>False</td>\n",
              "      <td>False</td>\n",
              "      <td>0.074050</td>\n",
              "      <td>1526</td>\n",
              "    </tr>\n",
              "    <tr>\n",
              "      <th>3</th>\n",
              "      <td>Yes</td>\n",
              "      <td>True</td>\n",
              "      <td>False</td>\n",
              "      <td>0.533442</td>\n",
              "      <td>613</td>\n",
              "    </tr>\n",
              "    <tr>\n",
              "      <th>4</th>\n",
              "      <td>Yes</td>\n",
              "      <td>True</td>\n",
              "      <td>True</td>\n",
              "      <td>0.298200</td>\n",
              "      <td>4222</td>\n",
              "    </tr>\n",
              "  </tbody>\n",
              "</table>\n",
              "</div>\n",
              "    <div class=\"colab-df-buttons\">\n",
              "\n",
              "  <div class=\"colab-df-container\">\n",
              "    <button class=\"colab-df-convert\" onclick=\"convertToInteractive('df-8f55d654-845e-4aff-991b-29577d0e7de1')\"\n",
              "            title=\"Convert this dataframe to an interactive table.\"\n",
              "            style=\"display:none;\">\n",
              "\n",
              "  <svg xmlns=\"http://www.w3.org/2000/svg\" height=\"24px\" viewBox=\"0 -960 960 960\">\n",
              "    <path d=\"M120-120v-720h720v720H120Zm60-500h600v-160H180v160Zm220 220h160v-160H400v160Zm0 220h160v-160H400v160ZM180-400h160v-160H180v160Zm440 0h160v-160H620v160ZM180-180h160v-160H180v160Zm440 0h160v-160H620v160Z\"/>\n",
              "  </svg>\n",
              "    </button>\n",
              "\n",
              "  <style>\n",
              "    .colab-df-container {\n",
              "      display:flex;\n",
              "      gap: 12px;\n",
              "    }\n",
              "\n",
              "    .colab-df-convert {\n",
              "      background-color: #E8F0FE;\n",
              "      border: none;\n",
              "      border-radius: 50%;\n",
              "      cursor: pointer;\n",
              "      display: none;\n",
              "      fill: #1967D2;\n",
              "      height: 32px;\n",
              "      padding: 0 0 0 0;\n",
              "      width: 32px;\n",
              "    }\n",
              "\n",
              "    .colab-df-convert:hover {\n",
              "      background-color: #E2EBFA;\n",
              "      box-shadow: 0px 1px 2px rgba(60, 64, 67, 0.3), 0px 1px 3px 1px rgba(60, 64, 67, 0.15);\n",
              "      fill: #174EA6;\n",
              "    }\n",
              "\n",
              "    .colab-df-buttons div {\n",
              "      margin-bottom: 4px;\n",
              "    }\n",
              "\n",
              "    [theme=dark] .colab-df-convert {\n",
              "      background-color: #3B4455;\n",
              "      fill: #D2E3FC;\n",
              "    }\n",
              "\n",
              "    [theme=dark] .colab-df-convert:hover {\n",
              "      background-color: #434B5C;\n",
              "      box-shadow: 0px 1px 3px 1px rgba(0, 0, 0, 0.15);\n",
              "      filter: drop-shadow(0px 1px 2px rgba(0, 0, 0, 0.3));\n",
              "      fill: #FFFFFF;\n",
              "    }\n",
              "  </style>\n",
              "\n",
              "    <script>\n",
              "      const buttonEl =\n",
              "        document.querySelector('#df-8f55d654-845e-4aff-991b-29577d0e7de1 button.colab-df-convert');\n",
              "      buttonEl.style.display =\n",
              "        google.colab.kernel.accessAllowed ? 'block' : 'none';\n",
              "\n",
              "      async function convertToInteractive(key) {\n",
              "        const element = document.querySelector('#df-8f55d654-845e-4aff-991b-29577d0e7de1');\n",
              "        const dataTable =\n",
              "          await google.colab.kernel.invokeFunction('convertToInteractive',\n",
              "                                                    [key], {});\n",
              "        if (!dataTable) return;\n",
              "\n",
              "        const docLinkHtml = 'Like what you see? Visit the ' +\n",
              "          '<a target=\"_blank\" href=https://colab.research.google.com/notebooks/data_table.ipynb>data table notebook</a>'\n",
              "          + ' to learn more about interactive tables.';\n",
              "        element.innerHTML = '';\n",
              "        dataTable['output_type'] = 'display_data';\n",
              "        await google.colab.output.renderOutput(dataTable, element);\n",
              "        const docLink = document.createElement('div');\n",
              "        docLink.innerHTML = docLinkHtml;\n",
              "        element.appendChild(docLink);\n",
              "      }\n",
              "    </script>\n",
              "  </div>\n",
              "\n",
              "\n",
              "<div id=\"df-abf22f67-dce4-4e41-aef5-7c137130df00\">\n",
              "  <button class=\"colab-df-quickchart\" onclick=\"quickchart('df-abf22f67-dce4-4e41-aef5-7c137130df00')\"\n",
              "            title=\"Suggest charts\"\n",
              "            style=\"display:none;\">\n",
              "\n",
              "<svg xmlns=\"http://www.w3.org/2000/svg\" height=\"24px\"viewBox=\"0 0 24 24\"\n",
              "     width=\"24px\">\n",
              "    <g>\n",
              "        <path d=\"M19 3H5c-1.1 0-2 .9-2 2v14c0 1.1.9 2 2 2h14c1.1 0 2-.9 2-2V5c0-1.1-.9-2-2-2zM9 17H7v-7h2v7zm4 0h-2V7h2v10zm4 0h-2v-4h2v4z\"/>\n",
              "    </g>\n",
              "</svg>\n",
              "  </button>\n",
              "\n",
              "<style>\n",
              "  .colab-df-quickchart {\n",
              "      --bg-color: #E8F0FE;\n",
              "      --fill-color: #1967D2;\n",
              "      --hover-bg-color: #E2EBFA;\n",
              "      --hover-fill-color: #174EA6;\n",
              "      --disabled-fill-color: #AAA;\n",
              "      --disabled-bg-color: #DDD;\n",
              "  }\n",
              "\n",
              "  [theme=dark] .colab-df-quickchart {\n",
              "      --bg-color: #3B4455;\n",
              "      --fill-color: #D2E3FC;\n",
              "      --hover-bg-color: #434B5C;\n",
              "      --hover-fill-color: #FFFFFF;\n",
              "      --disabled-bg-color: #3B4455;\n",
              "      --disabled-fill-color: #666;\n",
              "  }\n",
              "\n",
              "  .colab-df-quickchart {\n",
              "    background-color: var(--bg-color);\n",
              "    border: none;\n",
              "    border-radius: 50%;\n",
              "    cursor: pointer;\n",
              "    display: none;\n",
              "    fill: var(--fill-color);\n",
              "    height: 32px;\n",
              "    padding: 0;\n",
              "    width: 32px;\n",
              "  }\n",
              "\n",
              "  .colab-df-quickchart:hover {\n",
              "    background-color: var(--hover-bg-color);\n",
              "    box-shadow: 0 1px 2px rgba(60, 64, 67, 0.3), 0 1px 3px 1px rgba(60, 64, 67, 0.15);\n",
              "    fill: var(--button-hover-fill-color);\n",
              "  }\n",
              "\n",
              "  .colab-df-quickchart-complete:disabled,\n",
              "  .colab-df-quickchart-complete:disabled:hover {\n",
              "    background-color: var(--disabled-bg-color);\n",
              "    fill: var(--disabled-fill-color);\n",
              "    box-shadow: none;\n",
              "  }\n",
              "\n",
              "  .colab-df-spinner {\n",
              "    border: 2px solid var(--fill-color);\n",
              "    border-color: transparent;\n",
              "    border-bottom-color: var(--fill-color);\n",
              "    animation:\n",
              "      spin 1s steps(1) infinite;\n",
              "  }\n",
              "\n",
              "  @keyframes spin {\n",
              "    0% {\n",
              "      border-color: transparent;\n",
              "      border-bottom-color: var(--fill-color);\n",
              "      border-left-color: var(--fill-color);\n",
              "    }\n",
              "    20% {\n",
              "      border-color: transparent;\n",
              "      border-left-color: var(--fill-color);\n",
              "      border-top-color: var(--fill-color);\n",
              "    }\n",
              "    30% {\n",
              "      border-color: transparent;\n",
              "      border-left-color: var(--fill-color);\n",
              "      border-top-color: var(--fill-color);\n",
              "      border-right-color: var(--fill-color);\n",
              "    }\n",
              "    40% {\n",
              "      border-color: transparent;\n",
              "      border-right-color: var(--fill-color);\n",
              "      border-top-color: var(--fill-color);\n",
              "    }\n",
              "    60% {\n",
              "      border-color: transparent;\n",
              "      border-right-color: var(--fill-color);\n",
              "    }\n",
              "    80% {\n",
              "      border-color: transparent;\n",
              "      border-right-color: var(--fill-color);\n",
              "      border-bottom-color: var(--fill-color);\n",
              "    }\n",
              "    90% {\n",
              "      border-color: transparent;\n",
              "      border-bottom-color: var(--fill-color);\n",
              "    }\n",
              "  }\n",
              "</style>\n",
              "\n",
              "  <script>\n",
              "    async function quickchart(key) {\n",
              "      const quickchartButtonEl =\n",
              "        document.querySelector('#' + key + ' button');\n",
              "      quickchartButtonEl.disabled = true;  // To prevent multiple clicks.\n",
              "      quickchartButtonEl.classList.add('colab-df-spinner');\n",
              "      try {\n",
              "        const charts = await google.colab.kernel.invokeFunction(\n",
              "            'suggestCharts', [key], {});\n",
              "      } catch (error) {\n",
              "        console.error('Error during call to suggestCharts:', error);\n",
              "      }\n",
              "      quickchartButtonEl.classList.remove('colab-df-spinner');\n",
              "      quickchartButtonEl.classList.add('colab-df-quickchart-complete');\n",
              "    }\n",
              "    (() => {\n",
              "      let quickchartButtonEl =\n",
              "        document.querySelector('#df-abf22f67-dce4-4e41-aef5-7c137130df00 button');\n",
              "      quickchartButtonEl.style.display =\n",
              "        google.colab.kernel.accessAllowed ? 'block' : 'none';\n",
              "    })();\n",
              "  </script>\n",
              "</div>\n",
              "    </div>\n",
              "  </div>\n"
            ],
            "application/vnd.google.colaboratory.intrinsic+json": {
              "type": "dataframe",
              "variable_name": "churn_by_service",
              "summary": "{\n  \"name\": \"churn_by_service\",\n  \"rows\": 5,\n  \"fields\": [\n    {\n      \"column\": [\n        \"Phone Service\",\n        \"\"\n      ],\n      \"properties\": {\n        \"dtype\": \"category\",\n        \"num_unique_values\": 2,\n        \"samples\": [\n          \"Yes\",\n          \"No\"\n        ],\n        \"semantic_type\": \"\",\n        \"description\": \"\"\n      }\n    },\n    {\n      \"column\": [\n        \"Internet bool\",\n        \"\"\n      ],\n      \"properties\": {\n        \"dtype\": \"boolean\",\n        \"num_unique_values\": 2,\n        \"samples\": [\n          false,\n          true\n        ],\n        \"semantic_type\": \"\",\n        \"description\": \"\"\n      }\n    },\n    {\n      \"column\": [\n        \"Subscriptions bool\",\n        \"\"\n      ],\n      \"properties\": {\n        \"dtype\": \"boolean\",\n        \"num_unique_values\": 2,\n        \"samples\": [\n          true,\n          false\n        ],\n        \"semantic_type\": \"\",\n        \"description\": \"\"\n      }\n    },\n    {\n      \"column\": [\n        \"Churn Value\",\n        \"mean\"\n      ],\n      \"properties\": {\n        \"dtype\": \"number\",\n        \"std\": 0.17978190174433814,\n        \"min\": 0.07404980340760157,\n        \"max\": 0.533442088091354,\n        \"num_unique_values\": 5,\n        \"samples\": [\n          0.22425249169435216,\n          0.29819990525817147\n        ],\n        \"semantic_type\": \"\",\n        \"description\": \"\"\n      }\n    },\n    {\n      \"column\": [\n        \"Churn Value\",\n        \"count\"\n      ],\n      \"properties\": {\n        \"dtype\": \"number\",\n        \"std\": 1656,\n        \"min\": 80,\n        \"max\": 4222,\n        \"num_unique_values\": 5,\n        \"samples\": [\n          602,\n          4222\n        ],\n        \"semantic_type\": \"\",\n        \"description\": \"\"\n      }\n    }\n  ]\n}"
            }
          },
          "metadata": {},
          "execution_count": 15
        }
      ]
    },
    {
      "cell_type": "code",
      "source": [
        "order = [2,0,3,1,4]\n",
        "service_categories = ['Only Phone Service', 'Only Internet Service', 'Internet + Phone', 'Internet + Subscriptions',\n",
        "                 'Internet + Phone + Subscriptions']\n",
        "\n",
        "ax = plt.figure(figsize = (16,8))\n",
        "ax = sns.barplot(x = service_categories, y = churn_by_service['Churn Value']['mean'][order], color = '#163e67')\n",
        "plt.ylabel('Churn Proportion')\n",
        "ax.bar_label(ax.containers[0],labels=churn_by_service['Churn Value']['count'][order])\n",
        "plt.show()"
      ],
      "metadata": {
        "colab": {
          "base_uri": "https://localhost:8080/",
          "height": 681
        },
        "id": "bXR0uVNWecVK",
        "outputId": "de9781e3-1cfa-45e1-af58-31f5ac0acbaa"
      },
      "id": "bXR0uVNWecVK",
      "execution_count": null,
      "outputs": [
        {
          "output_type": "display_data",
          "data": {
            "text/plain": [
              "<Figure size 1600x800 with 1 Axes>"
            ],
            "image/png": "[encoded data removed]"
          },
          "metadata": {}
        }
      ]
    },
    {
      "cell_type": "code",
      "source": [
        "\n",
        "sub_counts = df.groupby(['Subscription Count'])[['Churn Value']].agg(['count', 'mean']).reset_index()\n",
        "ax = plt.figure(figsize = (16,10))\n",
        "ax = sns.barplot(x = sub_counts['Subscription Count'],y = sub_counts['Churn Value']['mean'],color = '#163e67')\n",
        "plt.ylabel('Churn Proportion')\n",
        "ax.bar_label(ax.containers[0],labels=sub_counts['Churn Value']['count'])\n",
        "plt.show()\n",
        "\n"
      ],
      "metadata": {
        "colab": {
          "base_uri": "https://localhost:8080/",
          "height": 858
        },
        "id": "LaxcHhLuvrpJ",
        "outputId": "ab1b3ece-5943-4ca5-870e-904f8f8ee0c0"
      },
      "id": "LaxcHhLuvrpJ",
      "execution_count": null,
      "outputs": [
        {
          "output_type": "display_data",
          "data": {
            "text/plain": [
              "<Figure size 1600x1000 with 1 Axes>"
            ],
            "image/png": "[encoded data removed]"
          },
          "metadata": {}
        }
      ]
    },
    {
      "cell_type": "markdown",
      "source": [
        "## 2.2 Churner feedback\n",
        "\n",
        "Customers fed back various different reasons for why they churned, to gain a better understanding we decided to group these reasons into broader categories."
      ],
      "metadata": {
        "id": "O7YScH4TVWYc"
      },
      "id": "O7YScH4TVWYc"
    },
    {
      "cell_type": "code",
      "source": [
        "group_mapping = {\n",
        "    'Attitude of support person': 'Customer Service',\n",
        "    'Competitor offered higher download speeds': 'Competition',\n",
        "    'Competitor offered more data': 'Competition',\n",
        "    \"Don't know\": 'Other',\n",
        "    'Competitor made better offer': 'Competition',\n",
        "    'Attitude of service provider': 'Customer Service',\n",
        "    'Competitor had better devices': 'Competition',\n",
        "    'Network reliability': 'Product',\n",
        "    'Product dissatisfaction': 'Product',\n",
        "    'Price too high': 'Pricing and Charges',\n",
        "    'Service dissatisfaction': 'Customer Service',\n",
        "    'Lack of self-service on Website': 'Customer Service',\n",
        "    'Extra data charges': 'Pricing and Charges',\n",
        "    'Moved': 'Other',\n",
        "    'Limited range of services': 'Product',\n",
        "    'Long distance charges': 'Pricing and Charges',\n",
        "    'Lack of affordable download/upload speed': 'Pricing and Charges',\n",
        "    'Poor expertise of phone support': 'Customer Service',\n",
        "    'Poor expertise of online support': 'Customer Service',\n",
        "    'Deceased': 'Other'\n",
        "}"
      ],
      "metadata": {
        "id": "LSOx3E-Dto74"
      },
      "id": "LSOx3E-Dto74",
      "execution_count": null,
      "outputs": []
    },
    {
      "cell_type": "code",
      "source": [
        "categories = [\"Competitor Offerings\", \"Customer Service\", \"Service Quality\", \"Pricing and Billing\", \"Don't know\", \"Other\"]\n",
        "counts = [621,454,382,199,154,59]\n",
        "\n",
        "data = {'Category': categories,\n",
        "        'Count': counts}"
      ],
      "metadata": {
        "id": "g8NYQ2AiDz0H"
      },
      "id": "g8NYQ2AiDz0H",
      "execution_count": null,
      "outputs": []
    },
    {
      "cell_type": "code",
      "source": [
        "cat_count = pd.DataFrame(data)"
      ],
      "metadata": {
        "id": "1EHHQFbwDUwQ"
      },
      "id": "1EHHQFbwDUwQ",
      "execution_count": null,
      "outputs": []
    },
    {
      "cell_type": "code",
      "source": [
        "plt.figure(figsize=(14,8), dpi=80)\n",
        "ax = sns.barplot(data = cat_count, x = 'Count', y = 'Category', hue = 'Category',palette = ['#D7CEB2','#4B8F8C','#90708C','#163e67','#AAA1C8','#873D48'])"
      ],
      "metadata": {
        "colab": {
          "base_uri": "https://localhost:8080/",
          "height": 566
        },
        "id": "eYIPcVBBDKXB",
        "outputId": "baabe35b-c988-4456-b489-bb6da6db66c3"
      },
      "id": "eYIPcVBBDKXB",
      "execution_count": null,
      "outputs": [
        {
          "output_type": "display_data",
          "data": {
            "text/plain": [
              "<Figure size 1120x640 with 1 Axes>"
            ],
            "image/png": "[encoded data removed]"
          },
          "metadata": {}
        }
      ]
    },
    {
      "cell_type": "code",
      "source": [
        "cat_count = cat_count.sort_values(by='Count', ascending=False)  # Sort categories for visualization\n",
        "colors = ['#D7CEB2','#4B8F8C','#90708C','#163e67','#AAA1C8','#873D48']\n",
        "\n",
        "plt.figure(figsize=(12, 12))\n",
        "\n",
        "squarify.plot(sizes=cat_count['Count'], label=cat_count['Category'], color=colors, alpha=0.7)\n",
        "\n",
        "plt.axis('off')\n",
        "plt.show()"
      ],
      "metadata": {
        "colab": {
          "base_uri": "https://localhost:8080/",
          "height": 961
        },
        "id": "3qlOeDp_HxV5",
        "outputId": "5b194799-1d25-43c0-ae04-4023c85f4d51"
      },
      "id": "3qlOeDp_HxV5",
      "execution_count": null,
      "outputs": [
        {
          "output_type": "display_data",
          "data": {
            "text/plain": [
              "<Figure size 1200x1200 with 1 Axes>"
            ],
            "image/png": "[encoded data removed]"
          },
          "metadata": {}
        }
      ]
    },
    {
      "cell_type": "code",
      "source": [
        "colours = ['#F5E6E8','#4B8F8C','#293241','#AAA1C8','#90708C']\n",
        "\n",
        "df['Churn Reason Categories'] = df['Churn Reason'].map(group_mapping)\n",
        "df_churn = pd.DataFrame(df[['Churn Reason', 'Churn Reason Categories']].value_counts(),columns = ['Count']).reset_index()\n",
        "df_churn = df_churn.sort_values(['Churn Reason Categories','Count'],ascending=[True,False])\n",
        "\n",
        "df_churn = df_churn[df_churn['Churn Reason Categories']!='Other']\n",
        "\n",
        "plt.figure(figsize=(14,8), dpi=80)\n",
        "ax = sns.barplot(data = df_churn, x = 'Count', y = 'Churn Reason', hue = 'Churn Reason Categories',palette = ['#D7CEB2','#4B8F8C','#163e67','#90708C'])\n",
        "plt.show()"
      ],
      "metadata": {
        "id": "sINXtCGeuC_-",
        "colab": {
          "base_uri": "https://localhost:8080/",
          "height": 566
        },
        "outputId": "31690e65-f78b-4ab3-9474-70496dd1aa63"
      },
      "id": "sINXtCGeuC_-",
      "execution_count": null,
      "outputs": [
        {
          "output_type": "display_data",
          "data": {
            "text/plain": [
              "<Figure size 1120x640 with 1 Axes>"
            ],
            "image/png": "[encoded data removed]"
          },
          "metadata": {}
        }
      ]
    },
    {
      "cell_type": "markdown",
      "source": [
        "## 2.1 General analysis\n",
        "\n",
        "The following function is used to plot average churn rate for the chosen features unique values.\n",
        "It has been used for the different subscriptions and basic demographics."
      ],
      "metadata": {
        "id": "_qPZdA6ETiD8"
      },
      "id": "_qPZdA6ETiD8"
    },
    {
      "cell_type": "code",
      "source": [
        "def plotter(name,df,c,Subscription):\n",
        "  if Subscription:\n",
        "      df = df[df['Internet bool'] == True]\n",
        "  temp_df = df.groupby(name)[['Churn Value']].mean()\n",
        "  plt.figure(figsize = (3,6))\n",
        "  plt.ylim([0, 0.45])\n",
        "  sns.barplot(data = temp_df, x = name, y = 'Churn Value',color = c)\n",
        "  plt.ylabel('Churn proportion')\n",
        "  plt.show()\n",
        "\n",
        "\n",
        "plotter('Online Security',df,'#4B8F8C', True)\n",
        "plotter('Online Backup',df,'#163e67', True)\n",
        "plotter('Tech Support',df,'#90708C', True)\n",
        "plotter('Streaming TV',df,'#AAA1C8', True)\n",
        "plotter('Device Protection',df,'#873D48', True)\n",
        "plotter('Streaming Movies',df,'#D3B88C', True)"
      ],
      "metadata": {
        "id": "O9jCSPpsuF_L",
        "colab": {
          "base_uri": "https://localhost:8080/",
          "height": 1000
        },
        "outputId": "4a8a77af-ccd4-470d-dc44-cd3b4b5f19b0"
      },
      "id": "O9jCSPpsuF_L",
      "execution_count": null,
      "outputs": [
        {
          "output_type": "display_data",
          "data": {
            "text/plain": [
              "<Figure size 300x600 with 1 Axes>"
            ],
            "image/png": "[encoded data removed]"
          },
          "metadata": {}
        },
        {
          "output_type": "display_data",
          "data": {
            "text/plain": [
              "<Figure size 300x600 with 1 Axes>"
            ],
            "image/png": "[encoded data removed]"
          },
          "metadata": {}
        },
        {
          "output_type": "display_data",
          "data": {
            "text/plain": [
              "<Figure size 300x600 with 1 Axes>"
            ],
            "image/png": "[encoded data removed]"
          },
          "metadata": {}
        },
        {
          "output_type": "display_data",
          "data": {
            "text/plain": [
              "<Figure size 300x600 with 1 Axes>"
            ],
            "image/png": "[encoded data removed]"
          },
          "metadata": {}
        },
        {
          "output_type": "display_data",
          "data": {
            "text/plain": [
              "<Figure size 300x600 with 1 Axes>"
            ],
            "image/png": "[encoded data removed]"
          },
          "metadata": {}
        },
        {
          "output_type": "display_data",
          "data": {
            "text/plain": [
              "<Figure size 300x600 with 1 Axes>"
            ],
            "image/png": "[encoded data removed]"
          },
          "metadata": {}
        }
      ]
    },
    {
      "cell_type": "code",
      "source": [
        "plotter('Gender',df,'#4B8F8C', False)\n",
        "plotter('Partner',df,'#163e67', False)\n",
        "plotter('Dependents',df,'#90708C', False)\n",
        "plotter('Senior Citizen',df,'#AAA1C8', False)"
      ],
      "metadata": {
        "colab": {
          "base_uri": "https://localhost:8080/",
          "height": 1000
        },
        "id": "Q4Bl5rhccs1N",
        "outputId": "b965ef54-dccb-4de6-acf4-c066b64b54bb"
      },
      "id": "Q4Bl5rhccs1N",
      "execution_count": null,
      "outputs": [
        {
          "output_type": "display_data",
          "data": {
            "text/plain": [
              "<Figure size 300x600 with 1 Axes>"
            ],
            "image/png": "[encoded data removed]"
          },
          "metadata": {}
        },
        {
          "output_type": "display_data",
          "data": {
            "text/plain": [
              "<Figure size 300x600 with 1 Axes>"
            ],
            "image/png": "[encoded data removed]"
          },
          "metadata": {}
        },
        {
          "output_type": "display_data",
          "data": {
            "text/plain": [
              "<Figure size 300x600 with 1 Axes>"
            ],
            "image/png": "[encoded data removed]"
          },
          "metadata": {}
        },
        {
          "output_type": "display_data",
          "data": {
            "text/plain": [
              "<Figure size 300x600 with 1 Axes>"
            ],
            "image/png": "[encoded data removed]"
          },
          "metadata": {}
        }
      ]
    },
    {
      "cell_type": "code",
      "source": [
        "df[['Tenure Months','Churn Value']]\n",
        "\n",
        "sns.histplot(data = df, x = 'Tenure Months', hue = 'Churn Value',multiple=\"stack\",bins = 12,palette = ['#163e67','#90708C'])\n",
        "plt.legend(labels=['Churned','Active'])\n",
        "plt.show()"
      ],
      "metadata": {
        "id": "olpt4y_euIBt",
        "colab": {
          "base_uri": "https://localhost:8080/",
          "height": 458
        },
        "outputId": "d89ff99a-b78b-4611-8421-4e225581aef4"
      },
      "id": "olpt4y_euIBt",
      "execution_count": null,
      "outputs": [
        {
          "output_type": "display_data",
          "data": {
            "text/plain": [
              "<Figure size 640x480 with 1 Axes>"
            ],
            "image/png": "[encoded data removed]"
          },
          "metadata": {}
        }
      ]
    },
    {
      "cell_type": "markdown",
      "source": [
        "----\n",
        "# 3.0 Test/Train Split\n",
        "----"
      ],
      "metadata": {
        "id": "A8xr1WpGPeSz"
      },
      "id": "A8xr1WpGPeSz"
    },
    {
      "cell_type": "code",
      "source": [
        "y = df['Churn Value'].copy()\n",
        "X = df.drop(columns = ['Churn Reason', 'Churn Value', 'Churn Label', 'Lat Long', 'Latitude', 'Longitude', 'City', 'Subscriptions bool', 'Internet bool','Churn Reason Categories'], axis=1).copy()\n",
        "# dropped latitude and longitude as important geographic data can be taken from zipcode"
      ],
      "metadata": {
        "id": "6xBZaBMBT5sQ"
      },
      "id": "6xBZaBMBT5sQ",
      "execution_count": null,
      "outputs": []
    },
    {
      "cell_type": "code",
      "source": [
        "X_train, X_test, y_train, y_test = train_test_split(X, y, test_size=0.2, random_state=42)"
      ],
      "metadata": {
        "id": "Cv9rk9IyUT6f"
      },
      "id": "Cv9rk9IyUT6f",
      "execution_count": null,
      "outputs": []
    },
    {
      "cell_type": "code",
      "source": [
        "X_train_id = X_train.index\n",
        "X_test_id = X_test.index"
      ],
      "metadata": {
        "id": "CF6gsi2ajpwm"
      },
      "id": "CF6gsi2ajpwm",
      "execution_count": null,
      "outputs": []
    },
    {
      "cell_type": "code",
      "source": [
        "X_train.head()"
      ],
      "metadata": {
        "id": "jMPEH6FdYJjc",
        "colab": {
          "base_uri": "https://localhost:8080/",
          "height": 348
        },
        "outputId": "be2cb3da-3cd4-4441-cf47-862192057a02"
      },
      "id": "jMPEH6FdYJjc",
      "execution_count": null,
      "outputs": [
        {
          "output_type": "execute_result",
          "data": {
            "text/plain": [
              "      Zip Code  Gender Senior Citizen Partner Dependents  Tenure Months  \\\n",
              "2142     92119    Male             No     Yes         No             71   \n",
              "1623     95327  Female             No      No         No             16   \n",
              "6074     93543  Female             No      No         No             32   \n",
              "1362     91731  Female            Yes     Yes         No             24   \n",
              "6754     90043  Female             No     Yes        Yes             20   \n",
              "\n",
              "     Phone Service    Multiple Lines Internet Service      Online Security  \\\n",
              "2142           Yes               Yes      Fiber optic                   No   \n",
              "1623           Yes                No      Fiber optic                   No   \n",
              "6074           Yes               Yes      Fiber optic                   No   \n",
              "1362            No  No phone service              DSL                   No   \n",
              "6754           Yes                No               No  No internet service   \n",
              "\n",
              "            Online Backup    Device Protection         Tech Support  \\\n",
              "2142                   No                  Yes                   No   \n",
              "1623                  Yes                  Yes                   No   \n",
              "6074                  Yes                  Yes                   No   \n",
              "1362                   No                  Yes                   No   \n",
              "6754  No internet service  No internet service  No internet service   \n",
              "\n",
              "             Streaming TV     Streaming Movies        Contract  \\\n",
              "2142                  Yes                  Yes        One year   \n",
              "1623                   No                  Yes  Month-to-month   \n",
              "6074                  Yes                  Yes        One year   \n",
              "1362                   No                  Yes  Month-to-month   \n",
              "6754  No internet service  No internet service  Month-to-month   \n",
              "\n",
              "     Paperless Billing           Payment Method  Monthly Charges  \\\n",
              "2142               Yes  Credit card (automatic)            98.65   \n",
              "1623               Yes  Credit card (automatic)            93.20   \n",
              "6074               Yes  Credit card (automatic)           104.05   \n",
              "1362               Yes  Credit card (automatic)            40.65   \n",
              "6754                No             Mailed check            20.05   \n",
              "\n",
              "      Total Charges  Subscription Count  \n",
              "2142        6962.85                   3  \n",
              "1623        1573.70                   3  \n",
              "6074        3416.85                   4  \n",
              "1362         933.30                   2  \n",
              "6754         406.05                   0  "
            ],
            "text/html": [
              "\n",
              "  <div id=\"df-dec57bb8-b946-4c74-a39f-9f778f8300b8\" class=\"colab-df-container\">\n",
              "    <div>\n",
              "<style scoped>\n",
              "    .dataframe tbody tr th:only-of-type {\n",
              "        vertical-align: middle;\n",
              "    }\n",
              "\n",
              "    .dataframe tbody tr th {\n",
              "        vertical-align: top;\n",
              "    }\n",
              "\n",
              "    .dataframe thead th {\n",
              "        text-align: right;\n",
              "    }\n",
              "</style>\n",
              "<table border=\"1\" class=\"dataframe\">\n",
              "  <thead>\n",
              "    <tr style=\"text-align: right;\">\n",
              "      <th></th>\n",
              "      <th>Zip Code</th>\n",
              "      <th>Gender</th>\n",
              "      <th>Senior Citizen</th>\n",
              "      <th>Partner</th>\n",
              "      <th>Dependents</th>\n",
              "      <th>Tenure Months</th>\n",
              "      <th>Phone Service</th>\n",
              "      <th>Multiple Lines</th>\n",
              "      <th>Internet Service</th>\n",
              "      <th>Online Security</th>\n",
              "      <th>Online Backup</th>\n",
              "      <th>Device Protection</th>\n",
              "      <th>Tech Support</th>\n",
              "      <th>Streaming TV</th>\n",
              "      <th>Streaming Movies</th>\n",
              "      <th>Contract</th>\n",
              "      <th>Paperless Billing</th>\n",
              "      <th>Payment Method</th>\n",
              "      <th>Monthly Charges</th>\n",
              "      <th>Total Charges</th>\n",
              "      <th>Subscription Count</th>\n",
              "    </tr>\n",
              "  </thead>\n",
              "  <tbody>\n",
              "    <tr>\n",
              "      <th>2142</th>\n",
              "      <td>92119</td>\n",
              "      <td>Male</td>\n",
              "      <td>No</td>\n",
              "      <td>Yes</td>\n",
              "      <td>No</td>\n",
              "      <td>71</td>\n",
              "      <td>Yes</td>\n",
              "      <td>Yes</td>\n",
              "      <td>Fiber optic</td>\n",
              "      <td>No</td>\n",
              "      <td>No</td>\n",
              "      <td>Yes</td>\n",
              "      <td>No</td>\n",
              "      <td>Yes</td>\n",
              "      <td>Yes</td>\n",
              "      <td>One year</td>\n",
              "      <td>Yes</td>\n",
              "      <td>Credit card (automatic)</td>\n",
              "      <td>98.65</td>\n",
              "      <td>6962.85</td>\n",
              "      <td>3</td>\n",
              "    </tr>\n",
              "    <tr>\n",
              "      <th>1623</th>\n",
              "      <td>95327</td>\n",
              "      <td>Female</td>\n",
              "      <td>No</td>\n",
              "      <td>No</td>\n",
              "      <td>No</td>\n",
              "      <td>16</td>\n",
              "      <td>Yes</td>\n",
              "      <td>No</td>\n",
              "      <td>Fiber optic</td>\n",
              "      <td>No</td>\n",
              "      <td>Yes</td>\n",
              "      <td>Yes</td>\n",
              "      <td>No</td>\n",
              "      <td>No</td>\n",
              "      <td>Yes</td>\n",
              "      <td>Month-to-month</td>\n",
              "      <td>Yes</td>\n",
              "      <td>Credit card (automatic)</td>\n",
              "      <td>93.20</td>\n",
              "      <td>1573.70</td>\n",
              "      <td>3</td>\n",
              "    </tr>\n",
              "    <tr>\n",
              "      <th>6074</th>\n",
              "      <td>93543</td>\n",
              "      <td>Female</td>\n",
              "      <td>No</td>\n",
              "      <td>No</td>\n",
              "      <td>No</td>\n",
              "      <td>32</td>\n",
              "      <td>Yes</td>\n",
              "      <td>Yes</td>\n",
              "      <td>Fiber optic</td>\n",
              "      <td>No</td>\n",
              "      <td>Yes</td>\n",
              "      <td>Yes</td>\n",
              "      <td>No</td>\n",
              "      <td>Yes</td>\n",
              "      <td>Yes</td>\n",
              "      <td>One year</td>\n",
              "      <td>Yes</td>\n",
              "      <td>Credit card (automatic)</td>\n",
              "      <td>104.05</td>\n",
              "      <td>3416.85</td>\n",
              "      <td>4</td>\n",
              "    </tr>\n",
              "    <tr>\n",
              "      <th>1362</th>\n",
              "      <td>91731</td>\n",
              "      <td>Female</td>\n",
              "      <td>Yes</td>\n",
              "      <td>Yes</td>\n",
              "      <td>No</td>\n",
              "      <td>24</td>\n",
              "      <td>No</td>\n",
              "      <td>No phone service</td>\n",
              "      <td>DSL</td>\n",
              "      <td>No</td>\n",
              "      <td>No</td>\n",
              "      <td>Yes</td>\n",
              "      <td>No</td>\n",
              "      <td>No</td>\n",
              "      <td>Yes</td>\n",
              "      <td>Month-to-month</td>\n",
              "      <td>Yes</td>\n",
              "      <td>Credit card (automatic)</td>\n",
              "      <td>40.65</td>\n",
              "      <td>933.30</td>\n",
              "      <td>2</td>\n",
              "    </tr>\n",
              "    <tr>\n",
              "      <th>6754</th>\n",
              "      <td>90043</td>\n",
              "      <td>Female</td>\n",
              "      <td>No</td>\n",
              "      <td>Yes</td>\n",
              "      <td>Yes</td>\n",
              "      <td>20</td>\n",
              "      <td>Yes</td>\n",
              "      <td>No</td>\n",
              "      <td>No</td>\n",
              "      <td>No internet service</td>\n",
              "      <td>No internet service</td>\n",
              "      <td>No internet service</td>\n",
              "      <td>No internet service</td>\n",
              "      <td>No internet service</td>\n",
              "      <td>No internet service</td>\n",
              "      <td>Month-to-month</td>\n",
              "      <td>No</td>\n",
              "      <td>Mailed check</td>\n",
              "      <td>20.05</td>\n",
              "      <td>406.05</td>\n",
              "      <td>0</td>\n",
              "    </tr>\n",
              "  </tbody>\n",
              "</table>\n",
              "</div>\n",
              "    <div class=\"colab-df-buttons\">\n",
              "\n",
              "  <div class=\"colab-df-container\">\n",
              "    <button class=\"colab-df-convert\" onclick=\"convertToInteractive('df-dec57bb8-b946-4c74-a39f-9f778f8300b8')\"\n",
              "            title=\"Convert this dataframe to an interactive table.\"\n",
              "            style=\"display:none;\">\n",
              "\n",
              "  <svg xmlns=\"http://www.w3.org/2000/svg\" height=\"24px\" viewBox=\"0 -960 960 960\">\n",
              "    <path d=\"M120-120v-720h720v720H120Zm60-500h600v-160H180v160Zm220 220h160v-160H400v160Zm0 220h160v-160H400v160ZM180-400h160v-160H180v160Zm440 0h160v-160H620v160ZM180-180h160v-160H180v160Zm440 0h160v-160H620v160Z\"/>\n",
              "  </svg>\n",
              "    </button>\n",
              "\n",
              "  <style>\n",
              "    .colab-df-container {\n",
              "      display:flex;\n",
              "      gap: 12px;\n",
              "    }\n",
              "\n",
              "    .colab-df-convert {\n",
              "      background-color: #E8F0FE;\n",
              "      border: none;\n",
              "      border-radius: 50%;\n",
              "      cursor: pointer;\n",
              "      display: none;\n",
              "      fill: #1967D2;\n",
              "      height: 32px;\n",
              "      padding: 0 0 0 0;\n",
              "      width: 32px;\n",
              "    }\n",
              "\n",
              "    .colab-df-convert:hover {\n",
              "      background-color: #E2EBFA;\n",
              "      box-shadow: 0px 1px 2px rgba(60, 64, 67, 0.3), 0px 1px 3px 1px rgba(60, 64, 67, 0.15);\n",
              "      fill: #174EA6;\n",
              "    }\n",
              "\n",
              "    .colab-df-buttons div {\n",
              "      margin-bottom: 4px;\n",
              "    }\n",
              "\n",
              "    [theme=dark] .colab-df-convert {\n",
              "      background-color: #3B4455;\n",
              "      fill: #D2E3FC;\n",
              "    }\n",
              "\n",
              "    [theme=dark] .colab-df-convert:hover {\n",
              "      background-color: #434B5C;\n",
              "      box-shadow: 0px 1px 3px 1px rgba(0, 0, 0, 0.15);\n",
              "      filter: drop-shadow(0px 1px 2px rgba(0, 0, 0, 0.3));\n",
              "      fill: #FFFFFF;\n",
              "    }\n",
              "  </style>\n",
              "\n",
              "    <script>\n",
              "      const buttonEl =\n",
              "        document.querySelector('#df-dec57bb8-b946-4c74-a39f-9f778f8300b8 button.colab-df-convert');\n",
              "      buttonEl.style.display =\n",
              "        google.colab.kernel.accessAllowed ? 'block' : 'none';\n",
              "\n",
              "      async function convertToInteractive(key) {\n",
              "        const element = document.querySelector('#df-dec57bb8-b946-4c74-a39f-9f778f8300b8');\n",
              "        const dataTable =\n",
              "          await google.colab.kernel.invokeFunction('convertToInteractive',\n",
              "                                                    [key], {});\n",
              "        if (!dataTable) return;\n",
              "\n",
              "        const docLinkHtml = 'Like what you see? Visit the ' +\n",
              "          '<a target=\"_blank\" href=https://colab.research.google.com/notebooks/data_table.ipynb>data table notebook</a>'\n",
              "          + ' to learn more about interactive tables.';\n",
              "        element.innerHTML = '';\n",
              "        dataTable['output_type'] = 'display_data';\n",
              "        await google.colab.output.renderOutput(dataTable, element);\n",
              "        const docLink = document.createElement('div');\n",
              "        docLink.innerHTML = docLinkHtml;\n",
              "        element.appendChild(docLink);\n",
              "      }\n",
              "    </script>\n",
              "  </div>\n",
              "\n",
              "\n",
              "<div id=\"df-99a78325-ce47-4a22-87ca-d254a1a04e88\">\n",
              "  <button class=\"colab-df-quickchart\" onclick=\"quickchart('df-99a78325-ce47-4a22-87ca-d254a1a04e88')\"\n",
              "            title=\"Suggest charts\"\n",
              "            style=\"display:none;\">\n",
              "\n",
              "<svg xmlns=\"http://www.w3.org/2000/svg\" height=\"24px\"viewBox=\"0 0 24 24\"\n",
              "     width=\"24px\">\n",
              "    <g>\n",
              "        <path d=\"M19 3H5c-1.1 0-2 .9-2 2v14c0 1.1.9 2 2 2h14c1.1 0 2-.9 2-2V5c0-1.1-.9-2-2-2zM9 17H7v-7h2v7zm4 0h-2V7h2v10zm4 0h-2v-4h2v4z\"/>\n",
              "    </g>\n",
              "</svg>\n",
              "  </button>\n",
              "\n",
              "<style>\n",
              "  .colab-df-quickchart {\n",
              "      --bg-color: #E8F0FE;\n",
              "      --fill-color: #1967D2;\n",
              "      --hover-bg-color: #E2EBFA;\n",
              "      --hover-fill-color: #174EA6;\n",
              "      --disabled-fill-color: #AAA;\n",
              "      --disabled-bg-color: #DDD;\n",
              "  }\n",
              "\n",
              "  [theme=dark] .colab-df-quickchart {\n",
              "      --bg-color: #3B4455;\n",
              "      --fill-color: #D2E3FC;\n",
              "      --hover-bg-color: #434B5C;\n",
              "      --hover-fill-color: #FFFFFF;\n",
              "      --disabled-bg-color: #3B4455;\n",
              "      --disabled-fill-color: #666;\n",
              "  }\n",
              "\n",
              "  .colab-df-quickchart {\n",
              "    background-color: var(--bg-color);\n",
              "    border: none;\n",
              "    border-radius: 50%;\n",
              "    cursor: pointer;\n",
              "    display: none;\n",
              "    fill: var(--fill-color);\n",
              "    height: 32px;\n",
              "    padding: 0;\n",
              "    width: 32px;\n",
              "  }\n",
              "\n",
              "  .colab-df-quickchart:hover {\n",
              "    background-color: var(--hover-bg-color);\n",
              "    box-shadow: 0 1px 2px rgba(60, 64, 67, 0.3), 0 1px 3px 1px rgba(60, 64, 67, 0.15);\n",
              "    fill: var(--button-hover-fill-color);\n",
              "  }\n",
              "\n",
              "  .colab-df-quickchart-complete:disabled,\n",
              "  .colab-df-quickchart-complete:disabled:hover {\n",
              "    background-color: var(--disabled-bg-color);\n",
              "    fill: var(--disabled-fill-color);\n",
              "    box-shadow: none;\n",
              "  }\n",
              "\n",
              "  .colab-df-spinner {\n",
              "    border: 2px solid var(--fill-color);\n",
              "    border-color: transparent;\n",
              "    border-bottom-color: var(--fill-color);\n",
              "    animation:\n",
              "      spin 1s steps(1) infinite;\n",
              "  }\n",
              "\n",
              "  @keyframes spin {\n",
              "    0% {\n",
              "      border-color: transparent;\n",
              "      border-bottom-color: var(--fill-color);\n",
              "      border-left-color: var(--fill-color);\n",
              "    }\n",
              "    20% {\n",
              "      border-color: transparent;\n",
              "      border-left-color: var(--fill-color);\n",
              "      border-top-color: var(--fill-color);\n",
              "    }\n",
              "    30% {\n",
              "      border-color: transparent;\n",
              "      border-left-color: var(--fill-color);\n",
              "      border-top-color: var(--fill-color);\n",
              "      border-right-color: var(--fill-color);\n",
              "    }\n",
              "    40% {\n",
              "      border-color: transparent;\n",
              "      border-right-color: var(--fill-color);\n",
              "      border-top-color: var(--fill-color);\n",
              "    }\n",
              "    60% {\n",
              "      border-color: transparent;\n",
              "      border-right-color: var(--fill-color);\n",
              "    }\n",
              "    80% {\n",
              "      border-color: transparent;\n",
              "      border-right-color: var(--fill-color);\n",
              "      border-bottom-color: var(--fill-color);\n",
              "    }\n",
              "    90% {\n",
              "      border-color: transparent;\n",
              "      border-bottom-color: var(--fill-color);\n",
              "    }\n",
              "  }\n",
              "</style>\n",
              "\n",
              "  <script>\n",
              "    async function quickchart(key) {\n",
              "      const quickchartButtonEl =\n",
              "        document.querySelector('#' + key + ' button');\n",
              "      quickchartButtonEl.disabled = true;  // To prevent multiple clicks.\n",
              "      quickchartButtonEl.classList.add('colab-df-spinner');\n",
              "      try {\n",
              "        const charts = await google.colab.kernel.invokeFunction(\n",
              "            'suggestCharts', [key], {});\n",
              "      } catch (error) {\n",
              "        console.error('Error during call to suggestCharts:', error);\n",
              "      }\n",
              "      quickchartButtonEl.classList.remove('colab-df-spinner');\n",
              "      quickchartButtonEl.classList.add('colab-df-quickchart-complete');\n",
              "    }\n",
              "    (() => {\n",
              "      let quickchartButtonEl =\n",
              "        document.querySelector('#df-99a78325-ce47-4a22-87ca-d254a1a04e88 button');\n",
              "      quickchartButtonEl.style.display =\n",
              "        google.colab.kernel.accessAllowed ? 'block' : 'none';\n",
              "    })();\n",
              "  </script>\n",
              "</div>\n",
              "    </div>\n",
              "  </div>\n"
            ],
            "application/vnd.google.colaboratory.intrinsic+json": {
              "type": "dataframe",
              "variable_name": "X_train"
            }
          },
          "metadata": {},
          "execution_count": 30
        }
      ]
    },
    {
      "cell_type": "markdown",
      "source": [
        "----\n",
        "# 4.0 Feature Engineering\n",
        "----\n",
        "We have already implemented some feature engineering by costructing the subscriptions column. Other than that, we will extract the area from the zip code to group customers based on area and we will be ensuring all data types are numeric for sklearn."
      ],
      "metadata": {
        "id": "5iVoyYzGSf4q"
      },
      "id": "5iVoyYzGSf4q"
    },
    {
      "cell_type": "code",
      "execution_count": null,
      "id": "554b5f3a-48e0-4fd6-aee1-6ab1b44617b7",
      "metadata": {
        "id": "554b5f3a-48e0-4fd6-aee1-6ab1b44617b7"
      },
      "outputs": [],
      "source": [
        "def zip_translate(zip):\n",
        "  \"\"\"\n",
        "  \"\"\"\n",
        "  return int(str(zip)[1:3])\n",
        "\n",
        "def feature_engineering(df, model):\n",
        "  \"\"\"\n",
        "  Performs our feature engineering on a given dataframe dependent on the model we\n",
        "  want to use\n",
        "\n",
        "  Args:\n",
        "    df (pd dataframe): original df\n",
        "    model (string): Either lr or dt/df for logistic regression or decision trees/forests respectively\n",
        "\n",
        "  Returns:\n",
        "    df (pd dataframe): df with only numeric datatypes and OHE\n",
        "  \"\"\"\n",
        "  df = df.copy() # local df to avoid affecting global df\n",
        "\n",
        "  # Change service related columns to binary columns\n",
        "  tertiary_columns = get_vc_columns(df, 3) # get all columns with 3 values\n",
        "  # make sure we keep contract and internet service for OHE\n",
        "  if 'Contract' in tertiary_columns: # Accounting for dfs without the full 3 values\n",
        "    tertiary_columns.remove('Contract')\n",
        "  if 'Internet Service' in tertiary_columns:\n",
        "    tertiary_columns.remove('Internet Service')\n",
        "  for column in tertiary_columns:\n",
        "    df[column] = df[column].apply(lambda x: x if x in ['Yes', 'No'] else 'No')\n",
        "\n",
        "  # map all binary columns to numerical for sklearn\n",
        "  binary_columns = get_vc_columns(df, 2)\n",
        "  if 'Internet Service' in binary_columns:\n",
        "    binary_columns.remove('Internet Service')\n",
        "  for column in binary_columns:\n",
        "    if column == 'Gender':\n",
        "      df[column] = df[column].map({'Male': 1, 'Female': 0})\n",
        "    else:\n",
        "      df[column] = df[column].map({'Yes': 1, 'No': 0})\n",
        "\n",
        "  df[\"Zip Area\"] = df[\"Zip Code\"].apply(zip_translate)\n",
        "  #df.drop(\"Zip Code\",inplace=True)\n",
        "\n",
        "  # OHE (keep_first = True for dt/rf, keep_first = False for lr)\n",
        "  if model.lower() == 'lr':\n",
        "    df = pd.get_dummies(data=df, columns=['Internet Service', 'Payment Method', 'Contract'], prefix=['IntServ', 'PayMeth', 'Cont'], drop_first=True)\n",
        "  else:\n",
        "    df = pd.get_dummies(data=df, columns=['Internet Service', 'Payment Method', 'Contract'], prefix=['IntServ', 'PayMeth', 'Cont'], drop_first=False)\n",
        "\n",
        "  return df"
      ]
    },
    {
      "cell_type": "markdown",
      "source": [
        "----\n",
        "# 5.0 Our Models\n",
        "----\n",
        "We are going to try two main modelling techniques: logistic regression and decision forests then pick our final model based on comparitive performance. For the evaluation the metrics we're going to be most concered with are:\n",
        "* Accuracy in general\n",
        "* Accuracy difference between testing and training data sets\n",
        "* Recall\n",
        "\n",
        "Whilst we want recall and precision to be balanced we will ideally prioritize recall. That is to say we aim to minimize false negatives. We deemed it more important to avoid missing customers who are at risk of churning. This could change depending on the uptake of sent offers (20% currently) and the cost of engaging with churn risks."
      ],
      "metadata": {
        "id": "IorP883dSFeU"
      },
      "id": "IorP883dSFeU"
    },
    {
      "cell_type": "markdown",
      "source": [
        "## 5.1 Initial Feature Analysis and Selection\n",
        "To determine which features better predit the target we are first going to build an initial primitive model. From this model we will evaluate which features are closer in proximity to the root note and their respective feature weights. This\n",
        "will drive our decision making at the feature selection stage."
      ],
      "metadata": {
        "id": "_3I3-vDKtFxx"
      },
      "id": "_3I3-vDKtFxx"
    },
    {
      "cell_type": "code",
      "source": [
        "# Feature engineering on train and test sets\n",
        "X_train_og_fe = feature_engineering(X_train, 'dt')\n",
        "X_test_og_fe = feature_engineering(X_test, 'dt')\n",
        "# Initializing the dt model with limited parameters and fitting\n",
        "og_dt = DecisionTreeClassifier(max_depth = 6, max_features = 6)\n",
        "og_dt.fit(X_train_og_fe, y_train)\n",
        "\n",
        "print(f\" For our first model we have: Test Accuracy: {round(og_dt.score(X_train_og_fe, y_train), 3)}, Train Accuracy: {round(og_dt.score(X_test_og_fe, y_test), 3)}\")"
      ],
      "metadata": {
        "id": "c2CmjS55tGgY",
        "colab": {
          "base_uri": "https://localhost:8080/"
        },
        "outputId": "5bade3b2-01d1-4864-bc5c-003b48d48b47"
      },
      "id": "c2CmjS55tGgY",
      "execution_count": null,
      "outputs": [
        {
          "output_type": "stream",
          "name": "stdout",
          "text": [
            " For our first model we have: Test Accuracy: 0.806, Train Accuracy: 0.786\n"
          ]
        }
      ]
    },
    {
      "cell_type": "markdown",
      "source": [
        "Using our initial model we found that tenure months, dependents, type of internet subscription, payment method and contract type as strong predictors for churn risk. We're going to use these as a starting point for feature selection."
      ],
      "metadata": {
        "id": "DTFRlhpujApv"
      },
      "id": "DTFRlhpujApv"
    },
    {
      "cell_type": "code",
      "source": [
        "feature_cols = ['Tenure Months', 'Dependents', 'IntServ_DSL', 'IntServ_Fiber optic', 'IntServ_No',\n",
        "                'PayMeth_Bank transfer (automatic)', 'PayMeth_Credit card (automatic)', 'PayMeth_Electronic check',\n",
        "                'PayMeth_Mailed check', 'Cont_Month-to-month', 'Cont_One year', 'Cont_Two year', 'Monthly Charges']"
      ],
      "metadata": {
        "id": "BvdfOIsd68oK"
      },
      "id": "BvdfOIsd68oK",
      "execution_count": null,
      "outputs": []
    },
    {
      "cell_type": "markdown",
      "source": [
        "## 5.2 Decision Tree\n",
        "To get a benchmark for performance, we'll try a decision tree implementing grid search for hyperparameter tuning and feature selection as above. Ultimately, we are expecting the random forest to perform better."
      ],
      "metadata": {
        "id": "f4_ao5bmePq6"
      },
      "id": "f4_ao5bmePq6"
    },
    {
      "cell_type": "markdown",
      "source": [
        "### 5.2.1 Model Training"
      ],
      "metadata": {
        "id": "MCdOr2TrJdr0"
      },
      "id": "MCdOr2TrJdr0"
    },
    {
      "cell_type": "code",
      "source": [
        "X_train_dt_fe = feature_engineering(X_train, 'dt')[feature_cols]"
      ],
      "metadata": {
        "id": "KXxX8NV0jZOY"
      },
      "id": "KXxX8NV0jZOY",
      "execution_count": null,
      "outputs": []
    },
    {
      "cell_type": "code",
      "source": [
        "dtgs = GridSearchCV(estimator = DecisionTreeClassifier(),\n",
        "                    param_grid = {'max_depth': [6, 7, 8], # How many levels can I go down\n",
        "                                  'min_samples_split': [5, 10, 15], # How many samples to make a split\n",
        "                                  'min_samples_leaf': [2, 3, 4], # How many samples to make a leaf\n",
        "                                  'max_features':[8, 10, 14]}, # How many parameters can I use\n",
        "                    cv = 10, # cross-validation - it will use these parameters on splits of the data set\n",
        "                    # here we split X_train into 10 segments.\n",
        "                    refit = True, # do we refit data each run\n",
        "                    verbose = 1, # how much info\n",
        "                    scoring = 'accuracy')"
      ],
      "metadata": {
        "id": "eTZpGxj_hEqh"
      },
      "id": "eTZpGxj_hEqh",
      "execution_count": null,
      "outputs": []
    },
    {
      "cell_type": "code",
      "source": [
        "dtgs.fit(X_train_dt_fe, y_train)\n",
        "dt = dtgs.best_estimator_ # Take the best model from the decision tree grid search\n",
        "dtgs.best_params_ # what are our best performing hyperparameters\n",
        "\n",
        "# 'max_depth': 6,\n",
        "#  'max_features': 8,\n",
        "#  'min_samples_leaf': 2,\n",
        "#  'min_samples_split': 10"
      ],
      "metadata": {
        "id": "xuHmhfUyiaaA",
        "colab": {
          "base_uri": "https://localhost:8080/"
        },
        "outputId": "f5504769-6633-4da3-ea62-1d401de3f332"
      },
      "id": "xuHmhfUyiaaA",
      "execution_count": null,
      "outputs": [
        {
          "output_type": "stream",
          "name": "stdout",
          "text": [
            "Fitting 10 folds for each of 81 candidates, totalling 810 fits\n"
          ]
        },
        {
          "output_type": "execute_result",
          "data": {
            "text/plain": [
              "{'max_depth': 6,\n",
              " 'max_features': 8,\n",
              " 'min_samples_leaf': 3,\n",
              " 'min_samples_split': 15}"
            ]
          },
          "metadata": {},
          "execution_count": 36
        }
      ]
    },
    {
      "cell_type": "markdown",
      "source": [
        "### 5.2.2 Model Evaluation"
      ],
      "metadata": {
        "id": "gAOG0KadJgQM"
      },
      "id": "gAOG0KadJgQM"
    },
    {
      "cell_type": "code",
      "source": [
        "# list(zip(list(X_train_dt_fe.columns), dt.feature_importances_))"
      ],
      "metadata": {
        "id": "12NiINNFjX4C"
      },
      "id": "12NiINNFjX4C",
      "execution_count": null,
      "outputs": []
    },
    {
      "cell_type": "code",
      "source": [
        "X_test_dt_fe = feature_engineering(X_test, 'dt')[feature_cols]\n",
        "dt_y_pred = dt.predict(X_test_dt_fe)"
      ],
      "metadata": {
        "id": "XisK27bx3IgL"
      },
      "id": "XisK27bx3IgL",
      "execution_count": null,
      "outputs": []
    },
    {
      "cell_type": "code",
      "source": [
        "dt_train_score = round(dt.score(X_train_dt_fe, y_train), 3)\n",
        "dt_test_score = round(dt.score(X_test_dt_fe, y_test), 3)\n",
        "if dt_train_score >= dt_test_score:\n",
        "  print(f\"Decision tree may be overfit, {round((dt_train_score-dt_test_score)*100, 2)}% difference\")\n",
        "else:\n",
        "  print(f\"Decision tree may be underfit, {round((dt_test_score-dt_train_score)*100, 2)}% difference\")\n",
        "print(f\"Train score: {dt_train_score}, Test score: {dt_test_score}\")"
      ],
      "metadata": {
        "id": "kDvXYEc-3Cll",
        "colab": {
          "base_uri": "https://localhost:8080/"
        },
        "outputId": "fc86ae9c-74ec-4e91-a405-4fe2edcd98bc"
      },
      "id": "kDvXYEc-3Cll",
      "execution_count": null,
      "outputs": [
        {
          "output_type": "stream",
          "name": "stdout",
          "text": [
            "Decision tree may be overfit, 1.4% difference\n",
            "Train score: 0.801, Test score: 0.787\n"
          ]
        }
      ]
    },
    {
      "cell_type": "code",
      "source": [
        "# Code for precision/recall and F1-score\n",
        "print(metrics.classification_report(y_test, dt_y_pred, target_names=['No Churn', 'Churn']))"
      ],
      "metadata": {
        "id": "mNw0-EXdJN5W",
        "colab": {
          "base_uri": "https://localhost:8080/"
        },
        "outputId": "a9e9864b-c4b2-4afa-e1be-fa1b58448436"
      },
      "id": "mNw0-EXdJN5W",
      "execution_count": null,
      "outputs": [
        {
          "output_type": "stream",
          "name": "stdout",
          "text": [
            "              precision    recall  f1-score   support\n",
            "\n",
            "    No Churn       0.81      0.91      0.86      1009\n",
            "       Churn       0.68      0.47      0.55       400\n",
            "\n",
            "    accuracy                           0.79      1409\n",
            "   macro avg       0.75      0.69      0.71      1409\n",
            "weighted avg       0.78      0.79      0.77      1409\n",
            "\n"
          ]
        }
      ]
    },
    {
      "cell_type": "markdown",
      "source": [
        "Our performance on"
      ],
      "metadata": {
        "id": "_lwxrK5auQmd"
      },
      "id": "_lwxrK5auQmd"
    },
    {
      "cell_type": "code",
      "source": [
        "probabilities = dt.predict_proba(X_test_dt_fe)[:, 1]  # Probabilities of the positive class\n",
        "\n",
        "adjusted_predictions = (probabilities >= 0.4).astype(int)\n",
        "\n",
        "print(metrics.classification_report(y_test, adjusted_predictions, target_names=['No Churn', 'Churn']))"
      ],
      "metadata": {
        "id": "FojTgdGHuLEo",
        "colab": {
          "base_uri": "https://localhost:8080/"
        },
        "outputId": "433b63b8-4924-4f19-b59b-a64ed7e56455"
      },
      "id": "FojTgdGHuLEo",
      "execution_count": null,
      "outputs": [
        {
          "output_type": "stream",
          "name": "stdout",
          "text": [
            "              precision    recall  f1-score   support\n",
            "\n",
            "    No Churn       0.88      0.81      0.84      1009\n",
            "       Churn       0.59      0.71      0.65       400\n",
            "\n",
            "    accuracy                           0.78      1409\n",
            "   macro avg       0.74      0.76      0.74      1409\n",
            "weighted avg       0.80      0.78      0.79      1409\n",
            "\n"
          ]
        }
      ]
    },
    {
      "cell_type": "markdown",
      "source": [
        "With our decision tree we're having issues with minimizing false negatives. Despite our high accuracy and close fit. Even when adjusting the threshold we're not seeing significant improvements to recall. This poor performance may, in part, be explained by the class imbalance in the original dataset."
      ],
      "metadata": {
        "id": "T4w_JPsiwnAL"
      },
      "id": "T4w_JPsiwnAL"
    },
    {
      "cell_type": "code",
      "source": [
        "print(f\" Only {round(y_train.sum()/(y_train.shape[0]), 2)*100}% of our training data set has churned\")"
      ],
      "metadata": {
        "id": "tI6QfVvgw-pF",
        "colab": {
          "base_uri": "https://localhost:8080/"
        },
        "outputId": "2bc91b5e-df7d-4687-deb3-1dbd806e4b5f"
      },
      "id": "tI6QfVvgw-pF",
      "execution_count": null,
      "outputs": [
        {
          "output_type": "stream",
          "name": "stdout",
          "text": [
            " Only 26.0% of our training data set has churned\n"
          ]
        }
      ]
    },
    {
      "cell_type": "markdown",
      "source": [
        "## 5.3 Random Forest"
      ],
      "metadata": {
        "id": "o7ULVj2GeM5V"
      },
      "id": "o7ULVj2GeM5V"
    },
    {
      "cell_type": "markdown",
      "source": [
        "### 5.3.1 Model Training"
      ],
      "metadata": {
        "id": "QtqqZ65OJVMw"
      },
      "id": "QtqqZ65OJVMw"
    },
    {
      "cell_type": "code",
      "source": [
        "X_train_df_fe = feature_engineering(X_train, 'df')[feature_cols]"
      ],
      "metadata": {
        "id": "O1O02Amkj1Sn"
      },
      "id": "O1O02Amkj1Sn",
      "execution_count": null,
      "outputs": []
    },
    {
      "cell_type": "code",
      "source": [
        "# WARNING! TOP rf_params can take up to 10 minutes to run, uncomment params below if just skipping through\n",
        "rf_params = {\n",
        "    'max_depth': [7, 8],\n",
        "    'max_features': [6, 7, 8],\n",
        "    'min_samples_split': [25, 30],\n",
        "    'min_samples_leaf': [10, 12],\n",
        "    'n_estimators': [125]\n",
        "}\n",
        "\n",
        "# rf_params = {\n",
        "#     'max_depth': [7],\n",
        "#     'max_features': [6],\n",
        "#     'min_samples_split': [25],\n",
        "#     'min_samples_leaf': [8],\n",
        "#     'n_estimators': [50]\n",
        "# }\n",
        "\n",
        "gs = GridSearchCV(estimator = RandomForestClassifier(), param_grid=rf_params, cv=5, n_jobs = -1)"
      ],
      "metadata": {
        "id": "JfS0DlGySM10"
      },
      "id": "JfS0DlGySM10",
      "execution_count": null,
      "outputs": []
    },
    {
      "cell_type": "code",
      "source": [
        "gs.fit(X_train_df_fe, y_train)\n",
        "rf = gs.best_estimator_ # assign our best performing model to rf\n",
        "gs.best_params_ # The best hyper parameters from the grid search"
      ],
      "metadata": {
        "id": "km2EqIZO6280",
        "colab": {
          "base_uri": "https://localhost:8080/"
        },
        "outputId": "7e251429-4ea6-45de-93bf-8c84fd5e809a"
      },
      "id": "km2EqIZO6280",
      "execution_count": null,
      "outputs": [
        {
          "output_type": "execute_result",
          "data": {
            "text/plain": [
              "{'max_depth': 7,\n",
              " 'max_features': 6,\n",
              " 'min_samples_leaf': 8,\n",
              " 'min_samples_split': 25,\n",
              " 'n_estimators': 50}"
            ]
          },
          "metadata": {},
          "execution_count": 47
        }
      ]
    },
    {
      "cell_type": "markdown",
      "source": [
        "### 5.3.2 Model Evaluation"
      ],
      "metadata": {
        "id": "N3dBDWHzJYaq"
      },
      "id": "N3dBDWHzJYaq"
    },
    {
      "cell_type": "code",
      "source": [
        "X_test_df_fe = feature_engineering(X_test, 'df')\n",
        "X_test_df_fe = X_test_df_fe[feature_cols]\n",
        "df_y_pred = rf.predict(X_test_df_fe)"
      ],
      "metadata": {
        "id": "xWHI7YxAN-OX"
      },
      "id": "xWHI7YxAN-OX",
      "execution_count": null,
      "outputs": []
    },
    {
      "cell_type": "code",
      "source": [
        "#"
      ],
      "metadata": {
        "id": "0JeSmGV1UogI"
      },
      "id": "0JeSmGV1UogI",
      "execution_count": null,
      "outputs": []
    },
    {
      "cell_type": "code",
      "source": [
        "df_train_score = round(rf.score(X_train_df_fe, y_train), 3)\n",
        "df_test_score = round(rf.score(X_test_df_fe, y_test), 3)\n",
        "if df_train_score >= df_test_score:\n",
        "  print(f\"Decision forest may be overfit, {round((df_train_score-df_test_score)*100, 2)}% difference\")\n",
        "else:\n",
        "  print(f\"Decision forest may be underfit, {round((df_test_score-df_train_score)*100, 2)}% difference\")\n",
        "print(f\"Train score: {df_train_score}, Test score: {df_test_score}\")"
      ],
      "metadata": {
        "id": "VJ3iU4mmN4aY",
        "colab": {
          "base_uri": "https://localhost:8080/"
        },
        "outputId": "2164ea3c-f3f8-409c-a021-6099db8e8788"
      },
      "id": "VJ3iU4mmN4aY",
      "execution_count": null,
      "outputs": [
        {
          "output_type": "stream",
          "name": "stdout",
          "text": [
            "Decision forest may be overfit, 1.7% difference\n",
            "Train score: 0.815, Test score: 0.798\n"
          ]
        }
      ]
    },
    {
      "cell_type": "markdown",
      "source": [
        "Our best fit so far has been around 0.9% overfit"
      ],
      "metadata": {
        "id": "J0SMA186MMGR"
      },
      "id": "J0SMA186MMGR"
    },
    {
      "cell_type": "code",
      "source": [
        "# Code for precision/recall and F1-score\n",
        "print(metrics.classification_report(y_test, df_y_pred, target_names=['No Churn', 'Churn']))"
      ],
      "metadata": {
        "id": "tuA6ri0ZJR9x",
        "colab": {
          "base_uri": "https://localhost:8080/"
        },
        "outputId": "7c1bd4d1-41bf-46ce-bc72-dad88f0db5f3"
      },
      "id": "tuA6ri0ZJR9x",
      "execution_count": null,
      "outputs": [
        {
          "output_type": "stream",
          "name": "stdout",
          "text": [
            "              precision    recall  f1-score   support\n",
            "\n",
            "    No Churn       0.84      0.89      0.86      1009\n",
            "       Churn       0.67      0.57      0.61       400\n",
            "\n",
            "    accuracy                           0.80      1409\n",
            "   macro avg       0.75      0.73      0.74      1409\n",
            "weighted avg       0.79      0.80      0.79      1409\n",
            "\n"
          ]
        }
      ]
    },
    {
      "cell_type": "code",
      "source": [
        "probabilities = rf.predict_proba(X_test_df_fe)[:, 1]  # Probabilities of the positive class\n",
        "adjusted_predictions_df = (probabilities >= 0.34).astype(int)\n",
        "\n",
        "print(metrics.classification_report(y_test, adjusted_predictions_df, target_names=['No Churn', 'Churn']))"
      ],
      "metadata": {
        "id": "-SqVmEgLvBNl",
        "colab": {
          "base_uri": "https://localhost:8080/"
        },
        "outputId": "5bf4f83d-eb9f-41d1-f15d-3002686d5fb2"
      },
      "id": "-SqVmEgLvBNl",
      "execution_count": null,
      "outputs": [
        {
          "output_type": "stream",
          "name": "stdout",
          "text": [
            "              precision    recall  f1-score   support\n",
            "\n",
            "    No Churn       0.89      0.80      0.85      1009\n",
            "       Churn       0.60      0.76      0.67       400\n",
            "\n",
            "    accuracy                           0.79      1409\n",
            "   macro avg       0.75      0.78      0.76      1409\n",
            "weighted avg       0.81      0.79      0.80      1409\n",
            "\n"
          ]
        }
      ]
    },
    {
      "cell_type": "markdown",
      "source": [
        "As we are focused on recall, there is a real possibility that adjusting the threshold downwards may be more worthwhile.\n",
        "\n",
        "We also tried using class weights with the model parameter class_weight='balanced' for our decision forest. This did reduce false negatives and maximize recall but at the cost of overall accuracy and slight overfitting."
      ],
      "metadata": {
        "id": "bMh334KXMSeN"
      },
      "id": "bMh334KXMSeN"
    },
    {
      "cell_type": "markdown",
      "source": [
        "## 5.4 Random Forest with SMOTE Oversampling\n",
        "Because we are still seeing poor performance in performance for classifying Churn on the test set and in particular recall we will try oversampling the training set in order to balance the classes using SMOTE."
      ],
      "metadata": {
        "id": "c9KLkOmWB2LK"
      },
      "id": "c9KLkOmWB2LK"
    },
    {
      "cell_type": "markdown",
      "source": [
        "### 5.4.1 Model Training and Oversampling"
      ],
      "metadata": {
        "id": "DHMJaQXXDWlu"
      },
      "id": "DHMJaQXXDWlu"
    },
    {
      "cell_type": "code",
      "source": [
        "from imblearn.over_sampling import SMOTE\n",
        "smote = SMOTE()\n",
        "# Warning, smote worked on google collab but there were issues with dependencies in local jupyter lab environments"
      ],
      "metadata": {
        "id": "Xk0me1C4CoSh"
      },
      "id": "Xk0me1C4CoSh",
      "execution_count": null,
      "outputs": []
    },
    {
      "cell_type": "code",
      "source": [
        "# Feature engineering, resampling and selecting features\n",
        "X_train_rfos_fe = feature_engineering(X_train, 'df')\n",
        "X_train_rfos_fe, y_train_os = smote.fit_resample(X_train_rfos_fe, y_train)\n",
        "X_train_rfos_fe = X_train_rfos_fe[feature_cols]"
      ],
      "metadata": {
        "id": "PSHogw8QCqW-"
      },
      "id": "PSHogw8QCqW-",
      "execution_count": null,
      "outputs": []
    },
    {
      "cell_type": "code",
      "source": [
        "rf_params = {\n",
        "    'max_depth': [7, 8],\n",
        "    'max_features': [6, 7],\n",
        "    'min_samples_split': [25, 30],\n",
        "    'min_samples_leaf': [10],\n",
        "    'n_estimators': [125]\n",
        "}\n",
        "\n",
        "gsos = GridSearchCV(estimator = RandomForestClassifier(), param_grid=rf_params, cv=5, n_jobs = -1)"
      ],
      "metadata": {
        "id": "6BShzOkuC79R"
      },
      "id": "6BShzOkuC79R",
      "execution_count": null,
      "outputs": []
    },
    {
      "cell_type": "code",
      "source": [
        "gsos.fit(X_train_rfos_fe, y_train_os)\n",
        "rfos = gs.best_estimator_ # assign our best performing model to rfos\n",
        "gsos.best_params_ # The best hyper parameters from the grid search"
      ],
      "metadata": {
        "id": "S-8Rca0pDOv-",
        "colab": {
          "base_uri": "https://localhost:8080/"
        },
        "outputId": "c7b4dc6f-848a-4920-fdf3-21387cd2c0dc"
      },
      "id": "S-8Rca0pDOv-",
      "execution_count": null,
      "outputs": [
        {
          "output_type": "execute_result",
          "data": {
            "text/plain": [
              "{'max_depth': 7,\n",
              " 'max_features': 7,\n",
              " 'min_samples_leaf': 10,\n",
              " 'min_samples_split': 30,\n",
              " 'n_estimators': 125}"
            ]
          },
          "metadata": {},
          "execution_count": 56
        }
      ]
    },
    {
      "cell_type": "markdown",
      "source": [
        "### 5.4.2 Model Evaluation"
      ],
      "metadata": {
        "id": "Rb7CmjFUH0WJ"
      },
      "id": "Rb7CmjFUH0WJ"
    },
    {
      "cell_type": "code",
      "source": [
        "X_test_rfos_fe = feature_engineering(X_test, 'df')\n",
        "X_test_rfos_fe = X_test_df_fe[feature_cols]\n",
        "rfos_y_pred = rfos.predict(X_test_rfos_fe)"
      ],
      "metadata": {
        "id": "Nkqe9B0UDpYo"
      },
      "id": "Nkqe9B0UDpYo",
      "execution_count": null,
      "outputs": []
    },
    {
      "cell_type": "code",
      "source": [
        "rf_train_score = round(rfos.score(X_train_rfos_fe, y_train_os), 3)\n",
        "rf_test_score = round(rfos.score(X_test_rfos_fe, y_test), 3)\n",
        "if rf_train_score >= rf_test_score:\n",
        "  print(f\"Decision forest may be overfit, {round((rf_train_score-rf_test_score)*100, 2)}% difference\")\n",
        "else:\n",
        "  print(f\"Decision forest may be underfit, {round((rf_test_score-rf_train_score)*100, 2)}% difference\")\n",
        "print(f\"Train score: {rf_train_score}, Test score: {rf_test_score}\")"
      ],
      "metadata": {
        "id": "jrPk4QnjGprW",
        "colab": {
          "base_uri": "https://localhost:8080/"
        },
        "outputId": "f7d9e753-9459-4368-b223-19527872844f"
      },
      "id": "jrPk4QnjGprW",
      "execution_count": null,
      "outputs": [
        {
          "output_type": "stream",
          "name": "stdout",
          "text": [
            "Decision forest may be underfit, 10.4% difference\n",
            "Train score: 0.694, Test score: 0.798\n"
          ]
        }
      ]
    },
    {
      "cell_type": "code",
      "source": [
        "print(metrics.classification_report(y_test, rfos_y_pred, target_names=['No Churn', 'Churn']))"
      ],
      "metadata": {
        "id": "N63j6HZtFOSX",
        "colab": {
          "base_uri": "https://localhost:8080/"
        },
        "outputId": "9b2098f4-d6d2-4870-8258-9658b7d6dbc2"
      },
      "id": "N63j6HZtFOSX",
      "execution_count": null,
      "outputs": [
        {
          "output_type": "stream",
          "name": "stdout",
          "text": [
            "              precision    recall  f1-score   support\n",
            "\n",
            "    No Churn       0.84      0.89      0.86      1009\n",
            "       Churn       0.67      0.57      0.61       400\n",
            "\n",
            "    accuracy                           0.80      1409\n",
            "   macro avg       0.75      0.73      0.74      1409\n",
            "weighted avg       0.79      0.80      0.79      1409\n",
            "\n"
          ]
        }
      ]
    },
    {
      "cell_type": "markdown",
      "source": [
        "At different stages we've had more overfitting and underfitting by oversampling. The overfitting is to be expected. However, this degree of overfitting means the model will likely not generalize well despite some version of the model's training leading to higher recall numbers and therefore classifying fewer false negatives.\n",
        "\n",
        "We will therefore not continue oversampling."
      ],
      "metadata": {
        "id": "Fn2V-8eAIl8l"
      },
      "id": "Fn2V-8eAIl8l"
    },
    {
      "cell_type": "markdown",
      "source": [
        "## 5.5 Logistic Regression"
      ],
      "metadata": {
        "id": "Iw-sB4RVN3aM"
      },
      "id": "Iw-sB4RVN3aM"
    },
    {
      "cell_type": "markdown",
      "source": [
        "### 5.5.1 Model Training SKLearn"
      ],
      "metadata": {
        "id": "d9Gl4tifw6eU"
      },
      "id": "d9Gl4tifw6eU"
    },
    {
      "cell_type": "code",
      "source": [
        "X_train_lr_fe = feature_engineering(X_train, 'lr')\n",
        "X_train_lr_fe.columns"
      ],
      "metadata": {
        "id": "bTwtqOCSN1Ch",
        "colab": {
          "base_uri": "https://localhost:8080/"
        },
        "outputId": "d5cb94c2-1dbb-4dc9-ac81-61586d30d52a"
      },
      "id": "bTwtqOCSN1Ch",
      "execution_count": null,
      "outputs": [
        {
          "output_type": "execute_result",
          "data": {
            "text/plain": [
              "Index(['Zip Code', 'Gender', 'Senior Citizen', 'Partner', 'Dependents',\n",
              "       'Tenure Months', 'Phone Service', 'Multiple Lines', 'Online Security',\n",
              "       'Online Backup', 'Device Protection', 'Tech Support', 'Streaming TV',\n",
              "       'Streaming Movies', 'Paperless Billing', 'Monthly Charges',\n",
              "       'Total Charges', 'Subscription Count', 'Zip Area',\n",
              "       'IntServ_Fiber optic', 'IntServ_No', 'PayMeth_Credit card (automatic)',\n",
              "       'PayMeth_Electronic check', 'PayMeth_Mailed check', 'Cont_One year',\n",
              "       'Cont_Two year'],\n",
              "      dtype='object')"
            ]
          },
          "metadata": {},
          "execution_count": 60
        }
      ]
    },
    {
      "cell_type": "code",
      "source": [
        "# list of tested feature columns to maxisise metrics\n",
        "lr_feature_cols = X_train_lr_fe.columns # all columns through feature engineering\n",
        "\n",
        "# experimentation\n",
        "# lr_feature_cols = ['Tenure Months', 'Dependents',\n",
        "#        'IntServ_Fiber optic', 'IntServ_No',\n",
        "#         'PayMeth_Credit card (automatic)',\n",
        "#        'PayMeth_Electronic check', 'PayMeth_Mailed check', 'Cont_One year', 'Cont_Two year'] #removed 'Cont_Month-to-month', 'IntServ_DSL', 'PayMeth_Bank transfer (automatic)',\n",
        "\n",
        "# # these are the highest correlated features based on .corr()\n",
        "# lr_feature_cols = ['Tenure Months','Online Security',\n",
        "#        'Online Backup', 'Device Protection', 'Tech Support', 'Streaming TV',\n",
        "#        'Streaming Movies', 'Cont_One year', 'Cont_Two year','Paperless Billing','PayMeth_Credit card (automatic)',\n",
        "#        'PayMeth_Electronic check', 'PayMeth_Mailed check','Monthly Charges','Total Charges']\n",
        "\n",
        "# columns removed due to high pvalues\n",
        "# lr_feature_cols = ['Partner', 'Dependents',\n",
        "#        'Tenure Months', 'Phone Service', 'Multiple Lines', 'Online Security',\n",
        "#        'Online Backup', 'Device Protection', 'Tech Support', 'Streaming TV',\n",
        "#        'Streaming Movies', 'Paperless Billing',\n",
        "#        'Total Charges', 'Subscription Count',\n",
        "#        'IntServ_Fiber optic', 'IntServ_No',\n",
        "#        'PayMeth_Electronic check','Cont_One year',\n",
        "#        'Cont_Two year']"
      ],
      "metadata": {
        "id": "G7qOBtMIGfwq"
      },
      "id": "G7qOBtMIGfwq",
      "execution_count": null,
      "outputs": []
    },
    {
      "cell_type": "code",
      "source": [
        "# take only the wanted features into X_train\n",
        "X_train_lr_fe = X_train_lr_fe[lr_feature_cols]"
      ],
      "metadata": {
        "id": "ti17nV2BGiXl"
      },
      "id": "ti17nV2BGiXl",
      "execution_count": null,
      "outputs": []
    },
    {
      "cell_type": "code",
      "source": [
        "# apply the scalar to the training data\n",
        "scaler = StandardScaler()\n",
        "scaled_data = scaler.fit_transform(X_train_lr_fe)\n",
        "scaled_df = pd.DataFrame(scaled_data, columns=X_train_lr_fe.columns)"
      ],
      "metadata": {
        "id": "-puiQKc1yV0C"
      },
      "id": "-puiQKc1yV0C",
      "execution_count": null,
      "outputs": []
    },
    {
      "cell_type": "code",
      "source": [
        "df_train = scaled_df\n",
        "\n",
        "# creating the regression object\n",
        "lr = LogisticRegression(max_iter=300, random_state=10)"
      ],
      "metadata": {
        "id": "shaVU-yD-UzS"
      },
      "id": "shaVU-yD-UzS",
      "execution_count": null,
      "outputs": []
    },
    {
      "cell_type": "code",
      "source": [
        "# fitting the model\n",
        "lr.fit(df_train, y_train)"
      ],
      "metadata": {
        "id": "E72hY8CR-WKr",
        "colab": {
          "base_uri": "https://localhost:8080/",
          "height": 75
        },
        "outputId": "b196edbe-4b2b-4213-83f2-6d91230d1a77"
      },
      "id": "E72hY8CR-WKr",
      "execution_count": null,
      "outputs": [
        {
          "output_type": "execute_result",
          "data": {
            "text/plain": [
              "LogisticRegression(max_iter=300, random_state=10)"
            ],
            "text/html": [
              "<style>#sk-container-id-1 {color: black;background-color: white;}#sk-container-id-1 pre{padding: 0;}#sk-container-id-1 div.sk-toggleable {background-color: white;}#sk-container-id-1 label.sk-toggleable__label {cursor: pointer;display: block;width: 100%;margin-bottom: 0;padding: 0.3em;box-sizing: border-box;text-align: center;}#sk-container-id-1 label.sk-toggleable__label-arrow:before {content: \"▸\";float: left;margin-right: 0.25em;color: #696969;}#sk-container-id-1 label.sk-toggleable__label-arrow:hover:before {color: black;}#sk-container-id-1 div.sk-estimator:hover label.sk-toggleable__label-arrow:before {color: black;}#sk-container-id-1 div.sk-toggleable__content {max-height: 0;max-width: 0;overflow: hidden;text-align: left;background-color: #f0f8ff;}#sk-container-id-1 div.sk-toggleable__content pre {margin: 0.2em;color: black;border-radius: 0.25em;background-color: #f0f8ff;}#sk-container-id-1 input.sk-toggleable__control:checked~div.sk-toggleable__content {max-height: 200px;max-width: 100%;overflow: auto;}#sk-container-id-1 input.sk-toggleable__control:checked~label.sk-toggleable__label-arrow:before {content: \"▾\";}#sk-container-id-1 div.sk-estimator input.sk-toggleable__control:checked~label.sk-toggleable__label {background-color: #d4ebff;}#sk-container-id-1 div.sk-label input.sk-toggleable__control:checked~label.sk-toggleable__label {background-color: #d4ebff;}#sk-container-id-1 input.sk-hidden--visually {border: 0;clip: rect(1px 1px 1px 1px);clip: rect(1px, 1px, 1px, 1px);height: 1px;margin: -1px;overflow: hidden;padding: 0;position: absolute;width: 1px;}#sk-container-id-1 div.sk-estimator {font-family: monospace;background-color: #f0f8ff;border: 1px dotted black;border-radius: 0.25em;box-sizing: border-box;margin-bottom: 0.5em;}#sk-container-id-1 div.sk-estimator:hover {background-color: #d4ebff;}#sk-container-id-1 div.sk-parallel-item::after {content: \"\";width: 100%;border-bottom: 1px solid gray;flex-grow: 1;}#sk-container-id-1 div.sk-label:hover label.sk-toggleable__label {background-color: #d4ebff;}#sk-container-id-1 div.sk-serial::before {content: \"\";position: absolute;border-left: 1px solid gray;box-sizing: border-box;top: 0;bottom: 0;left: 50%;z-index: 0;}#sk-container-id-1 div.sk-serial {display: flex;flex-direction: column;align-items: center;background-color: white;padding-right: 0.2em;padding-left: 0.2em;position: relative;}#sk-container-id-1 div.sk-item {position: relative;z-index: 1;}#sk-container-id-1 div.sk-parallel {display: flex;align-items: stretch;justify-content: center;background-color: white;position: relative;}#sk-container-id-1 div.sk-item::before, #sk-container-id-1 div.sk-parallel-item::before {content: \"\";position: absolute;border-left: 1px solid gray;box-sizing: border-box;top: 0;bottom: 0;left: 50%;z-index: -1;}#sk-container-id-1 div.sk-parallel-item {display: flex;flex-direction: column;z-index: 1;position: relative;background-color: white;}#sk-container-id-1 div.sk-parallel-item:first-child::after {align-self: flex-end;width: 50%;}#sk-container-id-1 div.sk-parallel-item:last-child::after {align-self: flex-start;width: 50%;}#sk-container-id-1 div.sk-parallel-item:only-child::after {width: 0;}#sk-container-id-1 div.sk-dashed-wrapped {border: 1px dashed gray;margin: 0 0.4em 0.5em 0.4em;box-sizing: border-box;padding-bottom: 0.4em;background-color: white;}#sk-container-id-1 div.sk-label label {font-family: monospace;font-weight: bold;display: inline-block;line-height: 1.2em;}#sk-container-id-1 div.sk-label-container {text-align: center;}#sk-container-id-1 div.sk-container {/* jupyter's `normalize.less` sets `[hidden] { display: none; }` but bootstrap.min.css set `[hidden] { display: none !important; }` so we also need the `!important` here to be able to override the default hidden behavior on the sphinx rendered scikit-learn.org. See: https://github.com/scikit-learn/scikit-learn/issues/21755 */display: inline-block !important;position: relative;}#sk-container-id-1 div.sk-text-repr-fallback {display: none;}</style><div id=\"sk-container-id-1\" class=\"sk-top-container\"><div class=\"sk-text-repr-fallback\"><pre>LogisticRegression(max_iter=300, random_state=10)</pre><b>In a Jupyter environment, please rerun this cell to show the HTML representation or trust the notebook. <br />On GitHub, the HTML representation is unable to render, please try loading this page with nbviewer.org.</b></div><div class=\"sk-container\" hidden><div class=\"sk-item\"><div class=\"sk-estimator sk-toggleable\"><input class=\"sk-toggleable__control sk-hidden--visually\" id=\"sk-estimator-id-1\" type=\"checkbox\" checked><label for=\"sk-estimator-id-1\" class=\"sk-toggleable__label sk-toggleable__label-arrow\">LogisticRegression</label><div class=\"sk-toggleable__content\"><pre>LogisticRegression(max_iter=300, random_state=10)</pre></div></div></div></div></div>"
            ]
          },
          "metadata": {},
          "execution_count": 65
        }
      ]
    },
    {
      "cell_type": "code",
      "source": [
        "# predicting churn value\n",
        "df_train[['prob_stay', 'prob_churn']] = lr.predict_proba(df_train)\n",
        "df_train['churn_pred'] = np.where(df_train['prob_churn']>.5, 1, 0)"
      ],
      "metadata": {
        "id": "L-jmhDmM_C_R"
      },
      "id": "L-jmhDmM_C_R",
      "execution_count": null,
      "outputs": []
    },
    {
      "cell_type": "code",
      "source": [
        "# test set\n",
        "X_test_lr_fe = feature_engineering(X_test,'lr')\n",
        "X_test_lr_fe = X_test_lr_fe[lr_feature_cols]\n",
        "\n",
        "# scale the test set\n",
        "scaled_data = scaler.transform(X_test_lr_fe)\n",
        "scaled_df_test = pd.DataFrame(scaled_data, columns=X_train_lr_fe.columns)\n",
        "\n",
        "df_test = scaled_df_test.copy()"
      ],
      "metadata": {
        "id": "wVjIoVAp_E22"
      },
      "id": "wVjIoVAp_E22",
      "execution_count": null,
      "outputs": []
    },
    {
      "cell_type": "code",
      "source": [
        "# add the probabilities and churn predition to the dataframe\n",
        "df_test[['prob_stay', 'prob_churn']] = lr.predict_proba(scaled_df_test)\n",
        "df_test['churn_pred'] = np.where(df_test['prob_churn']>.5, 1, 0)"
      ],
      "metadata": {
        "id": "7xpvYbP9_4wG"
      },
      "id": "7xpvYbP9_4wG",
      "execution_count": null,
      "outputs": []
    },
    {
      "cell_type": "markdown",
      "source": [
        "### 5.5.2 Model Evaluation SKLearn"
      ],
      "metadata": {
        "id": "1SZ92WJITcK5"
      },
      "id": "1SZ92WJITcK5"
    },
    {
      "cell_type": "code",
      "source": [
        "# metrics function\n",
        "def get_results(actual, predicted):\n",
        "    print(\"The confusion matrix for your predictions is:\")\n",
        "    print(metrics.confusion_matrix(actual, predicted), \"\\n\")\n",
        "    print(f'The accuracy of your model is: {metrics.accuracy_score(actual, predicted)}')\n",
        "    print(f'The recall of your model is: {metrics.recall_score(actual, predicted)}')\n",
        "    print(f'The precision of your model is: {metrics.precision_score(actual, predicted)}')\n",
        "    print(f'The F1-score of your model is: {metrics.f1_score(actual, predicted)}')"
      ],
      "metadata": {
        "id": "HwPdDqD6ByVl"
      },
      "id": "HwPdDqD6ByVl",
      "execution_count": null,
      "outputs": []
    },
    {
      "cell_type": "code",
      "source": [
        "# training metrics\n",
        "get_results(y_train,df_train[\"churn_pred\"])"
      ],
      "metadata": {
        "id": "Ejvj1M7eClZS",
        "colab": {
          "base_uri": "https://localhost:8080/"
        },
        "outputId": "9777f4b9-b46a-42a3-d8eb-0da68a196eba"
      },
      "id": "Ejvj1M7eClZS",
      "execution_count": null,
      "outputs": [
        {
          "output_type": "stream",
          "name": "stdout",
          "text": [
            "The confusion matrix for your predictions is:\n",
            "[[3749  416]\n",
            " [ 618  851]] \n",
            "\n",
            "The accuracy of your model is: 0.8164714235001775\n",
            "The recall of your model is: 0.5793056501021103\n",
            "The precision of your model is: 0.6716653512233622\n",
            "The F1-score of your model is: 0.6220760233918129\n"
          ]
        }
      ]
    },
    {
      "cell_type": "code",
      "source": [
        "# test metrics\n",
        "get_results(y_test,df_test[\"churn_pred\"])"
      ],
      "metadata": {
        "id": "p28ne_xrB2HO",
        "colab": {
          "base_uri": "https://localhost:8080/"
        },
        "outputId": "d21d3b31-bdcf-404f-d517-aa399b0e048d"
      },
      "id": "p28ne_xrB2HO",
      "execution_count": null,
      "outputs": [
        {
          "output_type": "stream",
          "name": "stdout",
          "text": [
            "The confusion matrix for your predictions is:\n",
            "[[900 109]\n",
            " [169 231]] \n",
            "\n",
            "The accuracy of your model is: 0.8026969481902059\n",
            "The recall of your model is: 0.5775\n",
            "The precision of your model is: 0.6794117647058824\n",
            "The F1-score of your model is: 0.6243243243243244\n"
          ]
        }
      ]
    },
    {
      "cell_type": "code",
      "source": [
        "# or can look at same metrics in this format\n",
        "#print(metrics.classification_report(y_train, df_train['churn_pred']));\n",
        "print(metrics.classification_report(y_test, df_test['churn_pred']))"
      ],
      "metadata": {
        "id": "K0XXiPyECB7E",
        "colab": {
          "base_uri": "https://localhost:8080/"
        },
        "outputId": "b5fb457d-4248-4661-ce8c-b609a838fec3"
      },
      "id": "K0XXiPyECB7E",
      "execution_count": null,
      "outputs": [
        {
          "output_type": "stream",
          "name": "stdout",
          "text": [
            "              precision    recall  f1-score   support\n",
            "\n",
            "           0       0.84      0.89      0.87      1009\n",
            "           1       0.68      0.58      0.62       400\n",
            "\n",
            "    accuracy                           0.80      1409\n",
            "   macro avg       0.76      0.73      0.75      1409\n",
            "weighted avg       0.80      0.80      0.80      1409\n",
            "\n"
          ]
        }
      ]
    },
    {
      "cell_type": "markdown",
      "source": [
        "### 5.5.3 Model Training Statsmodels"
      ],
      "metadata": {
        "id": "1DHMdr3h5IoM"
      },
      "id": "1DHMdr3h5IoM"
    },
    {
      "cell_type": "code",
      "source": [
        "# list of tested feature columns to maxisise metrics\n",
        "#lr_feature_cols = X_train_lr_fe.columns # all columns through feature engineering\n",
        "\n",
        "# experimentation\n",
        "# lr_feature_cols = ['Tenure Months', 'Dependents',\n",
        "#        'IntServ_Fiber optic', 'IntServ_No',\n",
        "#         'PayMeth_Credit card (automatic)',\n",
        "#        'PayMeth_Electronic check', 'PayMeth_Mailed check', 'Cont_One year', 'Cont_Two year'] #removed 'Cont_Month-to-month', 'IntServ_DSL', 'PayMeth_Bank transfer (automatic)',\n",
        "\n",
        "# # these are the highest correlated features based on .corr()\n",
        "# lr_feature_cols = ['Tenure Months','Online Security',\n",
        "#        'Online Backup', 'Device Protection', 'Tech Support', 'Streaming TV',\n",
        "#        'Streaming Movies', 'Cont_One year', 'Cont_Two year','Paperless Billing','PayMeth_Credit card (automatic)',\n",
        "#        'PayMeth_Electronic check', 'PayMeth_Mailed check','Monthly Charges','Total Charges']\n",
        "\n",
        "# columns removed due to high pvalues\n",
        "lr_feature_cols = ['Partner', 'Dependents',\n",
        "       'Tenure Months', 'Phone Service', 'Multiple Lines', 'Paperless Billing',\n",
        "       'Total Charges',\n",
        "       'IntServ_Fiber optic', 'IntServ_No',\n",
        "       'PayMeth_Electronic check','Cont_One year',\n",
        "       'Cont_Two year']"
      ],
      "metadata": {
        "id": "2_CIDh-TbKgR"
      },
      "id": "2_CIDh-TbKgR",
      "execution_count": null,
      "outputs": []
    },
    {
      "cell_type": "code",
      "source": [
        "X_train_lr_fe = X_train_lr_fe[lr_feature_cols]"
      ],
      "metadata": {
        "id": "aZNgOTDi5MVd"
      },
      "id": "aZNgOTDi5MVd",
      "execution_count": null,
      "outputs": []
    },
    {
      "cell_type": "code",
      "source": [
        "# logisistic regression model with statsmodels\n",
        "log_reg = sm.Logit(y_train, X_train_lr_fe).fit()"
      ],
      "metadata": {
        "id": "BuCDWca-5aHZ",
        "colab": {
          "base_uri": "https://localhost:8080/"
        },
        "outputId": "a2089e2e-9bd2-45c2-ac19-6b71f3b68239"
      },
      "id": "BuCDWca-5aHZ",
      "execution_count": null,
      "outputs": [
        {
          "output_type": "stream",
          "name": "stdout",
          "text": [
            "Optimization terminated successfully.\n",
            "         Current function value: 0.399633\n",
            "         Iterations 8\n"
          ]
        }
      ]
    },
    {
      "cell_type": "markdown",
      "source": [
        "### 5.5.4 Model Evaluation Statsmodels"
      ],
      "metadata": {
        "id": "WpML5w0CTlF2"
      },
      "id": "WpML5w0CTlF2"
    },
    {
      "cell_type": "code",
      "source": [
        "print(log_reg.summary())"
      ],
      "metadata": {
        "id": "1WIgaPV35g8n",
        "colab": {
          "base_uri": "https://localhost:8080/"
        },
        "outputId": "1882d859-a557-418b-a748-fdcc0009701b"
      },
      "id": "1WIgaPV35g8n",
      "execution_count": null,
      "outputs": [
        {
          "output_type": "stream",
          "name": "stdout",
          "text": [
            "                           Logit Regression Results                           \n",
            "==============================================================================\n",
            "Dep. Variable:            Churn Value   No. Observations:                 5634\n",
            "Model:                          Logit   Df Residuals:                     5622\n",
            "Method:                           MLE   Df Model:                           11\n",
            "Date:                Wed, 28 Feb 2024   Pseudo R-squ.:                  0.3036\n",
            "Time:                        09:03:31   Log-Likelihood:                -2251.5\n",
            "converged:                       True   LL-Null:                       -3232.9\n",
            "Covariance Type:            nonrobust   LLR p-value:                     0.000\n",
            "============================================================================================\n",
            "                               coef    std err          z      P>|z|      [0.025      0.975]\n",
            "--------------------------------------------------------------------------------------------\n",
            "Partner                      0.2893      0.084      3.429      0.001       0.124       0.455\n",
            "Dependents                  -1.4859      0.130    -11.416      0.000      -1.741      -1.231\n",
            "Tenure Months               -0.0661      0.006    -10.592      0.000      -0.078      -0.054\n",
            "Phone Service               -0.6113      0.102     -6.021      0.000      -0.810      -0.412\n",
            "Multiple Lines               0.3197      0.091      3.508      0.000       0.141       0.498\n",
            "Paperless Billing            0.4275      0.079      5.402      0.000       0.272       0.583\n",
            "Total Charges                0.0003   6.73e-05      5.043      0.000       0.000       0.000\n",
            "IntServ_Fiber optic          0.7901      0.108      7.307      0.000       0.578       1.002\n",
            "IntServ_No                  -0.5694      0.147     -3.878      0.000      -0.857      -0.282\n",
            "PayMeth_Electronic check     0.4262      0.076      5.628      0.000       0.278       0.575\n",
            "Cont_One year               -0.6731      0.118     -5.684      0.000      -0.905      -0.441\n",
            "Cont_Two year               -1.5611      0.202     -7.736      0.000      -1.957      -1.166\n",
            "============================================================================================\n"
          ]
        }
      ]
    },
    {
      "cell_type": "markdown",
      "source": [
        "## 5.6 Model Selection\n",
        "We are going to proceed with the random forest model. It did not significantly outperform logistics regression but it performed slightly better in terms of overfitting."
      ],
      "metadata": {
        "id": "GFAAviPOnynd"
      },
      "id": "GFAAviPOnynd"
    },
    {
      "cell_type": "markdown",
      "source": [
        "----\n",
        "# 6.0 List Creation\n",
        "----\n",
        "The aim of this section is to create the two deliverable lists. The ID list of the top 500 current customers who are likely to churn and the ID and churn probabilities of the remaining customers."
      ],
      "metadata": {
        "id": "pv4vVPHYpfj2"
      },
      "id": "pv4vVPHYpfj2"
    },
    {
      "cell_type": "code",
      "source": [
        "# assigning the random forest probabilities\n",
        "df_train_results = rf.predict_proba(X_train_df_fe)\n",
        "df_test_results = rf.predict_proba(X_test_df_fe)"
      ],
      "metadata": {
        "id": "HY_Ttxea41Z7"
      },
      "id": "HY_Ttxea41Z7",
      "execution_count": null,
      "outputs": []
    },
    {
      "cell_type": "code",
      "source": [
        "# turning the probabilities into dataframes\n",
        "df_train_results = pd.DataFrame(df_train_results,columns=[\"Stay_prob\",\"Churn_prob\"])\n",
        "df_test_results = pd.DataFrame(df_test_results,columns=[\"Stay_prob\",\"Churn_prob\"])"
      ],
      "metadata": {
        "id": "dn9ANhgo5ikm"
      },
      "id": "dn9ANhgo5ikm",
      "execution_count": null,
      "outputs": []
    },
    {
      "cell_type": "markdown",
      "source": [
        "### 6.1 Formatting\n",
        "\n",
        "Reintroducing the ids, the actual churn value and recombining test and train."
      ],
      "metadata": {
        "id": "8U60D7Xxm3DD"
      },
      "id": "8U60D7Xxm3DD"
    },
    {
      "cell_type": "code",
      "source": [
        "def consolidation(df,id,real_churn):\n",
        "  ''' this funciton adds the id column and the actual churn value to a dataframe'''\n",
        "  df = df.copy()\n",
        "  df['id'] = id\n",
        "  df = df.set_index('id')\n",
        "  df[\"Churn Value\"] = real_churn\n",
        "  return df"
      ],
      "metadata": {
        "id": "DA71IN-xk34Z"
      },
      "id": "DA71IN-xk34Z",
      "execution_count": null,
      "outputs": []
    },
    {
      "cell_type": "code",
      "source": [
        "                         #df with probs, ids, true churn val\n",
        "df_train = consolidation(df_train_results,X_train_id,y_train)\n",
        "df_test = consolidation(df_test_results,X_test_id,y_test)"
      ],
      "metadata": {
        "id": "oIlD_ORc6zx-"
      },
      "id": "oIlD_ORc6zx-",
      "execution_count": null,
      "outputs": []
    },
    {
      "cell_type": "code",
      "source": [
        "# combining train and test and resorting index\n",
        "df_whole = pd.concat([df_train,df_test])\n",
        "df_whole = df_whole.sort_index()"
      ],
      "metadata": {
        "id": "D1R8wmZlkl8H"
      },
      "id": "D1R8wmZlkl8H",
      "execution_count": null,
      "outputs": []
    },
    {
      "cell_type": "code",
      "source": [
        "df_whole.head()"
      ],
      "metadata": {
        "id": "nz-foxicmk7e",
        "colab": {
          "base_uri": "https://localhost:8080/",
          "height": 238
        },
        "outputId": "b90dfcd5-0bab-4dd3-e2fe-0854bb7de73a"
      },
      "id": "nz-foxicmk7e",
      "execution_count": null,
      "outputs": [
        {
          "output_type": "execute_result",
          "data": {
            "text/plain": [
              "    Stay_prob  Churn_prob  Churn Value\n",
              "id                                    \n",
              "0    0.527767    0.472233            1\n",
              "1    0.444318    0.555682            1\n",
              "2    0.541727    0.458273            1\n",
              "3    0.792532    0.207468            1\n",
              "4    0.886957    0.113043            1"
            ],
            "text/html": [
              "\n",
              "  <div id=\"df-78d0db92-e2ba-4e41-b4a7-285a567711e3\" class=\"colab-df-container\">\n",
              "    <div>\n",
              "<style scoped>\n",
              "    .dataframe tbody tr th:only-of-type {\n",
              "        vertical-align: middle;\n",
              "    }\n",
              "\n",
              "    .dataframe tbody tr th {\n",
              "        vertical-align: top;\n",
              "    }\n",
              "\n",
              "    .dataframe thead th {\n",
              "        text-align: right;\n",
              "    }\n",
              "</style>\n",
              "<table border=\"1\" class=\"dataframe\">\n",
              "  <thead>\n",
              "    <tr style=\"text-align: right;\">\n",
              "      <th></th>\n",
              "      <th>Stay_prob</th>\n",
              "      <th>Churn_prob</th>\n",
              "      <th>Churn Value</th>\n",
              "    </tr>\n",
              "    <tr>\n",
              "      <th>id</th>\n",
              "      <th></th>\n",
              "      <th></th>\n",
              "      <th></th>\n",
              "    </tr>\n",
              "  </thead>\n",
              "  <tbody>\n",
              "    <tr>\n",
              "      <th>0</th>\n",
              "      <td>0.527767</td>\n",
              "      <td>0.472233</td>\n",
              "      <td>1</td>\n",
              "    </tr>\n",
              "    <tr>\n",
              "      <th>1</th>\n",
              "      <td>0.444318</td>\n",
              "      <td>0.555682</td>\n",
              "      <td>1</td>\n",
              "    </tr>\n",
              "    <tr>\n",
              "      <th>2</th>\n",
              "      <td>0.541727</td>\n",
              "      <td>0.458273</td>\n",
              "      <td>1</td>\n",
              "    </tr>\n",
              "    <tr>\n",
              "      <th>3</th>\n",
              "      <td>0.792532</td>\n",
              "      <td>0.207468</td>\n",
              "      <td>1</td>\n",
              "    </tr>\n",
              "    <tr>\n",
              "      <th>4</th>\n",
              "      <td>0.886957</td>\n",
              "      <td>0.113043</td>\n",
              "      <td>1</td>\n",
              "    </tr>\n",
              "  </tbody>\n",
              "</table>\n",
              "</div>\n",
              "    <div class=\"colab-df-buttons\">\n",
              "\n",
              "  <div class=\"colab-df-container\">\n",
              "    <button class=\"colab-df-convert\" onclick=\"convertToInteractive('df-78d0db92-e2ba-4e41-b4a7-285a567711e3')\"\n",
              "            title=\"Convert this dataframe to an interactive table.\"\n",
              "            style=\"display:none;\">\n",
              "\n",
              "  <svg xmlns=\"http://www.w3.org/2000/svg\" height=\"24px\" viewBox=\"0 -960 960 960\">\n",
              "    <path d=\"M120-120v-720h720v720H120Zm60-500h600v-160H180v160Zm220 220h160v-160H400v160Zm0 220h160v-160H400v160ZM180-400h160v-160H180v160Zm440 0h160v-160H620v160ZM180-180h160v-160H180v160Zm440 0h160v-160H620v160Z\"/>\n",
              "  </svg>\n",
              "    </button>\n",
              "\n",
              "  <style>\n",
              "    .colab-df-container {\n",
              "      display:flex;\n",
              "      gap: 12px;\n",
              "    }\n",
              "\n",
              "    .colab-df-convert {\n",
              "      background-color: #E8F0FE;\n",
              "      border: none;\n",
              "      border-radius: 50%;\n",
              "      cursor: pointer;\n",
              "      display: none;\n",
              "      fill: #1967D2;\n",
              "      height: 32px;\n",
              "      padding: 0 0 0 0;\n",
              "      width: 32px;\n",
              "    }\n",
              "\n",
              "    .colab-df-convert:hover {\n",
              "      background-color: #E2EBFA;\n",
              "      box-shadow: 0px 1px 2px rgba(60, 64, 67, 0.3), 0px 1px 3px 1px rgba(60, 64, 67, 0.15);\n",
              "      fill: #174EA6;\n",
              "    }\n",
              "\n",
              "    .colab-df-buttons div {\n",
              "      margin-bottom: 4px;\n",
              "    }\n",
              "\n",
              "    [theme=dark] .colab-df-convert {\n",
              "      background-color: #3B4455;\n",
              "      fill: #D2E3FC;\n",
              "    }\n",
              "\n",
              "    [theme=dark] .colab-df-convert:hover {\n",
              "      background-color: #434B5C;\n",
              "      box-shadow: 0px 1px 3px 1px rgba(0, 0, 0, 0.15);\n",
              "      filter: drop-shadow(0px 1px 2px rgba(0, 0, 0, 0.3));\n",
              "      fill: #FFFFFF;\n",
              "    }\n",
              "  </style>\n",
              "\n",
              "    <script>\n",
              "      const buttonEl =\n",
              "        document.querySelector('#df-78d0db92-e2ba-4e41-b4a7-285a567711e3 button.colab-df-convert');\n",
              "      buttonEl.style.display =\n",
              "        google.colab.kernel.accessAllowed ? 'block' : 'none';\n",
              "\n",
              "      async function convertToInteractive(key) {\n",
              "        const element = document.querySelector('#df-78d0db92-e2ba-4e41-b4a7-285a567711e3');\n",
              "        const dataTable =\n",
              "          await google.colab.kernel.invokeFunction('convertToInteractive',\n",
              "                                                    [key], {});\n",
              "        if (!dataTable) return;\n",
              "\n",
              "        const docLinkHtml = 'Like what you see? Visit the ' +\n",
              "          '<a target=\"_blank\" href=https://colab.research.google.com/notebooks/data_table.ipynb>data table notebook</a>'\n",
              "          + ' to learn more about interactive tables.';\n",
              "        element.innerHTML = '';\n",
              "        dataTable['output_type'] = 'display_data';\n",
              "        await google.colab.output.renderOutput(dataTable, element);\n",
              "        const docLink = document.createElement('div');\n",
              "        docLink.innerHTML = docLinkHtml;\n",
              "        element.appendChild(docLink);\n",
              "      }\n",
              "    </script>\n",
              "  </div>\n",
              "\n",
              "\n",
              "<div id=\"df-a83df55a-a9b7-496c-bbea-8a0e898b1976\">\n",
              "  <button class=\"colab-df-quickchart\" onclick=\"quickchart('df-a83df55a-a9b7-496c-bbea-8a0e898b1976')\"\n",
              "            title=\"Suggest charts\"\n",
              "            style=\"display:none;\">\n",
              "\n",
              "<svg xmlns=\"http://www.w3.org/2000/svg\" height=\"24px\"viewBox=\"0 0 24 24\"\n",
              "     width=\"24px\">\n",
              "    <g>\n",
              "        <path d=\"M19 3H5c-1.1 0-2 .9-2 2v14c0 1.1.9 2 2 2h14c1.1 0 2-.9 2-2V5c0-1.1-.9-2-2-2zM9 17H7v-7h2v7zm4 0h-2V7h2v10zm4 0h-2v-4h2v4z\"/>\n",
              "    </g>\n",
              "</svg>\n",
              "  </button>\n",
              "\n",
              "<style>\n",
              "  .colab-df-quickchart {\n",
              "      --bg-color: #E8F0FE;\n",
              "      --fill-color: #1967D2;\n",
              "      --hover-bg-color: #E2EBFA;\n",
              "      --hover-fill-color: #174EA6;\n",
              "      --disabled-fill-color: #AAA;\n",
              "      --disabled-bg-color: #DDD;\n",
              "  }\n",
              "\n",
              "  [theme=dark] .colab-df-quickchart {\n",
              "      --bg-color: #3B4455;\n",
              "      --fill-color: #D2E3FC;\n",
              "      --hover-bg-color: #434B5C;\n",
              "      --hover-fill-color: #FFFFFF;\n",
              "      --disabled-bg-color: #3B4455;\n",
              "      --disabled-fill-color: #666;\n",
              "  }\n",
              "\n",
              "  .colab-df-quickchart {\n",
              "    background-color: var(--bg-color);\n",
              "    border: none;\n",
              "    border-radius: 50%;\n",
              "    cursor: pointer;\n",
              "    display: none;\n",
              "    fill: var(--fill-color);\n",
              "    height: 32px;\n",
              "    padding: 0;\n",
              "    width: 32px;\n",
              "  }\n",
              "\n",
              "  .colab-df-quickchart:hover {\n",
              "    background-color: var(--hover-bg-color);\n",
              "    box-shadow: 0 1px 2px rgba(60, 64, 67, 0.3), 0 1px 3px 1px rgba(60, 64, 67, 0.15);\n",
              "    fill: var(--button-hover-fill-color);\n",
              "  }\n",
              "\n",
              "  .colab-df-quickchart-complete:disabled,\n",
              "  .colab-df-quickchart-complete:disabled:hover {\n",
              "    background-color: var(--disabled-bg-color);\n",
              "    fill: var(--disabled-fill-color);\n",
              "    box-shadow: none;\n",
              "  }\n",
              "\n",
              "  .colab-df-spinner {\n",
              "    border: 2px solid var(--fill-color);\n",
              "    border-color: transparent;\n",
              "    border-bottom-color: var(--fill-color);\n",
              "    animation:\n",
              "      spin 1s steps(1) infinite;\n",
              "  }\n",
              "\n",
              "  @keyframes spin {\n",
              "    0% {\n",
              "      border-color: transparent;\n",
              "      border-bottom-color: var(--fill-color);\n",
              "      border-left-color: var(--fill-color);\n",
              "    }\n",
              "    20% {\n",
              "      border-color: transparent;\n",
              "      border-left-color: var(--fill-color);\n",
              "      border-top-color: var(--fill-color);\n",
              "    }\n",
              "    30% {\n",
              "      border-color: transparent;\n",
              "      border-left-color: var(--fill-color);\n",
              "      border-top-color: var(--fill-color);\n",
              "      border-right-color: var(--fill-color);\n",
              "    }\n",
              "    40% {\n",
              "      border-color: transparent;\n",
              "      border-right-color: var(--fill-color);\n",
              "      border-top-color: var(--fill-color);\n",
              "    }\n",
              "    60% {\n",
              "      border-color: transparent;\n",
              "      border-right-color: var(--fill-color);\n",
              "    }\n",
              "    80% {\n",
              "      border-color: transparent;\n",
              "      border-right-color: var(--fill-color);\n",
              "      border-bottom-color: var(--fill-color);\n",
              "    }\n",
              "    90% {\n",
              "      border-color: transparent;\n",
              "      border-bottom-color: var(--fill-color);\n",
              "    }\n",
              "  }\n",
              "</style>\n",
              "\n",
              "  <script>\n",
              "    async function quickchart(key) {\n",
              "      const quickchartButtonEl =\n",
              "        document.querySelector('#' + key + ' button');\n",
              "      quickchartButtonEl.disabled = true;  // To prevent multiple clicks.\n",
              "      quickchartButtonEl.classList.add('colab-df-spinner');\n",
              "      try {\n",
              "        const charts = await google.colab.kernel.invokeFunction(\n",
              "            'suggestCharts', [key], {});\n",
              "      } catch (error) {\n",
              "        console.error('Error during call to suggestCharts:', error);\n",
              "      }\n",
              "      quickchartButtonEl.classList.remove('colab-df-spinner');\n",
              "      quickchartButtonEl.classList.add('colab-df-quickchart-complete');\n",
              "    }\n",
              "    (() => {\n",
              "      let quickchartButtonEl =\n",
              "        document.querySelector('#df-a83df55a-a9b7-496c-bbea-8a0e898b1976 button');\n",
              "      quickchartButtonEl.style.display =\n",
              "        google.colab.kernel.accessAllowed ? 'block' : 'none';\n",
              "    })();\n",
              "  </script>\n",
              "</div>\n",
              "    </div>\n",
              "  </div>\n"
            ],
            "application/vnd.google.colaboratory.intrinsic+json": {
              "type": "dataframe",
              "variable_name": "df_whole",
              "summary": "{\n  \"name\": \"df_whole\",\n  \"rows\": 7043,\n  \"fields\": [\n    {\n      \"column\": \"Stay_prob\",\n      \"properties\": {\n        \"dtype\": \"number\",\n        \"std\": 0.24822989248567118,\n        \"min\": 0.08674256774399033,\n        \"max\": 1.0,\n        \"num_unique_values\": 4905,\n        \"samples\": [\n          0.9839415242427012,\n          0.9882596032551593,\n          0.4235965971561978\n        ],\n        \"semantic_type\": \"\",\n        \"description\": \"\"\n      }\n    },\n    {\n      \"column\": \"Churn_prob\",\n      \"properties\": {\n        \"dtype\": \"number\",\n        \"std\": 0.24822989248567118,\n        \"min\": 0.0,\n        \"max\": 0.9132574322560096,\n        \"num_unique_values\": 4905,\n        \"samples\": [\n          0.016058475757298872,\n          0.011740396744840866,\n          0.5764034028438022\n        ],\n        \"semantic_type\": \"\",\n        \"description\": \"\"\n      }\n    },\n    {\n      \"column\": \"Churn Value\",\n      \"properties\": {\n        \"dtype\": \"number\",\n        \"std\": 0,\n        \"min\": 0,\n        \"max\": 1,\n        \"num_unique_values\": 2,\n        \"samples\": [\n          0,\n          1\n        ],\n        \"semantic_type\": \"\",\n        \"description\": \"\"\n      }\n    }\n  ]\n}"
            }
          },
          "metadata": {},
          "execution_count": 82
        }
      ]
    },
    {
      "cell_type": "code",
      "source": [
        "# Only selecting the customers who haven't churned yet\n",
        "current_customer_list = df_whole[df_whole[\"Churn Value\"]==0]"
      ],
      "metadata": {
        "id": "cBUjj19TmTs1"
      },
      "id": "cBUjj19TmTs1",
      "execution_count": null,
      "outputs": []
    },
    {
      "cell_type": "code",
      "source": [
        "current_customer_list.head()"
      ],
      "metadata": {
        "id": "4WbM55UnmVUC",
        "colab": {
          "base_uri": "https://localhost:8080/",
          "height": 238
        },
        "outputId": "df24d33a-9cc6-41f4-e22d-7e9adadd11f8"
      },
      "id": "4WbM55UnmVUC",
      "execution_count": null,
      "outputs": [
        {
          "output_type": "execute_result",
          "data": {
            "text/plain": [
              "      Stay_prob  Churn_prob  Churn Value\n",
              "id                                      \n",
              "1869   0.340134    0.659866            0\n",
              "1870   0.900746    0.099254            0\n",
              "1871   0.917548    0.082452            0\n",
              "1872   0.941643    0.058357            0\n",
              "1873   0.713382    0.286618            0"
            ],
            "text/html": [
              "\n",
              "  <div id=\"df-6bcf2783-b576-4a7c-8854-2e1eededa8c5\" class=\"colab-df-container\">\n",
              "    <div>\n",
              "<style scoped>\n",
              "    .dataframe tbody tr th:only-of-type {\n",
              "        vertical-align: middle;\n",
              "    }\n",
              "\n",
              "    .dataframe tbody tr th {\n",
              "        vertical-align: top;\n",
              "    }\n",
              "\n",
              "    .dataframe thead th {\n",
              "        text-align: right;\n",
              "    }\n",
              "</style>\n",
              "<table border=\"1\" class=\"dataframe\">\n",
              "  <thead>\n",
              "    <tr style=\"text-align: right;\">\n",
              "      <th></th>\n",
              "      <th>Stay_prob</th>\n",
              "      <th>Churn_prob</th>\n",
              "      <th>Churn Value</th>\n",
              "    </tr>\n",
              "    <tr>\n",
              "      <th>id</th>\n",
              "      <th></th>\n",
              "      <th></th>\n",
              "      <th></th>\n",
              "    </tr>\n",
              "  </thead>\n",
              "  <tbody>\n",
              "    <tr>\n",
              "      <th>1869</th>\n",
              "      <td>0.340134</td>\n",
              "      <td>0.659866</td>\n",
              "      <td>0</td>\n",
              "    </tr>\n",
              "    <tr>\n",
              "      <th>1870</th>\n",
              "      <td>0.900746</td>\n",
              "      <td>0.099254</td>\n",
              "      <td>0</td>\n",
              "    </tr>\n",
              "    <tr>\n",
              "      <th>1871</th>\n",
              "      <td>0.917548</td>\n",
              "      <td>0.082452</td>\n",
              "      <td>0</td>\n",
              "    </tr>\n",
              "    <tr>\n",
              "      <th>1872</th>\n",
              "      <td>0.941643</td>\n",
              "      <td>0.058357</td>\n",
              "      <td>0</td>\n",
              "    </tr>\n",
              "    <tr>\n",
              "      <th>1873</th>\n",
              "      <td>0.713382</td>\n",
              "      <td>0.286618</td>\n",
              "      <td>0</td>\n",
              "    </tr>\n",
              "  </tbody>\n",
              "</table>\n",
              "</div>\n",
              "    <div class=\"colab-df-buttons\">\n",
              "\n",
              "  <div class=\"colab-df-container\">\n",
              "    <button class=\"colab-df-convert\" onclick=\"convertToInteractive('df-6bcf2783-b576-4a7c-8854-2e1eededa8c5')\"\n",
              "            title=\"Convert this dataframe to an interactive table.\"\n",
              "            style=\"display:none;\">\n",
              "\n",
              "  <svg xmlns=\"http://www.w3.org/2000/svg\" height=\"24px\" viewBox=\"0 -960 960 960\">\n",
              "    <path d=\"M120-120v-720h720v720H120Zm60-500h600v-160H180v160Zm220 220h160v-160H400v160Zm0 220h160v-160H400v160ZM180-400h160v-160H180v160Zm440 0h160v-160H620v160ZM180-180h160v-160H180v160Zm440 0h160v-160H620v160Z\"/>\n",
              "  </svg>\n",
              "    </button>\n",
              "\n",
              "  <style>\n",
              "    .colab-df-container {\n",
              "      display:flex;\n",
              "      gap: 12px;\n",
              "    }\n",
              "\n",
              "    .colab-df-convert {\n",
              "      background-color: #E8F0FE;\n",
              "      border: none;\n",
              "      border-radius: 50%;\n",
              "      cursor: pointer;\n",
              "      display: none;\n",
              "      fill: #1967D2;\n",
              "      height: 32px;\n",
              "      padding: 0 0 0 0;\n",
              "      width: 32px;\n",
              "    }\n",
              "\n",
              "    .colab-df-convert:hover {\n",
              "      background-color: #E2EBFA;\n",
              "      box-shadow: 0px 1px 2px rgba(60, 64, 67, 0.3), 0px 1px 3px 1px rgba(60, 64, 67, 0.15);\n",
              "      fill: #174EA6;\n",
              "    }\n",
              "\n",
              "    .colab-df-buttons div {\n",
              "      margin-bottom: 4px;\n",
              "    }\n",
              "\n",
              "    [theme=dark] .colab-df-convert {\n",
              "      background-color: #3B4455;\n",
              "      fill: #D2E3FC;\n",
              "    }\n",
              "\n",
              "    [theme=dark] .colab-df-convert:hover {\n",
              "      background-color: #434B5C;\n",
              "      box-shadow: 0px 1px 3px 1px rgba(0, 0, 0, 0.15);\n",
              "      filter: drop-shadow(0px 1px 2px rgba(0, 0, 0, 0.3));\n",
              "      fill: #FFFFFF;\n",
              "    }\n",
              "  </style>\n",
              "\n",
              "    <script>\n",
              "      const buttonEl =\n",
              "        document.querySelector('#df-6bcf2783-b576-4a7c-8854-2e1eededa8c5 button.colab-df-convert');\n",
              "      buttonEl.style.display =\n",
              "        google.colab.kernel.accessAllowed ? 'block' : 'none';\n",
              "\n",
              "      async function convertToInteractive(key) {\n",
              "        const element = document.querySelector('#df-6bcf2783-b576-4a7c-8854-2e1eededa8c5');\n",
              "        const dataTable =\n",
              "          await google.colab.kernel.invokeFunction('convertToInteractive',\n",
              "                                                    [key], {});\n",
              "        if (!dataTable) return;\n",
              "\n",
              "        const docLinkHtml = 'Like what you see? Visit the ' +\n",
              "          '<a target=\"_blank\" href=https://colab.research.google.com/notebooks/data_table.ipynb>data table notebook</a>'\n",
              "          + ' to learn more about interactive tables.';\n",
              "        element.innerHTML = '';\n",
              "        dataTable['output_type'] = 'display_data';\n",
              "        await google.colab.output.renderOutput(dataTable, element);\n",
              "        const docLink = document.createElement('div');\n",
              "        docLink.innerHTML = docLinkHtml;\n",
              "        element.appendChild(docLink);\n",
              "      }\n",
              "    </script>\n",
              "  </div>\n",
              "\n",
              "\n",
              "<div id=\"df-afab9300-d7a5-4acf-89b0-f660f8cb546a\">\n",
              "  <button class=\"colab-df-quickchart\" onclick=\"quickchart('df-afab9300-d7a5-4acf-89b0-f660f8cb546a')\"\n",
              "            title=\"Suggest charts\"\n",
              "            style=\"display:none;\">\n",
              "\n",
              "<svg xmlns=\"http://www.w3.org/2000/svg\" height=\"24px\"viewBox=\"0 0 24 24\"\n",
              "     width=\"24px\">\n",
              "    <g>\n",
              "        <path d=\"M19 3H5c-1.1 0-2 .9-2 2v14c0 1.1.9 2 2 2h14c1.1 0 2-.9 2-2V5c0-1.1-.9-2-2-2zM9 17H7v-7h2v7zm4 0h-2V7h2v10zm4 0h-2v-4h2v4z\"/>\n",
              "    </g>\n",
              "</svg>\n",
              "  </button>\n",
              "\n",
              "<style>\n",
              "  .colab-df-quickchart {\n",
              "      --bg-color: #E8F0FE;\n",
              "      --fill-color: #1967D2;\n",
              "      --hover-bg-color: #E2EBFA;\n",
              "      --hover-fill-color: #174EA6;\n",
              "      --disabled-fill-color: #AAA;\n",
              "      --disabled-bg-color: #DDD;\n",
              "  }\n",
              "\n",
              "  [theme=dark] .colab-df-quickchart {\n",
              "      --bg-color: #3B4455;\n",
              "      --fill-color: #D2E3FC;\n",
              "      --hover-bg-color: #434B5C;\n",
              "      --hover-fill-color: #FFFFFF;\n",
              "      --disabled-bg-color: #3B4455;\n",
              "      --disabled-fill-color: #666;\n",
              "  }\n",
              "\n",
              "  .colab-df-quickchart {\n",
              "    background-color: var(--bg-color);\n",
              "    border: none;\n",
              "    border-radius: 50%;\n",
              "    cursor: pointer;\n",
              "    display: none;\n",
              "    fill: var(--fill-color);\n",
              "    height: 32px;\n",
              "    padding: 0;\n",
              "    width: 32px;\n",
              "  }\n",
              "\n",
              "  .colab-df-quickchart:hover {\n",
              "    background-color: var(--hover-bg-color);\n",
              "    box-shadow: 0 1px 2px rgba(60, 64, 67, 0.3), 0 1px 3px 1px rgba(60, 64, 67, 0.15);\n",
              "    fill: var(--button-hover-fill-color);\n",
              "  }\n",
              "\n",
              "  .colab-df-quickchart-complete:disabled,\n",
              "  .colab-df-quickchart-complete:disabled:hover {\n",
              "    background-color: var(--disabled-bg-color);\n",
              "    fill: var(--disabled-fill-color);\n",
              "    box-shadow: none;\n",
              "  }\n",
              "\n",
              "  .colab-df-spinner {\n",
              "    border: 2px solid var(--fill-color);\n",
              "    border-color: transparent;\n",
              "    border-bottom-color: var(--fill-color);\n",
              "    animation:\n",
              "      spin 1s steps(1) infinite;\n",
              "  }\n",
              "\n",
              "  @keyframes spin {\n",
              "    0% {\n",
              "      border-color: transparent;\n",
              "      border-bottom-color: var(--fill-color);\n",
              "      border-left-color: var(--fill-color);\n",
              "    }\n",
              "    20% {\n",
              "      border-color: transparent;\n",
              "      border-left-color: var(--fill-color);\n",
              "      border-top-color: var(--fill-color);\n",
              "    }\n",
              "    30% {\n",
              "      border-color: transparent;\n",
              "      border-left-color: var(--fill-color);\n",
              "      border-top-color: var(--fill-color);\n",
              "      border-right-color: var(--fill-color);\n",
              "    }\n",
              "    40% {\n",
              "      border-color: transparent;\n",
              "      border-right-color: var(--fill-color);\n",
              "      border-top-color: var(--fill-color);\n",
              "    }\n",
              "    60% {\n",
              "      border-color: transparent;\n",
              "      border-right-color: var(--fill-color);\n",
              "    }\n",
              "    80% {\n",
              "      border-color: transparent;\n",
              "      border-right-color: var(--fill-color);\n",
              "      border-bottom-color: var(--fill-color);\n",
              "    }\n",
              "    90% {\n",
              "      border-color: transparent;\n",
              "      border-bottom-color: var(--fill-color);\n",
              "    }\n",
              "  }\n",
              "</style>\n",
              "\n",
              "  <script>\n",
              "    async function quickchart(key) {\n",
              "      const quickchartButtonEl =\n",
              "        document.querySelector('#' + key + ' button');\n",
              "      quickchartButtonEl.disabled = true;  // To prevent multiple clicks.\n",
              "      quickchartButtonEl.classList.add('colab-df-spinner');\n",
              "      try {\n",
              "        const charts = await google.colab.kernel.invokeFunction(\n",
              "            'suggestCharts', [key], {});\n",
              "      } catch (error) {\n",
              "        console.error('Error during call to suggestCharts:', error);\n",
              "      }\n",
              "      quickchartButtonEl.classList.remove('colab-df-spinner');\n",
              "      quickchartButtonEl.classList.add('colab-df-quickchart-complete');\n",
              "    }\n",
              "    (() => {\n",
              "      let quickchartButtonEl =\n",
              "        document.querySelector('#df-afab9300-d7a5-4acf-89b0-f660f8cb546a button');\n",
              "      quickchartButtonEl.style.display =\n",
              "        google.colab.kernel.accessAllowed ? 'block' : 'none';\n",
              "    })();\n",
              "  </script>\n",
              "</div>\n",
              "    </div>\n",
              "  </div>\n"
            ],
            "application/vnd.google.colaboratory.intrinsic+json": {
              "type": "dataframe",
              "variable_name": "current_customer_list",
              "summary": "{\n  \"name\": \"current_customer_list\",\n  \"rows\": 5174,\n  \"fields\": [\n    {\n      \"column\": \"Stay_prob\",\n      \"properties\": {\n        \"dtype\": \"number\",\n        \"std\": 0.19323740982984944,\n        \"min\": 0.08674256774399033,\n        \"max\": 1.0,\n        \"num_unique_values\": 3841,\n        \"samples\": [\n          0.8740706421128351,\n          0.8562420435323012,\n          0.9021667394661587\n        ],\n        \"semantic_type\": \"\",\n        \"description\": \"\"\n      }\n    },\n    {\n      \"column\": \"Churn_prob\",\n      \"properties\": {\n        \"dtype\": \"number\",\n        \"std\": 0.19323740982984944,\n        \"min\": 0.0,\n        \"max\": 0.9132574322560096,\n        \"num_unique_values\": 3841,\n        \"samples\": [\n          0.12592935788716467,\n          0.14375795646769882,\n          0.09783326053384153\n        ],\n        \"semantic_type\": \"\",\n        \"description\": \"\"\n      }\n    },\n    {\n      \"column\": \"Churn Value\",\n      \"properties\": {\n        \"dtype\": \"number\",\n        \"std\": 0,\n        \"min\": 0,\n        \"max\": 0,\n        \"num_unique_values\": 1,\n        \"samples\": [\n          0\n        ],\n        \"semantic_type\": \"\",\n        \"description\": \"\"\n      }\n    }\n  ]\n}"
            }
          },
          "metadata": {},
          "execution_count": 84
        }
      ]
    },
    {
      "cell_type": "code",
      "source": [
        "# Creating a simple dataframe only including id and churn probability\n",
        "customer_list = current_customer_list[[\"Churn_prob\"]]"
      ],
      "metadata": {
        "id": "siLgv4W1nLJu"
      },
      "id": "siLgv4W1nLJu",
      "execution_count": null,
      "outputs": []
    },
    {
      "cell_type": "markdown",
      "source": [
        "Need customer list to exclude top 500"
      ],
      "metadata": {
        "id": "rxqBv8kgb8H-"
      },
      "id": "rxqBv8kgb8H-"
    },
    {
      "cell_type": "code",
      "source": [
        "# creating a dataframe with the top 500 most likely to churn ids and probablilites\n",
        "top_500_churn = customer_list.sort_values(\"Churn_prob\",ascending=False).head(500)"
      ],
      "metadata": {
        "id": "O0E9niTanzwf"
      },
      "id": "O0E9niTanzwf",
      "execution_count": null,
      "outputs": []
    },
    {
      "cell_type": "code",
      "source": [
        "# only want the indexs\n",
        "top_500_churn_index = top_500_churn.drop(\"Churn_prob\",axis=1)"
      ],
      "metadata": {
        "id": "auR7VTzXn_Ft"
      },
      "id": "auR7VTzXn_Ft",
      "execution_count": null,
      "outputs": []
    },
    {
      "cell_type": "code",
      "source": [
        "customer_list.shape"
      ],
      "metadata": {
        "colab": {
          "base_uri": "https://localhost:8080/"
        },
        "id": "jLFuwTds9MUR",
        "outputId": "5cd2ba30-3d51-47c4-d5ff-719a109030ed"
      },
      "id": "jLFuwTds9MUR",
      "execution_count": null,
      "outputs": [
        {
          "output_type": "execute_result",
          "data": {
            "text/plain": [
              "(5174, 1)"
            ]
          },
          "metadata": {},
          "execution_count": 136
        }
      ]
    },
    {
      "cell_type": "code",
      "source": [
        "# removing the top 500 from customer list\n",
        "customer_list.drop(top_500_churn_index.index,inplace=True)"
      ],
      "metadata": {
        "colab": {
          "base_uri": "https://localhost:8080/"
        },
        "id": "EvsRtkz48R2z",
        "outputId": "eee7dc5d-b293-445f-c94e-71069b76a7ac"
      },
      "id": "EvsRtkz48R2z",
      "execution_count": null,
      "outputs": [
        {
          "output_type": "stream",
          "name": "stderr",
          "text": [
            "<ipython-input-137-ca71dddb27d8>:2: SettingWithCopyWarning: \n",
            "A value is trying to be set on a copy of a slice from a DataFrame\n",
            "\n",
            "See the caveats in the documentation: https://pandas.pydata.org/pandas-docs/stable/user_guide/indexing.html#returning-a-view-versus-a-copy\n",
            "  customer_list.drop(top_500_churn_index.index,inplace=True)\n"
          ]
        }
      ]
    },
    {
      "cell_type": "code",
      "source": [
        "customer_list.shape"
      ],
      "metadata": {
        "colab": {
          "base_uri": "https://localhost:8080/"
        },
        "id": "3KAfTYEY_JXR",
        "outputId": "f56cd0f3-cd17-4bb0-e272-6a20feabf053"
      },
      "id": "3KAfTYEY_JXR",
      "execution_count": null,
      "outputs": [
        {
          "output_type": "execute_result",
          "data": {
            "text/plain": [
              "(4674, 1)"
            ]
          },
          "metadata": {},
          "execution_count": 139
        }
      ]
    },
    {
      "cell_type": "markdown",
      "source": [
        "### 6.2 Exporting"
      ],
      "metadata": {
        "id": "Rtbwo-hermj6"
      },
      "id": "Rtbwo-hermj6"
    },
    {
      "cell_type": "code",
      "source": [
        "# CSV creation\n",
        "\n",
        "top_500_churn_index.to_csv('top_500_churn.csv', index=True,header=False)\n",
        "customer_list.to_csv('customer_list.csv', index=True)"
      ],
      "metadata": {
        "id": "1pZQSXzcn_7v"
      },
      "id": "1pZQSXzcn_7v",
      "execution_count": null,
      "outputs": []
    },
    {
      "cell_type": "markdown",
      "source": [
        "----\n",
        "# 7.0 Exploring Incentives\n",
        "----\n",
        "We wanted to explore what we could offer the 500 most at-risk customers to reduce the churn rate. We chose to work with these three features as variables\n",
        "* **Internet service type**\n",
        "* **Monthly charges**\n",
        "* **Contract**\n",
        "\n",
        "We will initially calculate **churn rate** and **average probability to churn** in the top 500 customers. We will then compare these metrics against the top 500 customers with different offers applied. We have calculated these with the 50% probability threshold in mind but the broader insights would still apply for lowerthresholds and average probability to churn would be a good metric to keep an eye on this.\n"
      ],
      "metadata": {
        "id": "jhdxEVFOGZgp"
      },
      "id": "jhdxEVFOGZgp"
    },
    {
      "cell_type": "markdown",
      "source": [
        "## 7.1 Top 500 at-risk Customers\n",
        "We process the df to get the top 500 customers and then apply the feature engineering"
      ],
      "metadata": {
        "id": "q6V_WGcGkZnQ"
      },
      "id": "q6V_WGcGkZnQ"
    },
    {
      "cell_type": "code",
      "source": [
        "top_500 = df.loc[top_500_churn.index].copy()"
      ],
      "metadata": {
        "id": "GXXYiWRTp598"
      },
      "id": "GXXYiWRTp598",
      "execution_count": null,
      "outputs": []
    },
    {
      "cell_type": "code",
      "source": [
        "top_500[\"Internet Service\"].value_counts()"
      ],
      "metadata": {
        "id": "ycUA31eBGrlI",
        "colab": {
          "base_uri": "https://localhost:8080/"
        },
        "outputId": "0a16b982-f401-40e8-8646-c44d6701a4b7"
      },
      "id": "ycUA31eBGrlI",
      "execution_count": null,
      "outputs": [
        {
          "output_type": "execute_result",
          "data": {
            "text/plain": [
              "Fiber optic    398\n",
              "DSL            102\n",
              "Name: Internet Service, dtype: int64"
            ]
          },
          "metadata": {},
          "execution_count": 543
        }
      ]
    },
    {
      "cell_type": "code",
      "execution_count": null,
      "metadata": {
        "id": "gh70a9GALOJ8"
      },
      "outputs": [],
      "source": [
        "# feature engineering\n",
        "top_500 = top_500.drop(columns = ['Churn Reason', 'Lat Long', 'Latitude', 'Longitude', 'City', 'Churn Reason Categories'], axis=1).copy() # subscriptions may need to be dropped\n",
        "ordinary_service = feature_engineering(top_500, 'rf') # df of top 500\n",
        "# We need to reattach the missing OHE columns for model fitting\n",
        "ordinary_service ['IntServ_No'] = 0\n",
        "ordinary_service ['Cont_One year'] = 0\n",
        "ordinary_service ['Cont_Two year'] = 0\n",
        "ordinary_service = ordinary_service[feature_cols]"
      ],
      "id": "gh70a9GALOJ8"
    },
    {
      "cell_type": "code",
      "source": [
        "# Sum how many customers we expect to churn\n",
        "rf.predict(ordinary_service).sum()"
      ],
      "metadata": {
        "id": "uYI1VuZ8QCVr",
        "colab": {
          "base_uri": "https://localhost:8080/"
        },
        "outputId": "824c5d18-aea9-42e2-9f90-89fd7045d694"
      },
      "id": "uYI1VuZ8QCVr",
      "execution_count": null,
      "outputs": [
        {
          "output_type": "execute_result",
          "data": {
            "text/plain": [
              "500"
            ]
          },
          "metadata": {},
          "execution_count": 545
        }
      ]
    },
    {
      "cell_type": "code",
      "source": [
        "# Calculate average probability to churn\n",
        "og_probs = rf.predict_proba(ordinary_service)\n",
        "og_probs[:, 1].mean()"
      ],
      "metadata": {
        "id": "Fmjy3-KbSuLh",
        "colab": {
          "base_uri": "https://localhost:8080/"
        },
        "outputId": "1508650b-a9e5-4f3e-ffa2-2a6c8d78a488"
      },
      "id": "Fmjy3-KbSuLh",
      "execution_count": null,
      "outputs": [
        {
          "output_type": "execute_result",
          "data": {
            "text/plain": [
              "0.603918956381324"
            ]
          },
          "metadata": {},
          "execution_count": 546
        }
      ]
    },
    {
      "cell_type": "markdown",
      "source": [
        "For our top 500 at-risk customers, without applying any offers\n",
        "* **Predicted churn rate**: 100%\n",
        "* **Average churn probability**: ~60%\n"
      ],
      "metadata": {
        "id": "Fgp_LMciScXf"
      },
      "id": "Fgp_LMciScXf"
    },
    {
      "cell_type": "markdown",
      "source": [
        "## 7.2 Discounts to Monthly Rate\n",
        "We examine the effects of a 10%, 20% and 40% discount as we consider this to be a reasonable range of discounts."
      ],
      "metadata": {
        "id": "t6XhwDDpkh3Z"
      },
      "id": "t6XhwDDpkh3Z"
    },
    {
      "cell_type": "code",
      "source": [
        "def monthly_discount(df, discount):\n",
        "  ''' recalculates the monthly charges column based on a discount (decimal)'''\n",
        "  df = df.copy()\n",
        "  df[\"Monthly Charges\"] = df[\"Monthly Charges\"]*(1-discount)\n",
        "  return df"
      ],
      "metadata": {
        "id": "lnGTdYS6G0j3"
      },
      "id": "lnGTdYS6G0j3",
      "execution_count": null,
      "outputs": []
    },
    {
      "cell_type": "code",
      "source": [
        "df_discount_10 = monthly_discount(ordinary_service, 0.1)\n",
        "df_discount_20 = monthly_discount(ordinary_service, 0.2)\n",
        "df_discount_40 = monthly_discount(ordinary_service, 0.4)"
      ],
      "metadata": {
        "id": "Lxkem9bMHvLF"
      },
      "id": "Lxkem9bMHvLF",
      "execution_count": null,
      "outputs": []
    },
    {
      "cell_type": "code",
      "source": [
        "print(f\"Churn rate with a 10% discount is {round((rf.predict(df_discount_10).sum()/500)*100, 2)}%\")\n",
        "print(f\"Churn rate with a 20% discount is {round((rf.predict(df_discount_20).sum()/500)*100, 2)}%\")\n",
        "print(f\"Churn rate with a 40% discount is {round((rf.predict(df_discount_40).sum()/500)*100, 2)}%\")"
      ],
      "metadata": {
        "id": "7fQ_rmqFTxlA",
        "colab": {
          "base_uri": "https://localhost:8080/"
        },
        "outputId": "4613293e-4462-45ec-fcf4-00b2de5364b5"
      },
      "id": "7fQ_rmqFTxlA",
      "execution_count": null,
      "outputs": [
        {
          "output_type": "stream",
          "name": "stdout",
          "text": [
            "Churn rate with a 10% discount is 73.4%\n",
            "Churn rate with a 20% discount is 57.6%\n",
            "Churn rate with a 40% discount is 40.4%\n"
          ]
        }
      ]
    },
    {
      "cell_type": "code",
      "source": [
        "og_probs = rf.predict_proba(df_discount_40)\n",
        "og_probs[:, 1].mean()"
      ],
      "metadata": {
        "id": "UYf-WKLcMuib",
        "colab": {
          "base_uri": "https://localhost:8080/"
        },
        "outputId": "fa8ae4b4-fcb0-4349-e82b-86881dc39b10"
      },
      "id": "UYf-WKLcMuib",
      "execution_count": null,
      "outputs": [
        {
          "output_type": "execute_result",
          "data": {
            "text/plain": [
              "0.5065584105493017"
            ]
          },
          "metadata": {},
          "execution_count": 572
        }
      ]
    },
    {
      "cell_type": "markdown",
      "source": [
        "## 7.3 Internet Service Offers\n",
        "around 10% of our top 500 at-risk customer are on DSL and around 90% are on fibre optic. We've seen that fibre optic is a good indicator that someone may churn. If it's possible, could we offer a switch to DSL if our fibre optic lines are doing well?"
      ],
      "metadata": {
        "id": "LchEFdK5n_KN"
      },
      "id": "LchEFdK5n_KN"
    },
    {
      "cell_type": "code",
      "source": [
        "df_internet = ordinary_service.copy()\n",
        "df_internet['IntServ_DSL'] = 1\n",
        "df_internet['IntServ_Fiber optic'] = 0\n",
        "df_internet['IntServ_No'] = 0"
      ],
      "metadata": {
        "id": "sfKa7IdYUMkq"
      },
      "id": "sfKa7IdYUMkq",
      "execution_count": null,
      "outputs": []
    },
    {
      "cell_type": "code",
      "source": [
        "print(f\"Churn rate is {round((rf.predict(df_internet).sum()/500)*100, 2)}%\")"
      ],
      "metadata": {
        "id": "CC8HHsfbVOXA",
        "colab": {
          "base_uri": "https://localhost:8080/"
        },
        "outputId": "c349dd02-4ecf-4a4f-e094-efb186298097"
      },
      "id": "CC8HHsfbVOXA",
      "execution_count": null,
      "outputs": [
        {
          "output_type": "stream",
          "name": "stdout",
          "text": [
            "Churn rate is 20.4%\n"
          ]
        }
      ]
    },
    {
      "cell_type": "code",
      "source": [
        "disc_proba = rf.predict_proba(df_internet)\n",
        "print(disc_proba[:, 1].mean())"
      ],
      "metadata": {
        "id": "uYvzMKKGVQDS",
        "colab": {
          "base_uri": "https://localhost:8080/"
        },
        "outputId": "d6ea2e16-0359-4657-86e1-25a623cf3f80"
      },
      "id": "uYvzMKKGVQDS",
      "execution_count": null,
      "outputs": [
        {
          "output_type": "stream",
          "name": "stdout",
          "text": [
            "0.35520920125574584\n"
          ]
        }
      ]
    },
    {
      "cell_type": "markdown",
      "source": [
        "## 7.4 Changes in Contract\n",
        "We could consider offering a change in contract in conjunction with the other offers. By itself it does not make as much sense for the top 500 at-risk customers. However, it may be a strong indicator for initial sign-ups."
      ],
      "metadata": {
        "id": "L3eUsde4pJo0"
      },
      "id": "L3eUsde4pJo0"
    },
    {
      "cell_type": "code",
      "source": [
        "df_contract_1y = ordinary_service.copy()\n",
        "df_contract_2y = ordinary_service.copy()"
      ],
      "metadata": {
        "id": "AKGoEa49JECE"
      },
      "id": "AKGoEa49JECE",
      "execution_count": null,
      "outputs": []
    },
    {
      "cell_type": "code",
      "source": [
        "df_contract_1y['Cont_One year'] = 1\n",
        "df_contract_1y['Cont_Month-to-month'] = 0\n",
        "df_contract_2y['Cont_Two year'] = 1\n",
        "df_contract_2y['Cont_Month-to-month'] = 0"
      ],
      "metadata": {
        "id": "Gmmfl6s5zR_q"
      },
      "id": "Gmmfl6s5zR_q",
      "execution_count": null,
      "outputs": []
    },
    {
      "cell_type": "code",
      "source": [
        "print(f\"Churn rate is {round((rf.predict(df_contract_1y).sum()/500)*100, 2)}%\")\n",
        "print(f\"Churn rate is {round((rf.predict(df_contract_2y).sum()/500)*100, 2)}%\")"
      ],
      "metadata": {
        "id": "pBQ1I-IkJx9a",
        "colab": {
          "base_uri": "https://localhost:8080/"
        },
        "outputId": "fd637b61-b118-456d-860c-20f6b4eedc7f"
      },
      "id": "pBQ1I-IkJx9a",
      "execution_count": null,
      "outputs": [
        {
          "output_type": "stream",
          "name": "stdout",
          "text": [
            "Churn rate is 0.2%\n",
            "Churn rate is 0.0%\n"
          ]
        }
      ]
    },
    {
      "cell_type": "code",
      "source": [
        "disc_proba = rf.predict_proba(df_contract_2y)\n",
        "print(disc_proba[:, 1].mean())"
      ],
      "metadata": {
        "id": "HrIKg_SFKOFW",
        "colab": {
          "base_uri": "https://localhost:8080/"
        },
        "outputId": "8aaae6bd-af1a-4c3c-eaf5-d2b0d0d6ccd8"
      },
      "id": "HrIKg_SFKOFW",
      "execution_count": null,
      "outputs": [
        {
          "output_type": "stream",
          "name": "stdout",
          "text": [
            "0.19946896413586068\n"
          ]
        }
      ]
    },
    {
      "cell_type": "markdown",
      "source": [
        "The performance of different contract types is stark. Using this, we can confidently recommend the type of contract to be what sales advisors focus on for customer sign-ups (and can be incentivized with the $2.50 per customer bonus)."
      ],
      "metadata": {
        "id": "FqZ5bIfmu6Sx"
      },
      "id": "FqZ5bIfmu6Sx"
    },
    {
      "cell_type": "markdown",
      "source": [
        "## 7.5 Misc\n",
        "Distribution of churning probabilities bucketed"
      ],
      "metadata": {
        "id": "SHHDCrMnNJae"
      },
      "id": "SHHDCrMnNJae"
    },
    {
      "cell_type": "code",
      "source": [
        "bins = [0, 0.1, 0.3,  0.4, 0.6, 0.8]\n",
        "labels = ['Very Low Risk', 'Low Risk', 'Medium Risk', 'High Risk', 'Very High Risk']\n",
        "current_customer_list['Risk_Level'] = pd.cut(current_customer_list['Churn_prob'], bins=bins, labels=labels, include_lowest=True)"
      ],
      "metadata": {
        "id": "9UROuRVVNvuP",
        "colab": {
          "base_uri": "https://localhost:8080/"
        },
        "outputId": "c05c4fef-faf0-4df3-e17e-2407767df272"
      },
      "id": "9UROuRVVNvuP",
      "execution_count": null,
      "outputs": [
        {
          "output_type": "stream",
          "name": "stderr",
          "text": [
            "<ipython-input-558-615bc28d078a>:3: SettingWithCopyWarning: \n",
            "A value is trying to be set on a copy of a slice from a DataFrame.\n",
            "Try using .loc[row_indexer,col_indexer] = value instead\n",
            "\n",
            "See the caveats in the documentation: https://pandas.pydata.org/pandas-docs/stable/user_guide/indexing.html#returning-a-view-versus-a-copy\n",
            "  current_customer_list['Risk_Level'] = pd.cut(current_customer_list['Churn_prob'], bins=bins, labels=labels, include_lowest=True)\n"
          ]
        }
      ]
    },
    {
      "cell_type": "code",
      "source": [
        "\n",
        "sns.countplot(x='Risk_Level', data=current_customer_list, order=labels, color = '#163e67')\n",
        "plt.xlabel('Churn Risk Level')\n",
        "plt.ylabel('Customer Count')\n",
        "plt.title('Churn Risk Distribution of Active Customer Base')\n",
        "plt.xticks(rotation=45, ha='right')\n",
        "plt.show()"
      ],
      "metadata": {
        "id": "HRhkOte0a0wq",
        "colab": {
          "base_uri": "https://localhost:8080/",
          "height": 554
        },
        "outputId": "7c899ba3-39d9-4543-f071-1c6eea6afd2a"
      },
      "id": "HRhkOte0a0wq",
      "execution_count": null,
      "outputs": [
        {
          "output_type": "display_data",
          "data": {
            "text/plain": [
              "<Figure size 640x480 with 1 Axes>"
            ],
            "image/png": "[encoded data removed]"
          },
          "metadata": {}
        }
      ]
    }
  ],
  "metadata": {
    "kernelspec": {
      "display_name": "Python 3 (ipykernel)",
      "language": "python",
      "name": "python3"
    },
    "language_info": {
      "codemirror_mode": {
        "name": "ipython",
        "version": 3
      },
      "file_extension": ".py",
      "mimetype": "text/x-python",
      "name": "python",
      "nbconvert_exporter": "python",
      "pygments_lexer": "ipython3",
      "version": "3.9.18"
    },
    "colab": {
      "provenance": [],
      "toc_visible": true
    }
  },
  "nbformat": 4,
  "nbformat_minor": 5
}